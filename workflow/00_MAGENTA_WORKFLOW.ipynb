{
 "cells": [
  {
   "cell_type": "markdown",
   "metadata": {
    "id": "SY-e9AKStOu0"
   },
   "source": [
    "# **MAGENTA:** The Global **MA**ngrove **GEN**e Ca**TA**logue\n"
   ]
  },
  {
   "cell_type": "markdown",
   "metadata": {
    "id": "dkdcodX9ugwf"
   },
   "source": [
    "---\n",
    "**MAGENTA**, un catálogo integrado y consistentemente procesado de genes del mundo microbiano de los maglares."
   ]
  },
  {
   "cell_type": "markdown",
   "metadata": {
    "id": "SsiqCJkjQlN9"
   },
   "source": [
    "---\n",
    "# SUMMARY"
   ]
  },
  {
   "cell_type": "markdown",
   "metadata": {
    "id": "-ukk-OjtGPZk"
   },
   "source": [
    "---\n",
    "Los manglares son una conocida reserva de diversidad biológica y un ecosistema altamente productivo. Diversos estudios metagenómicos en diferentes partes del mundo han reconocido a la comunidad microbiana del manglar como un agente importante dentro de los ciclos biogeoquímicos, en los cuales se llevan a cabo procesos tales como la transformación del carbono, la fotosíntesis, la fijación de nitrógeno y la reducción de azufre. En la actualidad, sin embargo, no contamos con una herramienta informática que nos permita entender estos procesos y relaciones a una **escala global**."
   ]
  },
  {
   "cell_type": "markdown",
   "metadata": {
    "id": "9WD-U943GPDC"
   },
   "source": [
    "**MAGENTA** (o Global **MA**ngrove **GEN**e Ca**TA**logue) actúa como un catálogo global de genes únicos y no redundantes a nivel de especie (agrupados al 95% de identidad de nucleótidos) que, a partir de los datos de libre acceso disponibles en bases de datos especializadas (WGS, metagenomas de acceso público - ENA) de cinco de los principales hábitats de la comunidad microbiana del manglar (rizosfera, agua de mar, sedimento, suelo, humedal), busca formular nuevas hipótesis sobre la abundancia, distribución y funciones metabólicas de los microorganismos en el ecosistema del manglar, con miras a atender esta necesidad.\n",
    "\n"
   ]
  },
  {
   "cell_type": "markdown",
   "metadata": {
    "id": "tx4u-w5K0pv_"
   },
   "source": [
    "---\n",
    "# METHODS"
   ]
  },
  {
   "cell_type": "markdown",
   "metadata": {
    "id": "Ah8ehpec4gO_"
   },
   "source": [
    "# Selection of Metagenomes: *Search and Retrieve Mangrove Metagenome Selected Datasets*"
   ]
  },
  {
   "cell_type": "markdown",
   "metadata": {
    "id": "e5vbztlq4yaN"
   },
   "source": [
    "## **Setting Up the Magenta Workspace**\n",
    "Establish the directory structure for the Magenta workspace"
   ]
  },
  {
   "cell_type": "code",
   "execution_count": 282,
   "metadata": {},
   "outputs": [],
   "source": [
    "! mkdir -p MAGENTA/{data/{raw,clean},results,metadata,scripts}"
   ]
  },
  {
   "cell_type": "code",
   "execution_count": 285,
   "metadata": {},
   "outputs": [],
   "source": [
    "# Create directory paths \n",
    "metadata_path = \"/home/jupyter-andres/MAGENTA/metadata/\"\n",
    "rawdata_path = \"/home/jupyter-andres/MAGENTA/data/raw/\"\n",
    "data_path = \"/home/jupyter-andres/MAGENTA/data/clean/\"\n",
    "scripts_path = \"/home/jupyter-andres/MAGENTA/scripts/\"\n"
   ]
  },
  {
   "cell_type": "markdown",
   "metadata": {
    "id": "muL9_Qqt2npz"
   },
   "source": [
    "Import the necessary libraries"
   ]
  },
  {
   "cell_type": "code",
   "execution_count": 286,
   "metadata": {
    "id": "9HzOCYx-2gwL"
   },
   "outputs": [],
   "source": [
    "from io import StringIO\n",
    "import pandas as pd\n",
    "import requests\n",
    "import matplotlib.pyplot as plt\n",
    "import plotly.express as px"
   ]
  },
  {
   "cell_type": "markdown",
   "metadata": {
    "id": "e5vbztlq4yaN"
   },
   "source": [
    "## **Searching Mangrove Metagenome Datasets**\n",
    "Search for *mangrove metagenome* publicly available datasets from the European Nucleotide Archive (ENA Portal API)."
   ]
  },
  {
   "cell_type": "markdown",
   "metadata": {
    "id": "cWEaZVGmpe2Q",
    "jp-MarkdownHeadingCollapsed": true
   },
   "source": [
    "### **Target search for \"mangrove metagenome\" datasets**\n",
    "Search for mangrove metagenome WGS datasets *(raw reads)* programmatically through an \"advanced search\"."
   ]
  },
  {
   "cell_type": "markdown",
   "metadata": {
    "id": "GVE6dYK3ZD7K"
   },
   "source": [
    "**Advanced Search**:\n",
    "- result : read_run (*raw reads*)\n",
    "- query :\n",
    "    - library_strategy = \"WGS\" (*sequencing technique intended for the library*)\n",
    "    - sample_description = \"mangrove\" (*detailed sample description*)\n",
    "- fields : run_accesion, study_accesion, etc."
   ]
  },
  {
   "cell_type": "markdown",
   "metadata": {
    "id": "1Z-pi5v3F6Co"
   },
   "source": [
    "    \n",
    "    \n",
    "    A brief description of the advanced search \"fields\" used:\n",
    "\n",
    "    \n",
    "<div align=\"center\">\n",
    "<table>\n",
    "  <tr>\n",
    "    <th>Fields</th>\n",
    "    <th>Description</th>\n",
    "  </tr>\n",
    "  <tr>\n",
    "    <td>run_accesion</td>\n",
    "    <td><em>run accession number</em></td>\n",
    "  </tr>\n",
    "  <tr>\n",
    "    <td>study_accession</td>\n",
    "    <td><em>study accession number</em></td>\n",
    "  </tr>\n",
    "  <tr>\n",
    "    <td>sample_description</td>\n",
    "    <td><em>detailed sample description</em></td>\n",
    "  </tr>\n",
    "  <tr>\n",
    "    <td>library_strategy</td>\n",
    "    <td><em>sequencing technique intended for the library</em></td>\n",
    "  </tr>\n",
    "  <tr>\n",
    "    <td>scientific_name</td>\n",
    "    <td><em>scientific name of an organism</em></td>\n",
    "  </tr>\n",
    "  <tr>\n",
    "    <td>instrument_platform</td>\n",
    "    <td><em>instrument platform</em></td>\n",
    "  </tr>\n",
    "   <tr>\n",
    "   <tr>\n",
    "    <td>instrument_model</td>\n",
    "    <td><em>instrument model used in sequencing experiment</em></td>\n",
    "  </tr>\n",
    "   <tr>\n",
    "    <td>location</td>\n",
    "    <td><em>geographic location of isolation of the sample<em></td>\n",
    "  </tr>\n",
    "  <tr>\n",
    "    <td><em>country<em></td>\n",
    "    <td><em>locality of sample isolation<em></td>\n",
    "  </tr>\n",
    "  </table>\n",
    "\n",
    "</div>\n"
   ]
  },
  {
   "cell_type": "markdown",
   "metadata": {
    "id": "MILT7JOI7J9d"
   },
   "source": [
    "    \n",
    "    For more information visit:\n",
    "    https://ena-docs.readthedocs.io/en/latest/retrieval/programmatic-access/advanced-search.html#retrieve-raw-read-and-primary-metagenome-datasets-for-cow-rumen-samples-collected-in-the-uk\n",
    "    https://www.ebi.ac.uk/ena/portal/api/swagger-ui/index.html\n"
   ]
  },
  {
   "cell_type": "code",
   "execution_count": 287,
   "metadata": {
    "colab": {
     "base_uri": "https://localhost:8080/",
     "height": 1000
    },
    "id": "bjM_Fk_OspsB",
    "outputId": "7b1d78b7-054e-44f7-f594-7051cd15d363"
   },
   "outputs": [
    {
     "data": {
      "text/html": [
       "<div>\n",
       "<style scoped>\n",
       "    .dataframe tbody tr th:only-of-type {\n",
       "        vertical-align: middle;\n",
       "    }\n",
       "\n",
       "    .dataframe tbody tr th {\n",
       "        vertical-align: top;\n",
       "    }\n",
       "\n",
       "    .dataframe thead th {\n",
       "        text-align: right;\n",
       "    }\n",
       "</style>\n",
       "<table border=\"1\" class=\"dataframe\">\n",
       "  <thead>\n",
       "    <tr style=\"text-align: right;\">\n",
       "      <th></th>\n",
       "      <th>run_accession</th>\n",
       "      <th>sample_accession</th>\n",
       "      <th>study_accession</th>\n",
       "      <th>sample_description</th>\n",
       "      <th>study_title</th>\n",
       "      <th>library_strategy</th>\n",
       "      <th>scientific_name</th>\n",
       "      <th>instrument_platform</th>\n",
       "      <th>instrument_model</th>\n",
       "      <th>collection_date_end</th>\n",
       "      <th>location</th>\n",
       "      <th>lat</th>\n",
       "      <th>lon</th>\n",
       "      <th>country</th>\n",
       "      <th>fastq_bytes</th>\n",
       "      <th>fastq_ftp</th>\n",
       "    </tr>\n",
       "  </thead>\n",
       "  <tbody>\n",
       "    <tr>\n",
       "      <th>0</th>\n",
       "      <td>SRR6820482</td>\n",
       "      <td>SAMN08667649</td>\n",
       "      <td>PRJNA437562</td>\n",
       "      <td>Mangrove soil</td>\n",
       "      <td>Mangrove metavirome</td>\n",
       "      <td>WGS</td>\n",
       "      <td>soil metagenome</td>\n",
       "      <td>ILLUMINA</td>\n",
       "      <td>Illumina HiSeq 4000</td>\n",
       "      <td>2016-08-31</td>\n",
       "      <td></td>\n",
       "      <td></td>\n",
       "      <td></td>\n",
       "      <td>China:Guanxi, Beibu bay</td>\n",
       "      <td>664293217;860299461</td>\n",
       "      <td>ftp.sra.ebi.ac.uk/vol1/fastq/SRR682/002/SRR682...</td>\n",
       "    </tr>\n",
       "    <tr>\n",
       "      <th>1</th>\n",
       "      <td>SRR6820484</td>\n",
       "      <td>SAMN08667647</td>\n",
       "      <td>PRJNA437562</td>\n",
       "      <td>Mangrove soil</td>\n",
       "      <td>Mangrove metavirome</td>\n",
       "      <td>WGS</td>\n",
       "      <td>soil metagenome</td>\n",
       "      <td>ILLUMINA</td>\n",
       "      <td>Illumina HiSeq 4000</td>\n",
       "      <td>2015-08-31</td>\n",
       "      <td></td>\n",
       "      <td></td>\n",
       "      <td></td>\n",
       "      <td>China:Guanxi, Beibu bay</td>\n",
       "      <td>761183546;990840409</td>\n",
       "      <td>ftp.sra.ebi.ac.uk/vol1/fastq/SRR682/004/SRR682...</td>\n",
       "    </tr>\n",
       "    <tr>\n",
       "      <th>2</th>\n",
       "      <td>SRR6820485</td>\n",
       "      <td>SAMN08667652</td>\n",
       "      <td>PRJNA437562</td>\n",
       "      <td>Mangrove soil</td>\n",
       "      <td>Mangrove metavirome</td>\n",
       "      <td>WGS</td>\n",
       "      <td>soil metagenome</td>\n",
       "      <td>ILLUMINA</td>\n",
       "      <td>Illumina HiSeq 4000</td>\n",
       "      <td>2017-03-31</td>\n",
       "      <td></td>\n",
       "      <td></td>\n",
       "      <td></td>\n",
       "      <td>China:Hainan, Yalong bay</td>\n",
       "      <td>915466402;1212721632</td>\n",
       "      <td>ftp.sra.ebi.ac.uk/vol1/fastq/SRR682/005/SRR682...</td>\n",
       "    </tr>\n",
       "    <tr>\n",
       "      <th>3</th>\n",
       "      <td>ERR4833476</td>\n",
       "      <td>SAMEA7567423</td>\n",
       "      <td>PRJEB41295</td>\n",
       "      <td>Mangrove rhizosphere metagenome</td>\n",
       "      <td>Native and introduced mangroves select distinc...</td>\n",
       "      <td>WGS</td>\n",
       "      <td>mangrove metagenome</td>\n",
       "      <td>ILLUMINA</td>\n",
       "      <td>NextSeq 550</td>\n",
       "      <td>2018-12-31</td>\n",
       "      <td>23.27 N 116.52 E</td>\n",
       "      <td>23.27</td>\n",
       "      <td>116.52</td>\n",
       "      <td>China</td>\n",
       "      <td>3585629891;3960554345</td>\n",
       "      <td>ftp.sra.ebi.ac.uk/vol1/fastq/ERR483/006/ERR483...</td>\n",
       "    </tr>\n",
       "    <tr>\n",
       "      <th>4</th>\n",
       "      <td>ERR4833477</td>\n",
       "      <td>SAMEA7567424</td>\n",
       "      <td>PRJEB41295</td>\n",
       "      <td>Mangrove rhizosphere metagenome</td>\n",
       "      <td>Native and introduced mangroves select distinc...</td>\n",
       "      <td>WGS</td>\n",
       "      <td>mangrove metagenome</td>\n",
       "      <td>ILLUMINA</td>\n",
       "      <td>NextSeq 550</td>\n",
       "      <td>2018-12-31</td>\n",
       "      <td>23.27 N 116.52 E</td>\n",
       "      <td>23.27</td>\n",
       "      <td>116.52</td>\n",
       "      <td>China</td>\n",
       "      <td>3675375581;4063769533</td>\n",
       "      <td>ftp.sra.ebi.ac.uk/vol1/fastq/ERR483/007/ERR483...</td>\n",
       "    </tr>\n",
       "    <tr>\n",
       "      <th>...</th>\n",
       "      <td>...</td>\n",
       "      <td>...</td>\n",
       "      <td>...</td>\n",
       "      <td>...</td>\n",
       "      <td>...</td>\n",
       "      <td>...</td>\n",
       "      <td>...</td>\n",
       "      <td>...</td>\n",
       "      <td>...</td>\n",
       "      <td>...</td>\n",
       "      <td>...</td>\n",
       "      <td>...</td>\n",
       "      <td>...</td>\n",
       "      <td>...</td>\n",
       "      <td>...</td>\n",
       "      <td>...</td>\n",
       "    </tr>\n",
       "    <tr>\n",
       "      <th>245</th>\n",
       "      <td>SRR24201527</td>\n",
       "      <td>SAMN33848497</td>\n",
       "      <td>PRJNA947344</td>\n",
       "      <td>Whole metagenome of rhizosphere soil of Kalibh...</td>\n",
       "      <td>Whole-metagenome shotgun sequencing of soil sa...</td>\n",
       "      <td>WGS</td>\n",
       "      <td>soil metagenome</td>\n",
       "      <td>ILLUMINA</td>\n",
       "      <td>Illumina NovaSeq 6000</td>\n",
       "      <td>2021-10-02</td>\n",
       "      <td>20.775 N 86.9253 E</td>\n",
       "      <td>20.775</td>\n",
       "      <td>86.9253</td>\n",
       "      <td>India: Bhitarkanika mangrove forest, Odisha</td>\n",
       "      <td>2700127663;2824067298</td>\n",
       "      <td>ftp.sra.ebi.ac.uk/vol1/fastq/SRR242/027/SRR242...</td>\n",
       "    </tr>\n",
       "    <tr>\n",
       "      <th>246</th>\n",
       "      <td>SRR5019746</td>\n",
       "      <td>SAMN06011245</td>\n",
       "      <td>PRJNA353167</td>\n",
       "      <td>This strain of Pseudomonas hussainii named MB3...</td>\n",
       "      <td>Pseudomonas hussainii strain:MB3 Genome sequen...</td>\n",
       "      <td>WGS</td>\n",
       "      <td>Atopomonas hussainii</td>\n",
       "      <td>ILLUMINA</td>\n",
       "      <td>NextSeq 500</td>\n",
       "      <td>2015-09-30</td>\n",
       "      <td>11.5061 N 92.7017 E</td>\n",
       "      <td>11.5061</td>\n",
       "      <td>92.7017</td>\n",
       "      <td>India: Andaman islands</td>\n",
       "      <td>56828614</td>\n",
       "      <td>ftp.sra.ebi.ac.uk/vol1/fastq/SRR501/006/SRR501...</td>\n",
       "    </tr>\n",
       "    <tr>\n",
       "      <th>247</th>\n",
       "      <td>ERR12658426</td>\n",
       "      <td>SAMEA115283882</td>\n",
       "      <td>PRJEB72453</td>\n",
       "      <td>Sample four from the sixth transfer of the mic...</td>\n",
       "      <td>Explore and identify the functional potential ...</td>\n",
       "      <td>WGS</td>\n",
       "      <td>mangrove metagenome</td>\n",
       "      <td>ILLUMINA</td>\n",
       "      <td>Illumina NovaSeq 6000</td>\n",
       "      <td>2021-06-30</td>\n",
       "      <td>10.26366 N 75.59169 W</td>\n",
       "      <td>10.26366</td>\n",
       "      <td>-75.59169</td>\n",
       "      <td>Colombia</td>\n",
       "      <td>2944631619;3055381112</td>\n",
       "      <td>ftp.sra.ebi.ac.uk/vol1/fastq/ERR126/026/ERR126...</td>\n",
       "    </tr>\n",
       "    <tr>\n",
       "      <th>248</th>\n",
       "      <td>SRR26872073</td>\n",
       "      <td>SAMN38153217</td>\n",
       "      <td>PRJNA1036849</td>\n",
       "      <td>Lutjanus argentimaculatus, commonly referred t...</td>\n",
       "      <td>Lutjanus argentimaculatus Genome sequencing an...</td>\n",
       "      <td>WGS</td>\n",
       "      <td>Lutjanus argentimaculatus</td>\n",
       "      <td>ILLUMINA</td>\n",
       "      <td>Illumina NovaSeq 6000</td>\n",
       "      <td>2021-02-09</td>\n",
       "      <td></td>\n",
       "      <td></td>\n",
       "      <td></td>\n",
       "      <td>India: Chennai, Tamilnadu</td>\n",
       "      <td>13006149594;12989827686</td>\n",
       "      <td>ftp.sra.ebi.ac.uk/vol1/fastq/SRR268/073/SRR268...</td>\n",
       "    </tr>\n",
       "    <tr>\n",
       "      <th>249</th>\n",
       "      <td>SRR8299411</td>\n",
       "      <td>SAMN07357232</td>\n",
       "      <td>PRJNA394679</td>\n",
       "      <td>In this study, bacteria belonging to Planctomy...</td>\n",
       "      <td>Rhodopirellula sp. MGV Genome sequencing and a...</td>\n",
       "      <td>WGS</td>\n",
       "      <td>Rhodopirellula sp. MGV</td>\n",
       "      <td>ION_TORRENT</td>\n",
       "      <td>Ion Torrent PGM</td>\n",
       "      <td>2013-04-10</td>\n",
       "      <td>23.8964 S 46.2139 W</td>\n",
       "      <td>-23.8964</td>\n",
       "      <td>-46.2139</td>\n",
       "      <td>Brazil: Sao Paulo, Bertioga</td>\n",
       "      <td>765105920</td>\n",
       "      <td>ftp.sra.ebi.ac.uk/vol1/fastq/SRR829/001/SRR829...</td>\n",
       "    </tr>\n",
       "  </tbody>\n",
       "</table>\n",
       "<p>250 rows × 16 columns</p>\n",
       "</div>"
      ],
      "text/plain": [
       "    run_accession sample_accession study_accession  \\\n",
       "0      SRR6820482     SAMN08667649     PRJNA437562   \n",
       "1      SRR6820484     SAMN08667647     PRJNA437562   \n",
       "2      SRR6820485     SAMN08667652     PRJNA437562   \n",
       "3      ERR4833476     SAMEA7567423      PRJEB41295   \n",
       "4      ERR4833477     SAMEA7567424      PRJEB41295   \n",
       "..            ...              ...             ...   \n",
       "245   SRR24201527     SAMN33848497     PRJNA947344   \n",
       "246    SRR5019746     SAMN06011245     PRJNA353167   \n",
       "247   ERR12658426   SAMEA115283882      PRJEB72453   \n",
       "248   SRR26872073     SAMN38153217    PRJNA1036849   \n",
       "249    SRR8299411     SAMN07357232     PRJNA394679   \n",
       "\n",
       "                                    sample_description  \\\n",
       "0                                        Mangrove soil   \n",
       "1                                        Mangrove soil   \n",
       "2                                        Mangrove soil   \n",
       "3                      Mangrove rhizosphere metagenome   \n",
       "4                      Mangrove rhizosphere metagenome   \n",
       "..                                                 ...   \n",
       "245  Whole metagenome of rhizosphere soil of Kalibh...   \n",
       "246  This strain of Pseudomonas hussainii named MB3...   \n",
       "247  Sample four from the sixth transfer of the mic...   \n",
       "248  Lutjanus argentimaculatus, commonly referred t...   \n",
       "249  In this study, bacteria belonging to Planctomy...   \n",
       "\n",
       "                                           study_title library_strategy  \\\n",
       "0                                  Mangrove metavirome              WGS   \n",
       "1                                  Mangrove metavirome              WGS   \n",
       "2                                  Mangrove metavirome              WGS   \n",
       "3    Native and introduced mangroves select distinc...              WGS   \n",
       "4    Native and introduced mangroves select distinc...              WGS   \n",
       "..                                                 ...              ...   \n",
       "245  Whole-metagenome shotgun sequencing of soil sa...              WGS   \n",
       "246  Pseudomonas hussainii strain:MB3 Genome sequen...              WGS   \n",
       "247  Explore and identify the functional potential ...              WGS   \n",
       "248  Lutjanus argentimaculatus Genome sequencing an...              WGS   \n",
       "249  Rhodopirellula sp. MGV Genome sequencing and a...              WGS   \n",
       "\n",
       "               scientific_name instrument_platform       instrument_model  \\\n",
       "0              soil metagenome            ILLUMINA    Illumina HiSeq 4000   \n",
       "1              soil metagenome            ILLUMINA    Illumina HiSeq 4000   \n",
       "2              soil metagenome            ILLUMINA    Illumina HiSeq 4000   \n",
       "3          mangrove metagenome            ILLUMINA            NextSeq 550   \n",
       "4          mangrove metagenome            ILLUMINA            NextSeq 550   \n",
       "..                         ...                 ...                    ...   \n",
       "245            soil metagenome            ILLUMINA  Illumina NovaSeq 6000   \n",
       "246       Atopomonas hussainii            ILLUMINA            NextSeq 500   \n",
       "247        mangrove metagenome            ILLUMINA  Illumina NovaSeq 6000   \n",
       "248  Lutjanus argentimaculatus            ILLUMINA  Illumina NovaSeq 6000   \n",
       "249     Rhodopirellula sp. MGV         ION_TORRENT        Ion Torrent PGM   \n",
       "\n",
       "    collection_date_end               location       lat        lon  \\\n",
       "0            2016-08-31                                               \n",
       "1            2015-08-31                                               \n",
       "2            2017-03-31                                               \n",
       "3            2018-12-31       23.27 N 116.52 E     23.27     116.52   \n",
       "4            2018-12-31       23.27 N 116.52 E     23.27     116.52   \n",
       "..                  ...                    ...       ...        ...   \n",
       "245          2021-10-02     20.775 N 86.9253 E    20.775    86.9253   \n",
       "246          2015-09-30    11.5061 N 92.7017 E   11.5061    92.7017   \n",
       "247          2021-06-30  10.26366 N 75.59169 W  10.26366  -75.59169   \n",
       "248          2021-02-09                                               \n",
       "249          2013-04-10    23.8964 S 46.2139 W  -23.8964   -46.2139   \n",
       "\n",
       "                                         country              fastq_bytes  \\\n",
       "0                        China:Guanxi, Beibu bay      664293217;860299461   \n",
       "1                        China:Guanxi, Beibu bay      761183546;990840409   \n",
       "2                       China:Hainan, Yalong bay     915466402;1212721632   \n",
       "3                                          China    3585629891;3960554345   \n",
       "4                                          China    3675375581;4063769533   \n",
       "..                                           ...                      ...   \n",
       "245  India: Bhitarkanika mangrove forest, Odisha    2700127663;2824067298   \n",
       "246                       India: Andaman islands                 56828614   \n",
       "247                                     Colombia    2944631619;3055381112   \n",
       "248                    India: Chennai, Tamilnadu  13006149594;12989827686   \n",
       "249                  Brazil: Sao Paulo, Bertioga                765105920   \n",
       "\n",
       "                                             fastq_ftp  \n",
       "0    ftp.sra.ebi.ac.uk/vol1/fastq/SRR682/002/SRR682...  \n",
       "1    ftp.sra.ebi.ac.uk/vol1/fastq/SRR682/004/SRR682...  \n",
       "2    ftp.sra.ebi.ac.uk/vol1/fastq/SRR682/005/SRR682...  \n",
       "3    ftp.sra.ebi.ac.uk/vol1/fastq/ERR483/006/ERR483...  \n",
       "4    ftp.sra.ebi.ac.uk/vol1/fastq/ERR483/007/ERR483...  \n",
       "..                                                 ...  \n",
       "245  ftp.sra.ebi.ac.uk/vol1/fastq/SRR242/027/SRR242...  \n",
       "246  ftp.sra.ebi.ac.uk/vol1/fastq/SRR501/006/SRR501...  \n",
       "247  ftp.sra.ebi.ac.uk/vol1/fastq/ERR126/026/ERR126...  \n",
       "248  ftp.sra.ebi.ac.uk/vol1/fastq/SRR268/073/SRR268...  \n",
       "249  ftp.sra.ebi.ac.uk/vol1/fastq/SRR829/001/SRR829...  \n",
       "\n",
       "[250 rows x 16 columns]"
      ]
     },
     "execution_count": 287,
     "metadata": {},
     "output_type": "execute_result"
    }
   ],
   "source": [
    "  # URL for JSON request\n",
    "url ='https://www.ebi.ac.uk/ena/portal/api/search?result=read_run&query=library_strategy=\"WGS\" AND sample_description=\"mangrove\"&fields=run_accession,sample_accession,study_accession,sample_description,study_title,library_strategy,scientific_name,instrument_platform,instrument_model,collection_date_end,location,instrument_model,lat,lon,country,fastq_bytes,fastq_ftp&format=json'\n",
    "\n",
    "  # Send a GET request to the URL\n",
    "response = requests.get(url)\n",
    "\n",
    "  # Parse the JSON response into a StringIO object\n",
    "data = StringIO(response.text)\n",
    "\n",
    "  # Create the DataFrame from the JSON parsed data\n",
    "df = pd.read_json(data)\n",
    "df"
   ]
  },
  {
   "cell_type": "code",
   "execution_count": 288,
   "metadata": {
    "id": "rPVRdseMvNLj"
   },
   "outputs": [],
   "source": [
    "# Save on a CSV field\n",
    "df.to_csv(metadata_path + '00_mangrove_metagenome_datasets.csv', index=False)"
   ]
  },
  {
   "cell_type": "markdown",
   "metadata": {
    "id": "k5U608Zwl6Hf",
    "jp-MarkdownHeadingCollapsed": true
   },
   "source": [
    "## **Exploring Retrieved Datasets**\n",
    "Explore the metadata of the *mangrove metagenome* retrieved datasets."
   ]
  },
  {
   "cell_type": "markdown",
   "metadata": {
    "id": "T-dpgsRePlOI"
   },
   "source": [
    "### **General Information**\n",
    "Display general information of the *mangrove metagenome* retrieved datasets."
   ]
  },
  {
   "cell_type": "code",
   "execution_count": 344,
   "metadata": {
    "colab": {
     "base_uri": "https://localhost:8080/"
    },
    "id": "WqLSxLzjmnmi",
    "outputId": "a6de17d8-d06e-40ad-ec0d-8c3952925902"
   },
   "outputs": [
    {
     "name": "stdout",
     "output_type": "stream",
     "text": [
      "<class 'pandas.core.frame.DataFrame'>\n",
      "RangeIndex: 250 entries, 0 to 249\n",
      "Data columns (total 16 columns):\n",
      " #   Column               Non-Null Count  Dtype \n",
      "---  ------               --------------  ----- \n",
      " 0   run_accession        250 non-null    object\n",
      " 1   sample_accession     250 non-null    object\n",
      " 2   study_accession      250 non-null    object\n",
      " 3   sample_description   250 non-null    object\n",
      " 4   study_title          250 non-null    object\n",
      " 5   library_strategy     250 non-null    object\n",
      " 6   scientific_name      250 non-null    object\n",
      " 7   instrument_platform  250 non-null    object\n",
      " 8   instrument_model     250 non-null    object\n",
      " 9   collection_date_end  250 non-null    object\n",
      " 10  location             250 non-null    object\n",
      " 11  lat                  250 non-null    object\n",
      " 12  lon                  250 non-null    object\n",
      " 13  country              250 non-null    object\n",
      " 14  fastq_bytes          250 non-null    object\n",
      " 15  fastq_ftp            250 non-null    object\n",
      "dtypes: object(16)\n",
      "memory usage: 31.4+ KB\n"
     ]
    }
   ],
   "source": [
    "#Columns and Dtype\n",
    "df.info()"
   ]
  },
  {
   "cell_type": "code",
   "execution_count": 291,
   "metadata": {
    "colab": {
     "base_uri": "https://localhost:8080/"
    },
    "id": "Ch9hDXwxofnS",
    "outputId": "fb72e564-0e04-4269-ec84-b35b930c95dd"
   },
   "outputs": [
    {
     "data": {
      "text/plain": [
       "250"
      ]
     },
     "execution_count": 291,
     "metadata": {},
     "output_type": "execute_result"
    }
   ],
   "source": [
    "# Number of Unique Runs (wgs raw lectures, .fastq)\n",
    "len(df)"
   ]
  },
  {
   "cell_type": "code",
   "execution_count": 292,
   "metadata": {
    "colab": {
     "base_uri": "https://localhost:8080/"
    },
    "id": "qx4W83SOyqrv",
    "outputId": "49ae24b6-7991-4c19-d138-cc765acd059b"
   },
   "outputs": [
    {
     "data": {
      "text/plain": [
       "123"
      ]
     },
     "execution_count": 292,
     "metadata": {},
     "output_type": "execute_result"
    }
   ],
   "source": [
    "# Number of Unique Projects\n",
    "len(df['study_accession'].unique())"
   ]
  },
  {
   "cell_type": "code",
   "execution_count": 293,
   "metadata": {
    "colab": {
     "base_uri": "https://localhost:8080/"
    },
    "id": "a6vVJI81mR7M",
    "outputId": "6cd81c8c-0030-4b98-e29b-9913bd190f57"
   },
   "outputs": [
    {
     "data": {
      "text/plain": [
       "238"
      ]
     },
     "execution_count": 293,
     "metadata": {},
     "output_type": "execute_result"
    }
   ],
   "source": [
    "# Number of Unique Samples\n",
    "len(df['sample_accession'].unique())"
   ]
  },
  {
   "cell_type": "code",
   "execution_count": 294,
   "metadata": {
    "colab": {
     "base_uri": "https://localhost:8080/",
     "height": 429
    },
    "id": "iG3aXrJqt7Jw",
    "outputId": "27debd31-714b-4ce3-ed2e-66ea559d7127"
   },
   "outputs": [
    {
     "data": {
      "text/plain": [
       "study_accession\n",
       "PRJNA798446     50\n",
       "PRJEB70438      26\n",
       "PRJNA699587     19\n",
       "PRJEB41295       9\n",
       "PRJNA947344      8\n",
       "PRJNA73797       7\n",
       "PRJNA437562      6\n",
       "PRJEB22775       3\n",
       "PRJNA1036849     3\n",
       "PRJEB72453       2\n",
       "Name: run_accession, dtype: int64"
      ]
     },
     "execution_count": 294,
     "metadata": {},
     "output_type": "execute_result"
    }
   ],
   "source": [
    "# Top 10 Counts of Unique Runs per Project\n",
    "df.groupby('study_accession')['run_accession'].nunique().nlargest(10)"
   ]
  },
  {
   "cell_type": "code",
   "execution_count": 295,
   "metadata": {
    "colab": {
     "base_uri": "https://localhost:8080/",
     "height": 429
    },
    "id": "2uQKjhB9ybam",
    "outputId": "43d499a1-40a0-4ce0-cd9f-4572a3ccb5fb"
   },
   "outputs": [
    {
     "data": {
      "text/plain": [
       "study_accession\n",
       "PRJNA798446    50\n",
       "PRJEB70438     26\n",
       "PRJNA699587    19\n",
       "PRJEB41295      9\n",
       "PRJNA947344     8\n",
       "PRJNA437562     6\n",
       "PRJEB22775      2\n",
       "PRJEB72453      2\n",
       "PRJNA60545      2\n",
       "PRJNA612127     2\n",
       "Name: sample_accession, dtype: int64"
      ]
     },
     "execution_count": 295,
     "metadata": {},
     "output_type": "execute_result"
    }
   ],
   "source": [
    "# Top 10 Counts of Unique Samples per Project\n",
    "df.groupby('study_accession')['sample_accession'].nunique().nlargest(10)"
   ]
  },
  {
   "cell_type": "code",
   "execution_count": 296,
   "metadata": {
    "colab": {
     "base_uri": "https://localhost:8080/",
     "height": 490
    },
    "id": "42mTkWZ9OwuJ",
    "outputId": "21ed32aa-23f4-4afe-c0b3-d0d797ee1473"
   },
   "outputs": [
    {
     "data": {
      "text/plain": [
       "study_accession\n",
       "PRJNA798446    50\n",
       "PRJEB70438     26\n",
       "PRJNA699587    19\n",
       "PRJEB41295      9\n",
       "PRJNA947344     8\n",
       "               ..\n",
       "PRJNA697766     1\n",
       "PRJNA697768     1\n",
       "PRJNA697767     1\n",
       "PRJNA73797      1\n",
       "PRJNA924967     1\n",
       "Name: sample_accession, Length: 123, dtype: int64"
      ]
     },
     "execution_count": 296,
     "metadata": {},
     "output_type": "execute_result"
    }
   ],
   "source": [
    "# Counts of Unique Samples per Project\n",
    "df.groupby('study_accession')['sample_accession'].nunique().sort_values(ascending=False)"
   ]
  },
  {
   "cell_type": "markdown",
   "metadata": {
    "id": "K-yr6PhrtbUE"
   },
   "source": [
    "### **Locations Information**\n",
    "Display location information of the *mangrove metagenome* retrieved datasets."
   ]
  },
  {
   "cell_type": "code",
   "execution_count": 297,
   "metadata": {
    "colab": {
     "base_uri": "https://localhost:8080/"
    },
    "id": "xj70tdj9vrjT",
    "outputId": "5477a7fe-9afd-401f-d27f-d01379b54dc8"
   },
   "outputs": [
    {
     "data": {
      "text/plain": [
       "58"
      ]
     },
     "execution_count": 297,
     "metadata": {},
     "output_type": "execute_result"
    }
   ],
   "source": [
    "# Number of Unique Locations (including the \"empty\" option)\n",
    "len(df['location'].unique())"
   ]
  },
  {
   "cell_type": "code",
   "execution_count": 298,
   "metadata": {
    "colab": {
     "base_uri": "https://localhost:8080/"
    },
    "id": "z_eb8dKnAmM9",
    "outputId": "22cf20fb-34ba-4e8b-a919-1be1f8a6d91f"
   },
   "outputs": [
    {
     "data": {
      "text/plain": [
       "15"
      ]
     },
     "execution_count": 298,
     "metadata": {},
     "output_type": "execute_result"
    }
   ],
   "source": [
    "# Number of Runs with Empty Locations\n",
    "len(df[df['location'] == ''])"
   ]
  },
  {
   "cell_type": "code",
   "execution_count": 299,
   "metadata": {
    "colab": {
     "base_uri": "https://localhost:8080/",
     "height": 429
    },
    "id": "Gnu7LrHGtVmh",
    "outputId": "0f027da9-7afc-4ad5-eef3-c4dd87a8ec8a"
   },
   "outputs": [
    {
     "data": {
      "text/plain": [
       "location\n",
       "16.2781 N 61.5582 W    80\n",
       "22.43 N 113.64 E       50\n",
       "                       15\n",
       "23.27 N 116.52 E        9\n",
       "23.55 N 117.25 E        7\n",
       "27.8977 N 97.0387 W     7\n",
       "12.677 S 38.733 W       6\n",
       "12.681 S 38.731 W       6\n",
       "27.8962 N 97.0386 W     6\n",
       "27.8985 N 97.0386 W     5\n",
       "Name: run_accession, dtype: int64"
      ]
     },
     "execution_count": 299,
     "metadata": {},
     "output_type": "execute_result"
    }
   ],
   "source": [
    "# Top 10 Counts of Unique Runs per Location\n",
    "df.groupby('location')['run_accession'].nunique().nlargest(10)"
   ]
  },
  {
   "cell_type": "markdown",
   "metadata": {
    "id": "QYXyPN5EvyFq"
   },
   "source": [
    "### **Mangrove Habitats (or Scientific Names) Information**\n",
    "Display mangrove habitats information of the *mangrove metagenome* retrieved datasets."
   ]
  },
  {
   "cell_type": "code",
   "execution_count": 300,
   "metadata": {
    "colab": {
     "base_uri": "https://localhost:8080/"
    },
    "id": "L9dJjnSOrid8",
    "outputId": "2bdad1db-9bc1-49b6-f223-4fae76205c95"
   },
   "outputs": [
    {
     "data": {
      "text/plain": [
       "array(['soil metagenome', 'mangrove metagenome', 'uncultured bacterium',\n",
       "       'sediment metagenome', 'aquatic metagenome',\n",
       "       'Streptomyces xiamenensis', 'marine metagenome',\n",
       "       'wetland metagenome', 'Bacillus thuringiensis JM-Mgvxx-63',\n",
       "       'metagenome', 'Rubinisphaera brasiliensis', 'Chlorella vulgaris',\n",
       "       'Messastrum gracile', 'Pararhodobacter sp. CCB-MM2',\n",
       "       'Atopomonas hussainii', 'Lutjanus argentimaculatus',\n",
       "       'Rhodopirellula sp. MGV'], dtype=object)"
      ]
     },
     "execution_count": 300,
     "metadata": {},
     "output_type": "execute_result"
    }
   ],
   "source": [
    "# Unique mangrove retrieved habitats\n",
    "df['scientific_name'].unique()"
   ]
  },
  {
   "cell_type": "code",
   "execution_count": 301,
   "metadata": {
    "colab": {
     "base_uri": "https://localhost:8080/",
     "height": 649
    },
    "id": "ItG81zlQxfJy",
    "outputId": "1a073820-970a-41f9-8584-902ddb4adc95"
   },
   "outputs": [
    {
     "data": {
      "text/plain": [
       "scientific_name\n",
       "mangrove metagenome                   115\n",
       "sediment metagenome                    50\n",
       "uncultured bacterium                   26\n",
       "wetland metagenome                     18\n",
       "soil metagenome                        16\n",
       "Streptomyces xiamenensis                7\n",
       "metagenome                              4\n",
       "Lutjanus argentimaculatus               3\n",
       "Atopomonas hussainii                    2\n",
       "aquatic metagenome                      2\n",
       "Rhodopirellula sp. MGV                  1\n",
       "Rubinisphaera brasiliensis              1\n",
       "Messastrum gracile                      1\n",
       "Bacillus thuringiensis JM-Mgvxx-63      1\n",
       "Chlorella vulgaris                      1\n",
       "Pararhodobacter sp. CCB-MM2             1\n",
       "marine metagenome                       1\n",
       "Name: run_accession, dtype: int64"
      ]
     },
     "execution_count": 301,
     "metadata": {},
     "output_type": "execute_result"
    }
   ],
   "source": [
    "# Counts of Unique Runs per Mangrove Habitats\n",
    "df.groupby('scientific_name')['run_accession'].nunique().sort_values(ascending=False)"
   ]
  },
  {
   "cell_type": "code",
   "execution_count": 302,
   "metadata": {
    "colab": {
     "base_uri": "https://localhost:8080/",
     "height": 649
    },
    "id": "3Io3TJ0mtfFh",
    "outputId": "c62b94fc-fb6c-4647-8a93-afe867138763"
   },
   "outputs": [
    {
     "data": {
      "text/plain": [
       "scientific_name\n",
       "mangrove metagenome                   114\n",
       "sediment metagenome                    50\n",
       "uncultured bacterium                   26\n",
       "wetland metagenome                     18\n",
       "soil metagenome                        16\n",
       "metagenome                              3\n",
       "Atopomonas hussainii                    1\n",
       "Bacillus thuringiensis JM-Mgvxx-63      1\n",
       "Chlorella vulgaris                      1\n",
       "Streptomyces xiamenensis                1\n",
       "Rubinisphaera brasiliensis              1\n",
       "Rhodopirellula sp. MGV                  1\n",
       "Pararhodobacter sp. CCB-MM2             1\n",
       "Messastrum gracile                      1\n",
       "Lutjanus argentimaculatus               1\n",
       "marine metagenome                       1\n",
       "aquatic metagenome                      1\n",
       "Name: sample_accession, dtype: int64"
      ]
     },
     "execution_count": 302,
     "metadata": {},
     "output_type": "execute_result"
    }
   ],
   "source": [
    "# Counts of Unique Samples per Mangrove Habitats\n",
    "df.groupby('scientific_name')['sample_accession'].nunique().sort_values(ascending=False)"
   ]
  },
  {
   "cell_type": "code",
   "execution_count": 303,
   "metadata": {
    "colab": {
     "base_uri": "https://localhost:8080/",
     "height": 170
    },
    "id": "fBPG7qVEiAdR",
    "outputId": "b7df541e-cdc5-4d2c-b19c-26d766aebe72"
   },
   "outputs": [
    {
     "data": {
      "text/html": [
       "<div>\n",
       "<style scoped>\n",
       "    .dataframe tbody tr th:only-of-type {\n",
       "        vertical-align: middle;\n",
       "    }\n",
       "\n",
       "    .dataframe tbody tr th {\n",
       "        vertical-align: top;\n",
       "    }\n",
       "\n",
       "    .dataframe thead th {\n",
       "        text-align: right;\n",
       "    }\n",
       "</style>\n",
       "<table border=\"1\" class=\"dataframe\">\n",
       "  <thead>\n",
       "    <tr style=\"text-align: right;\">\n",
       "      <th></th>\n",
       "      <th>run_accession</th>\n",
       "      <th>sample_accession</th>\n",
       "      <th>study_accession</th>\n",
       "      <th>sample_description</th>\n",
       "      <th>study_title</th>\n",
       "      <th>library_strategy</th>\n",
       "      <th>scientific_name</th>\n",
       "      <th>instrument_platform</th>\n",
       "      <th>instrument_model</th>\n",
       "      <th>collection_date_end</th>\n",
       "      <th>location</th>\n",
       "      <th>lat</th>\n",
       "      <th>lon</th>\n",
       "      <th>country</th>\n",
       "      <th>fastq_bytes</th>\n",
       "      <th>fastq_ftp</th>\n",
       "    </tr>\n",
       "  </thead>\n",
       "  <tbody>\n",
       "    <tr>\n",
       "      <th>69</th>\n",
       "      <td>SRR1043577</td>\n",
       "      <td>SAMN02402225</td>\n",
       "      <td>PRJNA227447</td>\n",
       "      <td>\"Draft Genome Sequence of the chitinolyticus B...</td>\n",
       "      <td>Bacillus thuringiensis JM-Mgvxx-63 Genome sequ...</td>\n",
       "      <td>WGS</td>\n",
       "      <td>Bacillus thuringiensis JM-Mgvxx-63</td>\n",
       "      <td>ION_TORRENT</td>\n",
       "      <td>Ion Torrent PGM</td>\n",
       "      <td></td>\n",
       "      <td></td>\n",
       "      <td></td>\n",
       "      <td></td>\n",
       "      <td></td>\n",
       "      <td>445029780</td>\n",
       "      <td>ftp.sra.ebi.ac.uk/vol1/fastq/SRR104/007/SRR104...</td>\n",
       "    </tr>\n",
       "  </tbody>\n",
       "</table>\n",
       "</div>"
      ],
      "text/plain": [
       "   run_accession sample_accession study_accession  \\\n",
       "69    SRR1043577     SAMN02402225     PRJNA227447   \n",
       "\n",
       "                                   sample_description  \\\n",
       "69  \"Draft Genome Sequence of the chitinolyticus B...   \n",
       "\n",
       "                                          study_title library_strategy  \\\n",
       "69  Bacillus thuringiensis JM-Mgvxx-63 Genome sequ...              WGS   \n",
       "\n",
       "                       scientific_name instrument_platform instrument_model  \\\n",
       "69  Bacillus thuringiensis JM-Mgvxx-63         ION_TORRENT  Ion Torrent PGM   \n",
       "\n",
       "   collection_date_end location lat lon country fastq_bytes  \\\n",
       "69                                                445029780   \n",
       "\n",
       "                                            fastq_ftp  \n",
       "69  ftp.sra.ebi.ac.uk/vol1/fastq/SRR104/007/SRR104...  "
      ]
     },
     "execution_count": 303,
     "metadata": {},
     "output_type": "execute_result"
    }
   ],
   "source": [
    "# Exploring the 'Bacillus thuringiensis JM-Mgvxx-63' mangrove habitat or \"scientific name\" (ScientificNameOption10) information\n",
    "df_SN_op10 = df[df['scientific_name'] == 'Bacillus thuringiensis JM-Mgvxx-63']\n",
    "df_SN_op10"
   ]
  },
  {
   "cell_type": "code",
   "execution_count": 304,
   "metadata": {
    "id": "lirBBEF9il3i"
   },
   "outputs": [],
   "source": [
    "# Downloading the 'Bacillus thuringiensis JM-Mgvxx-63' scientific name (ScientificNameOption10) information\n",
    "df_SN_op10.to_csv(metadata_path + 'Bacillus_thuringiensis_JM-Mgvxx-63.csv', index=False)"
   ]
  },
  {
   "cell_type": "code",
   "execution_count": 313,
   "metadata": {
    "colab": {
     "base_uri": "https://localhost:8080/"
    },
    "id": "-F9MHAhhSVDY",
    "outputId": "40234ad5-b856-4741-b45a-b2f91d3a6b5c"
   },
   "outputs": [
    {
     "data": {
      "text/plain": [
       "115"
      ]
     },
     "execution_count": 313,
     "metadata": {},
     "output_type": "execute_result"
    }
   ],
   "source": [
    "# Exploring the 'mangrove metagenome' scientific name (ScientificNameOption1) information\n",
    "df_SN_op1 = df[df['scientific_name'] == 'mangrove metagenome']\n",
    "len(df_SN_op1)"
   ]
  },
  {
   "cell_type": "code",
   "execution_count": 345,
   "metadata": {
    "colab": {
     "base_uri": "https://localhost:8080/",
     "height": 513
    },
    "id": "65-KsNvkZf_8",
    "outputId": "129905e5-9ca7-4a86-f60e-929452f48b8e"
   },
   "outputs": [
    {
     "data": {
      "text/plain": [
       "sample_description\n",
       "Enriched cells from mangrove seawater in Basse-Terre, Guadeloupe                                                                                                                                80\n",
       "Mangrove rhizosphere metagenome                                                                                                                                                                  9\n",
       "Metagenome or environmental sample from mangrove soil recolonization after shrimp farm metagenome                                                                                                6\n",
       "Metagenome from mangrove soil harvested by shrimp farm                                                                                                                                           5\n",
       "Metagenome or environmental sample from mangrove metagenome impacted by shrimp farm                                                                                                              4\n",
       "Metagenome or environmental sample metagenome from mangrove soil used for shrimp farm                                                                                                            3\n",
       "Metagenome or environmental sample from mangrove metagenome                                                                                                                                      3\n",
       "Metagenome from Yunxiao mangrove sediment                                                                                                                                                        1\n",
       "Sample eigth from the fourth transfer of the microbial consortium originating from the microcosm containing mangrove soil with seawater, and endured for three months in the presence of PET     1\n",
       "Sample four from the sixth transfer of the microbial consortium originating from the microcosm containing mangrove soil with seawater, and endured for three months in the presence of PET       1\n",
       "Samples collected in soil mangrove harvested by a shrimp farm                                                                                                                                    1\n",
       "Name: sample_accession, dtype: int64"
      ]
     },
     "execution_count": 345,
     "metadata": {},
     "output_type": "execute_result"
    }
   ],
   "source": [
    "# Exploring the 'mangrove metagenome' scientific name (ScientificNameOption1) Sample Descriptions information\n",
    "df_SN_op1.groupby(df_SN_op1['sample_description'])['sample_accession'].nunique().sort_values(ascending=False)"
   ]
  },
  {
   "cell_type": "code",
   "execution_count": 315,
   "metadata": {
    "colab": {
     "base_uri": "https://localhost:8080/"
    },
    "id": "yZfdJGMCU3Mp",
    "outputId": "cbcc706d-d9f0-4277-91e2-9920995c6ef5"
   },
   "outputs": [
    {
     "data": {
      "text/plain": [
       "9"
      ]
     },
     "execution_count": 315,
     "metadata": {},
     "output_type": "execute_result"
    }
   ],
   "source": [
    "# Exploring the 'mangrove metagenome' scientific name (ScientificNameOption1) 'rhizosphere' Sample Descriptions information\n",
    "len(df_SN_op1[df_SN_op1['sample_description'].str.contains(\"rhizosphere\")])"
   ]
  },
  {
   "cell_type": "code",
   "execution_count": 340,
   "metadata": {
    "colab": {
     "base_uri": "https://localhost:8080/",
     "height": 306
    },
    "id": "zlLjIuTFPP0I",
    "outputId": "c95e0dc2-44e0-4fa8-fbbd-0759a0895adc"
   },
   "outputs": [
    {
     "data": {
      "text/html": [
       "<div>\n",
       "<style scoped>\n",
       "    .dataframe tbody tr th:only-of-type {\n",
       "        vertical-align: middle;\n",
       "    }\n",
       "\n",
       "    .dataframe tbody tr th {\n",
       "        vertical-align: top;\n",
       "    }\n",
       "\n",
       "    .dataframe thead th {\n",
       "        text-align: right;\n",
       "    }\n",
       "</style>\n",
       "<table border=\"1\" class=\"dataframe\">\n",
       "  <thead>\n",
       "    <tr style=\"text-align: right;\">\n",
       "      <th></th>\n",
       "      <th>run_accession</th>\n",
       "      <th>sample_accession</th>\n",
       "      <th>study_accession</th>\n",
       "      <th>sample_description</th>\n",
       "      <th>study_title</th>\n",
       "      <th>library_strategy</th>\n",
       "      <th>scientific_name</th>\n",
       "      <th>instrument_platform</th>\n",
       "      <th>instrument_model</th>\n",
       "      <th>collection_date_end</th>\n",
       "      <th>location</th>\n",
       "      <th>lat</th>\n",
       "      <th>lon</th>\n",
       "      <th>country</th>\n",
       "      <th>fastq_bytes</th>\n",
       "      <th>fastq_ftp</th>\n",
       "    </tr>\n",
       "  </thead>\n",
       "  <tbody>\n",
       "    <tr>\n",
       "      <th>24</th>\n",
       "      <td>SRR4297032</td>\n",
       "      <td>SAMN05806435</td>\n",
       "      <td>PRJNA344556</td>\n",
       "      <td>Enrichment from Brazil mangrove soil</td>\n",
       "      <td>Enrichment from mangrove soil Raw sequence reads</td>\n",
       "      <td>WGS</td>\n",
       "      <td>aquatic metagenome</td>\n",
       "      <td>ILLUMINA</td>\n",
       "      <td>Illumina HiSeq 2500</td>\n",
       "      <td>2011-10-11</td>\n",
       "      <td>13.367918 S 39.056139 W</td>\n",
       "      <td>-13.367918</td>\n",
       "      <td>-39.056139</td>\n",
       "      <td>Brazil:Bahia</td>\n",
       "      <td>15765625751;16293179183</td>\n",
       "      <td>ftp.sra.ebi.ac.uk/vol1/fastq/SRR429/002/SRR429...</td>\n",
       "    </tr>\n",
       "    <tr>\n",
       "      <th>112</th>\n",
       "      <td>SRR4297033</td>\n",
       "      <td>SAMN05806435</td>\n",
       "      <td>PRJNA344556</td>\n",
       "      <td>Enrichment from Brazil mangrove soil</td>\n",
       "      <td>Enrichment from mangrove soil Raw sequence reads</td>\n",
       "      <td>WGS</td>\n",
       "      <td>aquatic metagenome</td>\n",
       "      <td>ILLUMINA</td>\n",
       "      <td>Illumina HiSeq 2500</td>\n",
       "      <td>2011-10-11</td>\n",
       "      <td>13.367918 S 39.056139 W</td>\n",
       "      <td>-13.367918</td>\n",
       "      <td>-39.056139</td>\n",
       "      <td>Brazil:Bahia</td>\n",
       "      <td>42541189333;38779694509</td>\n",
       "      <td>ftp.sra.ebi.ac.uk/vol1/fastq/SRR429/003/SRR429...</td>\n",
       "    </tr>\n",
       "  </tbody>\n",
       "</table>\n",
       "</div>"
      ],
      "text/plain": [
       "    run_accession sample_accession study_accession  \\\n",
       "24     SRR4297032     SAMN05806435     PRJNA344556   \n",
       "112    SRR4297033     SAMN05806435     PRJNA344556   \n",
       "\n",
       "                       sample_description  \\\n",
       "24   Enrichment from Brazil mangrove soil   \n",
       "112  Enrichment from Brazil mangrove soil   \n",
       "\n",
       "                                          study_title library_strategy  \\\n",
       "24   Enrichment from mangrove soil Raw sequence reads              WGS   \n",
       "112  Enrichment from mangrove soil Raw sequence reads              WGS   \n",
       "\n",
       "        scientific_name instrument_platform     instrument_model  \\\n",
       "24   aquatic metagenome            ILLUMINA  Illumina HiSeq 2500   \n",
       "112  aquatic metagenome            ILLUMINA  Illumina HiSeq 2500   \n",
       "\n",
       "    collection_date_end                 location         lat         lon  \\\n",
       "24           2011-10-11  13.367918 S 39.056139 W  -13.367918  -39.056139   \n",
       "112          2011-10-11  13.367918 S 39.056139 W  -13.367918  -39.056139   \n",
       "\n",
       "          country              fastq_bytes  \\\n",
       "24   Brazil:Bahia  15765625751;16293179183   \n",
       "112  Brazil:Bahia  42541189333;38779694509   \n",
       "\n",
       "                                             fastq_ftp  \n",
       "24   ftp.sra.ebi.ac.uk/vol1/fastq/SRR429/002/SRR429...  \n",
       "112  ftp.sra.ebi.ac.uk/vol1/fastq/SRR429/003/SRR429...  "
      ]
     },
     "execution_count": 340,
     "metadata": {},
     "output_type": "execute_result"
    }
   ],
   "source": [
    "# Exploring the 'aquatic metagenome' scientific name (ScientificNameOption7) information\n",
    "df_SN_op7 = df[df['scientific_name'] == 'aquatic metagenome']\n",
    "df_SN_op7"
   ]
  },
  {
   "cell_type": "code",
   "execution_count": 339,
   "metadata": {
    "colab": {
     "base_uri": "https://localhost:8080/",
     "height": 147
    },
    "id": "U-MS0IfGO3YS",
    "outputId": "4cd35028-b691-4815-b5c1-07bfb0ec2b05"
   },
   "outputs": [
    {
     "data": {
      "text/plain": [
       "sample_description\n",
       "Enrichment from Brazil mangrove soil    1\n",
       "Name: sample_accession, dtype: int64"
      ]
     },
     "execution_count": 339,
     "metadata": {},
     "output_type": "execute_result"
    }
   ],
   "source": [
    "# Exploring the 'aquatic metagenome' scientific name (ScientificNameOption7) Sample Descriptions information\n",
    "df_SN_op7.groupby(df_SN_op7['sample_description'])['sample_accession'].nunique().sort_values(ascending=False)"
   ]
  },
  {
   "cell_type": "markdown",
   "metadata": {
    "id": "vS0MHRVrG-wa"
   },
   "source": [
    "## **Selecting Useful Datasets**\n",
    "After exploring the metadata of the retrieved *mangrove metagenome* datasets, handle incomplete, inconsistent or unuseful datasets for our future workflow analysis."
   ]
  },
  {
   "cell_type": "markdown",
   "metadata": {
    "id": "5laAHajxG0dZ",
    "jp-MarkdownHeadingCollapsed": true
   },
   "source": [
    "### **Handling incomplete datasets**"
   ]
  },
  {
   "cell_type": "code",
   "execution_count": 319,
   "metadata": {
    "colab": {
     "base_uri": "https://localhost:8080/"
    },
    "id": "nAJJWUC9vXYW",
    "outputId": "1553318b-8458-464b-ad5e-33f424f51391"
   },
   "outputs": [
    {
     "data": {
      "text/html": [
       "<div>\n",
       "<style scoped>\n",
       "    .dataframe tbody tr th:only-of-type {\n",
       "        vertical-align: middle;\n",
       "    }\n",
       "\n",
       "    .dataframe tbody tr th {\n",
       "        vertical-align: top;\n",
       "    }\n",
       "\n",
       "    .dataframe thead th {\n",
       "        text-align: right;\n",
       "    }\n",
       "</style>\n",
       "<table border=\"1\" class=\"dataframe\">\n",
       "  <thead>\n",
       "    <tr style=\"text-align: right;\">\n",
       "      <th></th>\n",
       "      <th>run_accession</th>\n",
       "      <th>sample_accession</th>\n",
       "      <th>study_accession</th>\n",
       "      <th>sample_description</th>\n",
       "      <th>study_title</th>\n",
       "      <th>library_strategy</th>\n",
       "      <th>scientific_name</th>\n",
       "      <th>instrument_platform</th>\n",
       "      <th>instrument_model</th>\n",
       "      <th>collection_date_end</th>\n",
       "      <th>location</th>\n",
       "      <th>lat</th>\n",
       "      <th>lon</th>\n",
       "      <th>country</th>\n",
       "      <th>fastq_bytes</th>\n",
       "      <th>fastq_ftp</th>\n",
       "    </tr>\n",
       "  </thead>\n",
       "  <tbody>\n",
       "    <tr>\n",
       "      <th>3</th>\n",
       "      <td>ERR4833476</td>\n",
       "      <td>SAMEA7567423</td>\n",
       "      <td>PRJEB41295</td>\n",
       "      <td>Mangrove rhizosphere metagenome</td>\n",
       "      <td>Native and introduced mangroves select distinc...</td>\n",
       "      <td>WGS</td>\n",
       "      <td>mangrove metagenome</td>\n",
       "      <td>ILLUMINA</td>\n",
       "      <td>NextSeq 550</td>\n",
       "      <td>2018-12-31</td>\n",
       "      <td>23.27 N 116.52 E</td>\n",
       "      <td>23.27</td>\n",
       "      <td>116.52</td>\n",
       "      <td>China</td>\n",
       "      <td>3585629891;3960554345</td>\n",
       "      <td>ftp.sra.ebi.ac.uk/vol1/fastq/ERR483/006/ERR483...</td>\n",
       "    </tr>\n",
       "    <tr>\n",
       "      <th>4</th>\n",
       "      <td>ERR4833477</td>\n",
       "      <td>SAMEA7567424</td>\n",
       "      <td>PRJEB41295</td>\n",
       "      <td>Mangrove rhizosphere metagenome</td>\n",
       "      <td>Native and introduced mangroves select distinc...</td>\n",
       "      <td>WGS</td>\n",
       "      <td>mangrove metagenome</td>\n",
       "      <td>ILLUMINA</td>\n",
       "      <td>NextSeq 550</td>\n",
       "      <td>2018-12-31</td>\n",
       "      <td>23.27 N 116.52 E</td>\n",
       "      <td>23.27</td>\n",
       "      <td>116.52</td>\n",
       "      <td>China</td>\n",
       "      <td>3675375581;4063769533</td>\n",
       "      <td>ftp.sra.ebi.ac.uk/vol1/fastq/ERR483/007/ERR483...</td>\n",
       "    </tr>\n",
       "    <tr>\n",
       "      <th>5</th>\n",
       "      <td>ERR12329181</td>\n",
       "      <td>SAMEA114664778</td>\n",
       "      <td>PRJEB70438</td>\n",
       "      <td>Site 13A1 Mangrove sample</td>\n",
       "      <td>Assembly-based metagenomics of coral reef &amp; ma...</td>\n",
       "      <td>WGS</td>\n",
       "      <td>uncultured bacterium</td>\n",
       "      <td>ILLUMINA</td>\n",
       "      <td>NextSeq 550</td>\n",
       "      <td>2017-10-13</td>\n",
       "      <td>7.466203 N 81.732981 W</td>\n",
       "      <td>7.466203</td>\n",
       "      <td>-81.732981</td>\n",
       "      <td>Panama</td>\n",
       "      <td>857821694;843231396</td>\n",
       "      <td>ftp.sra.ebi.ac.uk/vol1/fastq/ERR123/081/ERR123...</td>\n",
       "    </tr>\n",
       "    <tr>\n",
       "      <th>6</th>\n",
       "      <td>ERR12329183</td>\n",
       "      <td>SAMEA114664780</td>\n",
       "      <td>PRJEB70438</td>\n",
       "      <td>Site 13A3 Mangrove sample</td>\n",
       "      <td>Assembly-based metagenomics of coral reef &amp; ma...</td>\n",
       "      <td>WGS</td>\n",
       "      <td>uncultured bacterium</td>\n",
       "      <td>ILLUMINA</td>\n",
       "      <td>NextSeq 550</td>\n",
       "      <td>2017-10-13</td>\n",
       "      <td>7.465868 N 81.726241 W</td>\n",
       "      <td>7.465868</td>\n",
       "      <td>-81.726241</td>\n",
       "      <td>Panama</td>\n",
       "      <td>555010025;541085504</td>\n",
       "      <td>ftp.sra.ebi.ac.uk/vol1/fastq/ERR123/083/ERR123...</td>\n",
       "    </tr>\n",
       "    <tr>\n",
       "      <th>7</th>\n",
       "      <td>ERR12329184</td>\n",
       "      <td>SAMEA114664781</td>\n",
       "      <td>PRJEB70438</td>\n",
       "      <td>Site 13A4 Mangrove sample</td>\n",
       "      <td>Assembly-based metagenomics of coral reef &amp; ma...</td>\n",
       "      <td>WGS</td>\n",
       "      <td>uncultured bacterium</td>\n",
       "      <td>ILLUMINA</td>\n",
       "      <td>NextSeq 550</td>\n",
       "      <td>2017-10-13</td>\n",
       "      <td>7.462678 N 81.722228 W</td>\n",
       "      <td>7.462678</td>\n",
       "      <td>-81.722228</td>\n",
       "      <td>Panama</td>\n",
       "      <td>590035569;603841669</td>\n",
       "      <td>ftp.sra.ebi.ac.uk/vol1/fastq/ERR123/084/ERR123...</td>\n",
       "    </tr>\n",
       "    <tr>\n",
       "      <th>...</th>\n",
       "      <td>...</td>\n",
       "      <td>...</td>\n",
       "      <td>...</td>\n",
       "      <td>...</td>\n",
       "      <td>...</td>\n",
       "      <td>...</td>\n",
       "      <td>...</td>\n",
       "      <td>...</td>\n",
       "      <td>...</td>\n",
       "      <td>...</td>\n",
       "      <td>...</td>\n",
       "      <td>...</td>\n",
       "      <td>...</td>\n",
       "      <td>...</td>\n",
       "      <td>...</td>\n",
       "      <td>...</td>\n",
       "    </tr>\n",
       "    <tr>\n",
       "      <th>244</th>\n",
       "      <td>SRR24201523</td>\n",
       "      <td>SAMN33849203</td>\n",
       "      <td>PRJNA947344</td>\n",
       "      <td>Whole metagenome of rhizosphere soil of Kalibh...</td>\n",
       "      <td>Whole-metagenome shotgun sequencing of soil sa...</td>\n",
       "      <td>WGS</td>\n",
       "      <td>soil metagenome</td>\n",
       "      <td>ILLUMINA</td>\n",
       "      <td>Illumina NovaSeq 6000</td>\n",
       "      <td>2022-04-03</td>\n",
       "      <td>20.7744 N 86.9268 E</td>\n",
       "      <td>20.7744</td>\n",
       "      <td>86.9268</td>\n",
       "      <td>India: Bhitarkanika mangrove forest, Odisha</td>\n",
       "      <td>2521256864;2490491525</td>\n",
       "      <td>ftp.sra.ebi.ac.uk/vol1/fastq/SRR242/023/SRR242...</td>\n",
       "    </tr>\n",
       "    <tr>\n",
       "      <th>245</th>\n",
       "      <td>SRR24201527</td>\n",
       "      <td>SAMN33848497</td>\n",
       "      <td>PRJNA947344</td>\n",
       "      <td>Whole metagenome of rhizosphere soil of Kalibh...</td>\n",
       "      <td>Whole-metagenome shotgun sequencing of soil sa...</td>\n",
       "      <td>WGS</td>\n",
       "      <td>soil metagenome</td>\n",
       "      <td>ILLUMINA</td>\n",
       "      <td>Illumina NovaSeq 6000</td>\n",
       "      <td>2021-10-02</td>\n",
       "      <td>20.775 N 86.9253 E</td>\n",
       "      <td>20.775</td>\n",
       "      <td>86.9253</td>\n",
       "      <td>India: Bhitarkanika mangrove forest, Odisha</td>\n",
       "      <td>2700127663;2824067298</td>\n",
       "      <td>ftp.sra.ebi.ac.uk/vol1/fastq/SRR242/027/SRR242...</td>\n",
       "    </tr>\n",
       "    <tr>\n",
       "      <th>246</th>\n",
       "      <td>SRR5019746</td>\n",
       "      <td>SAMN06011245</td>\n",
       "      <td>PRJNA353167</td>\n",
       "      <td>This strain of Pseudomonas hussainii named MB3...</td>\n",
       "      <td>Pseudomonas hussainii strain:MB3 Genome sequen...</td>\n",
       "      <td>WGS</td>\n",
       "      <td>Atopomonas hussainii</td>\n",
       "      <td>ILLUMINA</td>\n",
       "      <td>NextSeq 500</td>\n",
       "      <td>2015-09-30</td>\n",
       "      <td>11.5061 N 92.7017 E</td>\n",
       "      <td>11.5061</td>\n",
       "      <td>92.7017</td>\n",
       "      <td>India: Andaman islands</td>\n",
       "      <td>56828614</td>\n",
       "      <td>ftp.sra.ebi.ac.uk/vol1/fastq/SRR501/006/SRR501...</td>\n",
       "    </tr>\n",
       "    <tr>\n",
       "      <th>247</th>\n",
       "      <td>ERR12658426</td>\n",
       "      <td>SAMEA115283882</td>\n",
       "      <td>PRJEB72453</td>\n",
       "      <td>Sample four from the sixth transfer of the mic...</td>\n",
       "      <td>Explore and identify the functional potential ...</td>\n",
       "      <td>WGS</td>\n",
       "      <td>mangrove metagenome</td>\n",
       "      <td>ILLUMINA</td>\n",
       "      <td>Illumina NovaSeq 6000</td>\n",
       "      <td>2021-06-30</td>\n",
       "      <td>10.26366 N 75.59169 W</td>\n",
       "      <td>10.26366</td>\n",
       "      <td>-75.59169</td>\n",
       "      <td>Colombia</td>\n",
       "      <td>2944631619;3055381112</td>\n",
       "      <td>ftp.sra.ebi.ac.uk/vol1/fastq/ERR126/026/ERR126...</td>\n",
       "    </tr>\n",
       "    <tr>\n",
       "      <th>249</th>\n",
       "      <td>SRR8299411</td>\n",
       "      <td>SAMN07357232</td>\n",
       "      <td>PRJNA394679</td>\n",
       "      <td>In this study, bacteria belonging to Planctomy...</td>\n",
       "      <td>Rhodopirellula sp. MGV Genome sequencing and a...</td>\n",
       "      <td>WGS</td>\n",
       "      <td>Rhodopirellula sp. MGV</td>\n",
       "      <td>ION_TORRENT</td>\n",
       "      <td>Ion Torrent PGM</td>\n",
       "      <td>2013-04-10</td>\n",
       "      <td>23.8964 S 46.2139 W</td>\n",
       "      <td>-23.8964</td>\n",
       "      <td>-46.2139</td>\n",
       "      <td>Brazil: Sao Paulo, Bertioga</td>\n",
       "      <td>765105920</td>\n",
       "      <td>ftp.sra.ebi.ac.uk/vol1/fastq/SRR829/001/SRR829...</td>\n",
       "    </tr>\n",
       "  </tbody>\n",
       "</table>\n",
       "<p>235 rows × 16 columns</p>\n",
       "</div>"
      ],
      "text/plain": [
       "    run_accession sample_accession study_accession  \\\n",
       "3      ERR4833476     SAMEA7567423      PRJEB41295   \n",
       "4      ERR4833477     SAMEA7567424      PRJEB41295   \n",
       "5     ERR12329181   SAMEA114664778      PRJEB70438   \n",
       "6     ERR12329183   SAMEA114664780      PRJEB70438   \n",
       "7     ERR12329184   SAMEA114664781      PRJEB70438   \n",
       "..            ...              ...             ...   \n",
       "244   SRR24201523     SAMN33849203     PRJNA947344   \n",
       "245   SRR24201527     SAMN33848497     PRJNA947344   \n",
       "246    SRR5019746     SAMN06011245     PRJNA353167   \n",
       "247   ERR12658426   SAMEA115283882      PRJEB72453   \n",
       "249    SRR8299411     SAMN07357232     PRJNA394679   \n",
       "\n",
       "                                    sample_description  \\\n",
       "3                      Mangrove rhizosphere metagenome   \n",
       "4                      Mangrove rhizosphere metagenome   \n",
       "5                            Site 13A1 Mangrove sample   \n",
       "6                            Site 13A3 Mangrove sample   \n",
       "7                            Site 13A4 Mangrove sample   \n",
       "..                                                 ...   \n",
       "244  Whole metagenome of rhizosphere soil of Kalibh...   \n",
       "245  Whole metagenome of rhizosphere soil of Kalibh...   \n",
       "246  This strain of Pseudomonas hussainii named MB3...   \n",
       "247  Sample four from the sixth transfer of the mic...   \n",
       "249  In this study, bacteria belonging to Planctomy...   \n",
       "\n",
       "                                           study_title library_strategy  \\\n",
       "3    Native and introduced mangroves select distinc...              WGS   \n",
       "4    Native and introduced mangroves select distinc...              WGS   \n",
       "5    Assembly-based metagenomics of coral reef & ma...              WGS   \n",
       "6    Assembly-based metagenomics of coral reef & ma...              WGS   \n",
       "7    Assembly-based metagenomics of coral reef & ma...              WGS   \n",
       "..                                                 ...              ...   \n",
       "244  Whole-metagenome shotgun sequencing of soil sa...              WGS   \n",
       "245  Whole-metagenome shotgun sequencing of soil sa...              WGS   \n",
       "246  Pseudomonas hussainii strain:MB3 Genome sequen...              WGS   \n",
       "247  Explore and identify the functional potential ...              WGS   \n",
       "249  Rhodopirellula sp. MGV Genome sequencing and a...              WGS   \n",
       "\n",
       "            scientific_name instrument_platform       instrument_model  \\\n",
       "3       mangrove metagenome            ILLUMINA            NextSeq 550   \n",
       "4       mangrove metagenome            ILLUMINA            NextSeq 550   \n",
       "5      uncultured bacterium            ILLUMINA            NextSeq 550   \n",
       "6      uncultured bacterium            ILLUMINA            NextSeq 550   \n",
       "7      uncultured bacterium            ILLUMINA            NextSeq 550   \n",
       "..                      ...                 ...                    ...   \n",
       "244         soil metagenome            ILLUMINA  Illumina NovaSeq 6000   \n",
       "245         soil metagenome            ILLUMINA  Illumina NovaSeq 6000   \n",
       "246    Atopomonas hussainii            ILLUMINA            NextSeq 500   \n",
       "247     mangrove metagenome            ILLUMINA  Illumina NovaSeq 6000   \n",
       "249  Rhodopirellula sp. MGV         ION_TORRENT        Ion Torrent PGM   \n",
       "\n",
       "    collection_date_end                location       lat         lon  \\\n",
       "3            2018-12-31        23.27 N 116.52 E     23.27      116.52   \n",
       "4            2018-12-31        23.27 N 116.52 E     23.27      116.52   \n",
       "5            2017-10-13  7.466203 N 81.732981 W  7.466203  -81.732981   \n",
       "6            2017-10-13  7.465868 N 81.726241 W  7.465868  -81.726241   \n",
       "7            2017-10-13  7.462678 N 81.722228 W  7.462678  -81.722228   \n",
       "..                  ...                     ...       ...         ...   \n",
       "244          2022-04-03     20.7744 N 86.9268 E   20.7744     86.9268   \n",
       "245          2021-10-02      20.775 N 86.9253 E    20.775     86.9253   \n",
       "246          2015-09-30     11.5061 N 92.7017 E   11.5061     92.7017   \n",
       "247          2021-06-30   10.26366 N 75.59169 W  10.26366   -75.59169   \n",
       "249          2013-04-10     23.8964 S 46.2139 W  -23.8964    -46.2139   \n",
       "\n",
       "                                         country            fastq_bytes  \\\n",
       "3                                          China  3585629891;3960554345   \n",
       "4                                          China  3675375581;4063769533   \n",
       "5                                         Panama    857821694;843231396   \n",
       "6                                         Panama    555010025;541085504   \n",
       "7                                         Panama    590035569;603841669   \n",
       "..                                           ...                    ...   \n",
       "244  India: Bhitarkanika mangrove forest, Odisha  2521256864;2490491525   \n",
       "245  India: Bhitarkanika mangrove forest, Odisha  2700127663;2824067298   \n",
       "246                       India: Andaman islands               56828614   \n",
       "247                                     Colombia  2944631619;3055381112   \n",
       "249                  Brazil: Sao Paulo, Bertioga              765105920   \n",
       "\n",
       "                                             fastq_ftp  \n",
       "3    ftp.sra.ebi.ac.uk/vol1/fastq/ERR483/006/ERR483...  \n",
       "4    ftp.sra.ebi.ac.uk/vol1/fastq/ERR483/007/ERR483...  \n",
       "5    ftp.sra.ebi.ac.uk/vol1/fastq/ERR123/081/ERR123...  \n",
       "6    ftp.sra.ebi.ac.uk/vol1/fastq/ERR123/083/ERR123...  \n",
       "7    ftp.sra.ebi.ac.uk/vol1/fastq/ERR123/084/ERR123...  \n",
       "..                                                 ...  \n",
       "244  ftp.sra.ebi.ac.uk/vol1/fastq/SRR242/023/SRR242...  \n",
       "245  ftp.sra.ebi.ac.uk/vol1/fastq/SRR242/027/SRR242...  \n",
       "246  ftp.sra.ebi.ac.uk/vol1/fastq/SRR501/006/SRR501...  \n",
       "247  ftp.sra.ebi.ac.uk/vol1/fastq/ERR126/026/ERR126...  \n",
       "249  ftp.sra.ebi.ac.uk/vol1/fastq/SRR829/001/SRR829...  \n",
       "\n",
       "[235 rows x 16 columns]"
      ]
     },
     "execution_count": 319,
     "metadata": {},
     "output_type": "execute_result"
    }
   ],
   "source": [
    "# Delete the Runs with \"empty\" Location cells\n",
    "df_2 = df[df['location'] != '']\n",
    "df_2"
   ]
  },
  {
   "cell_type": "code",
   "execution_count": 320,
   "metadata": {
    "id": "zxwMlD4vlThm"
   },
   "outputs": [],
   "source": [
    "# Save on a CSV field\n",
    "df_2.to_csv(metadata_path + '01_mangrove_metagenome_datasets_notemptylocations.csv', index=False)"
   ]
  },
  {
   "cell_type": "markdown",
   "metadata": {
    "id": "Q-nhjtSGuNyq",
    "jp-MarkdownHeadingCollapsed": true
   },
   "source": [
    "### **Handling inconsistent datasets**"
   ]
  },
  {
   "cell_type": "code",
   "execution_count": 321,
   "metadata": {
    "colab": {
     "base_uri": "https://localhost:8080/",
     "height": 1000
    },
    "id": "fcFsnQglFUzW",
    "outputId": "47656552-2803-40f2-cc78-10c57e92593b"
   },
   "outputs": [
    {
     "data": {
      "text/html": [
       "<div>\n",
       "<style scoped>\n",
       "    .dataframe tbody tr th:only-of-type {\n",
       "        vertical-align: middle;\n",
       "    }\n",
       "\n",
       "    .dataframe tbody tr th {\n",
       "        vertical-align: top;\n",
       "    }\n",
       "\n",
       "    .dataframe thead th {\n",
       "        text-align: right;\n",
       "    }\n",
       "</style>\n",
       "<table border=\"1\" class=\"dataframe\">\n",
       "  <thead>\n",
       "    <tr style=\"text-align: right;\">\n",
       "      <th></th>\n",
       "      <th>run_accession</th>\n",
       "      <th>sample_accession</th>\n",
       "      <th>study_accession</th>\n",
       "      <th>sample_description</th>\n",
       "      <th>study_title</th>\n",
       "      <th>library_strategy</th>\n",
       "      <th>scientific_name</th>\n",
       "      <th>instrument_platform</th>\n",
       "      <th>instrument_model</th>\n",
       "      <th>collection_date_end</th>\n",
       "      <th>location</th>\n",
       "      <th>lat</th>\n",
       "      <th>lon</th>\n",
       "      <th>country</th>\n",
       "      <th>fastq_bytes</th>\n",
       "      <th>fastq_ftp</th>\n",
       "      <th>scientific_name_labels</th>\n",
       "    </tr>\n",
       "  </thead>\n",
       "  <tbody>\n",
       "    <tr>\n",
       "      <th>3</th>\n",
       "      <td>ERR4833476</td>\n",
       "      <td>SAMEA7567423</td>\n",
       "      <td>PRJEB41295</td>\n",
       "      <td>Mangrove rhizosphere metagenome</td>\n",
       "      <td>Native and introduced mangroves select distinc...</td>\n",
       "      <td>WGS</td>\n",
       "      <td>mangrove metagenome</td>\n",
       "      <td>ILLUMINA</td>\n",
       "      <td>NextSeq 550</td>\n",
       "      <td>2018-12-31</td>\n",
       "      <td>23.27 N 116.52 E</td>\n",
       "      <td>23.27</td>\n",
       "      <td>116.52</td>\n",
       "      <td>China</td>\n",
       "      <td>3585629891;3960554345</td>\n",
       "      <td>ftp.sra.ebi.ac.uk/vol1/fastq/ERR483/006/ERR483...</td>\n",
       "      <td>rhizosphere metagenome</td>\n",
       "    </tr>\n",
       "    <tr>\n",
       "      <th>4</th>\n",
       "      <td>ERR4833477</td>\n",
       "      <td>SAMEA7567424</td>\n",
       "      <td>PRJEB41295</td>\n",
       "      <td>Mangrove rhizosphere metagenome</td>\n",
       "      <td>Native and introduced mangroves select distinc...</td>\n",
       "      <td>WGS</td>\n",
       "      <td>mangrove metagenome</td>\n",
       "      <td>ILLUMINA</td>\n",
       "      <td>NextSeq 550</td>\n",
       "      <td>2018-12-31</td>\n",
       "      <td>23.27 N 116.52 E</td>\n",
       "      <td>23.27</td>\n",
       "      <td>116.52</td>\n",
       "      <td>China</td>\n",
       "      <td>3675375581;4063769533</td>\n",
       "      <td>ftp.sra.ebi.ac.uk/vol1/fastq/ERR483/007/ERR483...</td>\n",
       "      <td>rhizosphere metagenome</td>\n",
       "    </tr>\n",
       "    <tr>\n",
       "      <th>5</th>\n",
       "      <td>ERR12329181</td>\n",
       "      <td>SAMEA114664778</td>\n",
       "      <td>PRJEB70438</td>\n",
       "      <td>Site 13A1 Mangrove sample</td>\n",
       "      <td>Assembly-based metagenomics of coral reef &amp; ma...</td>\n",
       "      <td>WGS</td>\n",
       "      <td>uncultured bacterium</td>\n",
       "      <td>ILLUMINA</td>\n",
       "      <td>NextSeq 550</td>\n",
       "      <td>2017-10-13</td>\n",
       "      <td>7.466203 N 81.732981 W</td>\n",
       "      <td>7.466203</td>\n",
       "      <td>-81.732981</td>\n",
       "      <td>Panama</td>\n",
       "      <td>857821694;843231396</td>\n",
       "      <td>ftp.sra.ebi.ac.uk/vol1/fastq/ERR123/081/ERR123...</td>\n",
       "      <td>uncultured bacterium</td>\n",
       "    </tr>\n",
       "    <tr>\n",
       "      <th>6</th>\n",
       "      <td>ERR12329183</td>\n",
       "      <td>SAMEA114664780</td>\n",
       "      <td>PRJEB70438</td>\n",
       "      <td>Site 13A3 Mangrove sample</td>\n",
       "      <td>Assembly-based metagenomics of coral reef &amp; ma...</td>\n",
       "      <td>WGS</td>\n",
       "      <td>uncultured bacterium</td>\n",
       "      <td>ILLUMINA</td>\n",
       "      <td>NextSeq 550</td>\n",
       "      <td>2017-10-13</td>\n",
       "      <td>7.465868 N 81.726241 W</td>\n",
       "      <td>7.465868</td>\n",
       "      <td>-81.726241</td>\n",
       "      <td>Panama</td>\n",
       "      <td>555010025;541085504</td>\n",
       "      <td>ftp.sra.ebi.ac.uk/vol1/fastq/ERR123/083/ERR123...</td>\n",
       "      <td>uncultured bacterium</td>\n",
       "    </tr>\n",
       "    <tr>\n",
       "      <th>7</th>\n",
       "      <td>ERR12329184</td>\n",
       "      <td>SAMEA114664781</td>\n",
       "      <td>PRJEB70438</td>\n",
       "      <td>Site 13A4 Mangrove sample</td>\n",
       "      <td>Assembly-based metagenomics of coral reef &amp; ma...</td>\n",
       "      <td>WGS</td>\n",
       "      <td>uncultured bacterium</td>\n",
       "      <td>ILLUMINA</td>\n",
       "      <td>NextSeq 550</td>\n",
       "      <td>2017-10-13</td>\n",
       "      <td>7.462678 N 81.722228 W</td>\n",
       "      <td>7.462678</td>\n",
       "      <td>-81.722228</td>\n",
       "      <td>Panama</td>\n",
       "      <td>590035569;603841669</td>\n",
       "      <td>ftp.sra.ebi.ac.uk/vol1/fastq/ERR123/084/ERR123...</td>\n",
       "      <td>uncultured bacterium</td>\n",
       "    </tr>\n",
       "    <tr>\n",
       "      <th>...</th>\n",
       "      <td>...</td>\n",
       "      <td>...</td>\n",
       "      <td>...</td>\n",
       "      <td>...</td>\n",
       "      <td>...</td>\n",
       "      <td>...</td>\n",
       "      <td>...</td>\n",
       "      <td>...</td>\n",
       "      <td>...</td>\n",
       "      <td>...</td>\n",
       "      <td>...</td>\n",
       "      <td>...</td>\n",
       "      <td>...</td>\n",
       "      <td>...</td>\n",
       "      <td>...</td>\n",
       "      <td>...</td>\n",
       "      <td>...</td>\n",
       "    </tr>\n",
       "    <tr>\n",
       "      <th>244</th>\n",
       "      <td>SRR24201523</td>\n",
       "      <td>SAMN33849203</td>\n",
       "      <td>PRJNA947344</td>\n",
       "      <td>Whole metagenome of rhizosphere soil of Kalibh...</td>\n",
       "      <td>Whole-metagenome shotgun sequencing of soil sa...</td>\n",
       "      <td>WGS</td>\n",
       "      <td>soil metagenome</td>\n",
       "      <td>ILLUMINA</td>\n",
       "      <td>Illumina NovaSeq 6000</td>\n",
       "      <td>2022-04-03</td>\n",
       "      <td>20.7744 N 86.9268 E</td>\n",
       "      <td>20.7744</td>\n",
       "      <td>86.9268</td>\n",
       "      <td>India: Bhitarkanika mangrove forest, Odisha</td>\n",
       "      <td>2521256864;2490491525</td>\n",
       "      <td>ftp.sra.ebi.ac.uk/vol1/fastq/SRR242/023/SRR242...</td>\n",
       "      <td>soil metagenome</td>\n",
       "    </tr>\n",
       "    <tr>\n",
       "      <th>245</th>\n",
       "      <td>SRR24201527</td>\n",
       "      <td>SAMN33848497</td>\n",
       "      <td>PRJNA947344</td>\n",
       "      <td>Whole metagenome of rhizosphere soil of Kalibh...</td>\n",
       "      <td>Whole-metagenome shotgun sequencing of soil sa...</td>\n",
       "      <td>WGS</td>\n",
       "      <td>soil metagenome</td>\n",
       "      <td>ILLUMINA</td>\n",
       "      <td>Illumina NovaSeq 6000</td>\n",
       "      <td>2021-10-02</td>\n",
       "      <td>20.775 N 86.9253 E</td>\n",
       "      <td>20.775</td>\n",
       "      <td>86.9253</td>\n",
       "      <td>India: Bhitarkanika mangrove forest, Odisha</td>\n",
       "      <td>2700127663;2824067298</td>\n",
       "      <td>ftp.sra.ebi.ac.uk/vol1/fastq/SRR242/027/SRR242...</td>\n",
       "      <td>soil metagenome</td>\n",
       "    </tr>\n",
       "    <tr>\n",
       "      <th>246</th>\n",
       "      <td>SRR5019746</td>\n",
       "      <td>SAMN06011245</td>\n",
       "      <td>PRJNA353167</td>\n",
       "      <td>This strain of Pseudomonas hussainii named MB3...</td>\n",
       "      <td>Pseudomonas hussainii strain:MB3 Genome sequen...</td>\n",
       "      <td>WGS</td>\n",
       "      <td>Atopomonas hussainii</td>\n",
       "      <td>ILLUMINA</td>\n",
       "      <td>NextSeq 500</td>\n",
       "      <td>2015-09-30</td>\n",
       "      <td>11.5061 N 92.7017 E</td>\n",
       "      <td>11.5061</td>\n",
       "      <td>92.7017</td>\n",
       "      <td>India: Andaman islands</td>\n",
       "      <td>56828614</td>\n",
       "      <td>ftp.sra.ebi.ac.uk/vol1/fastq/SRR501/006/SRR501...</td>\n",
       "      <td>Atopomonas hussainii</td>\n",
       "    </tr>\n",
       "    <tr>\n",
       "      <th>247</th>\n",
       "      <td>ERR12658426</td>\n",
       "      <td>SAMEA115283882</td>\n",
       "      <td>PRJEB72453</td>\n",
       "      <td>Sample four from the sixth transfer of the mic...</td>\n",
       "      <td>Explore and identify the functional potential ...</td>\n",
       "      <td>WGS</td>\n",
       "      <td>mangrove metagenome</td>\n",
       "      <td>ILLUMINA</td>\n",
       "      <td>Illumina NovaSeq 6000</td>\n",
       "      <td>2021-06-30</td>\n",
       "      <td>10.26366 N 75.59169 W</td>\n",
       "      <td>10.26366</td>\n",
       "      <td>-75.59169</td>\n",
       "      <td>Colombia</td>\n",
       "      <td>2944631619;3055381112</td>\n",
       "      <td>ftp.sra.ebi.ac.uk/vol1/fastq/ERR126/026/ERR126...</td>\n",
       "      <td>soil metagenome</td>\n",
       "    </tr>\n",
       "    <tr>\n",
       "      <th>249</th>\n",
       "      <td>SRR8299411</td>\n",
       "      <td>SAMN07357232</td>\n",
       "      <td>PRJNA394679</td>\n",
       "      <td>In this study, bacteria belonging to Planctomy...</td>\n",
       "      <td>Rhodopirellula sp. MGV Genome sequencing and a...</td>\n",
       "      <td>WGS</td>\n",
       "      <td>Rhodopirellula sp. MGV</td>\n",
       "      <td>ION_TORRENT</td>\n",
       "      <td>Ion Torrent PGM</td>\n",
       "      <td>2013-04-10</td>\n",
       "      <td>23.8964 S 46.2139 W</td>\n",
       "      <td>-23.8964</td>\n",
       "      <td>-46.2139</td>\n",
       "      <td>Brazil: Sao Paulo, Bertioga</td>\n",
       "      <td>765105920</td>\n",
       "      <td>ftp.sra.ebi.ac.uk/vol1/fastq/SRR829/001/SRR829...</td>\n",
       "      <td>Rhodopirellula sp. MGV</td>\n",
       "    </tr>\n",
       "  </tbody>\n",
       "</table>\n",
       "<p>235 rows × 17 columns</p>\n",
       "</div>"
      ],
      "text/plain": [
       "    run_accession sample_accession study_accession  \\\n",
       "3      ERR4833476     SAMEA7567423      PRJEB41295   \n",
       "4      ERR4833477     SAMEA7567424      PRJEB41295   \n",
       "5     ERR12329181   SAMEA114664778      PRJEB70438   \n",
       "6     ERR12329183   SAMEA114664780      PRJEB70438   \n",
       "7     ERR12329184   SAMEA114664781      PRJEB70438   \n",
       "..            ...              ...             ...   \n",
       "244   SRR24201523     SAMN33849203     PRJNA947344   \n",
       "245   SRR24201527     SAMN33848497     PRJNA947344   \n",
       "246    SRR5019746     SAMN06011245     PRJNA353167   \n",
       "247   ERR12658426   SAMEA115283882      PRJEB72453   \n",
       "249    SRR8299411     SAMN07357232     PRJNA394679   \n",
       "\n",
       "                                    sample_description  \\\n",
       "3                      Mangrove rhizosphere metagenome   \n",
       "4                      Mangrove rhizosphere metagenome   \n",
       "5                            Site 13A1 Mangrove sample   \n",
       "6                            Site 13A3 Mangrove sample   \n",
       "7                            Site 13A4 Mangrove sample   \n",
       "..                                                 ...   \n",
       "244  Whole metagenome of rhizosphere soil of Kalibh...   \n",
       "245  Whole metagenome of rhizosphere soil of Kalibh...   \n",
       "246  This strain of Pseudomonas hussainii named MB3...   \n",
       "247  Sample four from the sixth transfer of the mic...   \n",
       "249  In this study, bacteria belonging to Planctomy...   \n",
       "\n",
       "                                           study_title library_strategy  \\\n",
       "3    Native and introduced mangroves select distinc...              WGS   \n",
       "4    Native and introduced mangroves select distinc...              WGS   \n",
       "5    Assembly-based metagenomics of coral reef & ma...              WGS   \n",
       "6    Assembly-based metagenomics of coral reef & ma...              WGS   \n",
       "7    Assembly-based metagenomics of coral reef & ma...              WGS   \n",
       "..                                                 ...              ...   \n",
       "244  Whole-metagenome shotgun sequencing of soil sa...              WGS   \n",
       "245  Whole-metagenome shotgun sequencing of soil sa...              WGS   \n",
       "246  Pseudomonas hussainii strain:MB3 Genome sequen...              WGS   \n",
       "247  Explore and identify the functional potential ...              WGS   \n",
       "249  Rhodopirellula sp. MGV Genome sequencing and a...              WGS   \n",
       "\n",
       "            scientific_name instrument_platform       instrument_model  \\\n",
       "3       mangrove metagenome            ILLUMINA            NextSeq 550   \n",
       "4       mangrove metagenome            ILLUMINA            NextSeq 550   \n",
       "5      uncultured bacterium            ILLUMINA            NextSeq 550   \n",
       "6      uncultured bacterium            ILLUMINA            NextSeq 550   \n",
       "7      uncultured bacterium            ILLUMINA            NextSeq 550   \n",
       "..                      ...                 ...                    ...   \n",
       "244         soil metagenome            ILLUMINA  Illumina NovaSeq 6000   \n",
       "245         soil metagenome            ILLUMINA  Illumina NovaSeq 6000   \n",
       "246    Atopomonas hussainii            ILLUMINA            NextSeq 500   \n",
       "247     mangrove metagenome            ILLUMINA  Illumina NovaSeq 6000   \n",
       "249  Rhodopirellula sp. MGV         ION_TORRENT        Ion Torrent PGM   \n",
       "\n",
       "    collection_date_end                location       lat         lon  \\\n",
       "3            2018-12-31        23.27 N 116.52 E     23.27      116.52   \n",
       "4            2018-12-31        23.27 N 116.52 E     23.27      116.52   \n",
       "5            2017-10-13  7.466203 N 81.732981 W  7.466203  -81.732981   \n",
       "6            2017-10-13  7.465868 N 81.726241 W  7.465868  -81.726241   \n",
       "7            2017-10-13  7.462678 N 81.722228 W  7.462678  -81.722228   \n",
       "..                  ...                     ...       ...         ...   \n",
       "244          2022-04-03     20.7744 N 86.9268 E   20.7744     86.9268   \n",
       "245          2021-10-02      20.775 N 86.9253 E    20.775     86.9253   \n",
       "246          2015-09-30     11.5061 N 92.7017 E   11.5061     92.7017   \n",
       "247          2021-06-30   10.26366 N 75.59169 W  10.26366   -75.59169   \n",
       "249          2013-04-10     23.8964 S 46.2139 W  -23.8964    -46.2139   \n",
       "\n",
       "                                         country            fastq_bytes  \\\n",
       "3                                          China  3585629891;3960554345   \n",
       "4                                          China  3675375581;4063769533   \n",
       "5                                         Panama    857821694;843231396   \n",
       "6                                         Panama    555010025;541085504   \n",
       "7                                         Panama    590035569;603841669   \n",
       "..                                           ...                    ...   \n",
       "244  India: Bhitarkanika mangrove forest, Odisha  2521256864;2490491525   \n",
       "245  India: Bhitarkanika mangrove forest, Odisha  2700127663;2824067298   \n",
       "246                       India: Andaman islands               56828614   \n",
       "247                                     Colombia  2944631619;3055381112   \n",
       "249                  Brazil: Sao Paulo, Bertioga              765105920   \n",
       "\n",
       "                                             fastq_ftp  scientific_name_labels  \n",
       "3    ftp.sra.ebi.ac.uk/vol1/fastq/ERR483/006/ERR483...  rhizosphere metagenome  \n",
       "4    ftp.sra.ebi.ac.uk/vol1/fastq/ERR483/007/ERR483...  rhizosphere metagenome  \n",
       "5    ftp.sra.ebi.ac.uk/vol1/fastq/ERR123/081/ERR123...    uncultured bacterium  \n",
       "6    ftp.sra.ebi.ac.uk/vol1/fastq/ERR123/083/ERR123...    uncultured bacterium  \n",
       "7    ftp.sra.ebi.ac.uk/vol1/fastq/ERR123/084/ERR123...    uncultured bacterium  \n",
       "..                                                 ...                     ...  \n",
       "244  ftp.sra.ebi.ac.uk/vol1/fastq/SRR242/023/SRR242...         soil metagenome  \n",
       "245  ftp.sra.ebi.ac.uk/vol1/fastq/SRR242/027/SRR242...         soil metagenome  \n",
       "246  ftp.sra.ebi.ac.uk/vol1/fastq/SRR501/006/SRR501...    Atopomonas hussainii  \n",
       "247  ftp.sra.ebi.ac.uk/vol1/fastq/ERR126/026/ERR126...         soil metagenome  \n",
       "249  ftp.sra.ebi.ac.uk/vol1/fastq/SRR829/001/SRR829...  Rhodopirellula sp. MGV  \n",
       "\n",
       "[235 rows x 17 columns]"
      ]
     },
     "execution_count": 321,
     "metadata": {},
     "output_type": "execute_result"
    }
   ],
   "source": [
    "# Label 'General Scientific Names' as either being:\n",
    "# wetland metagenome, seawater metagenome, rhizosphere metagenome, soil metagenome, or sediment metagenome 'Specific Scientific Names'\n",
    "# through the Sample Description Column\n",
    "\n",
    "other_SN_label = [\"mangrove metagenome\", \"metagenome\", \"aquatic metagenome\", \"marine metagenome\"]\n",
    "\n",
    "  # Create a label function to apply to the 'scientific_name' column\n",
    "def label_mangrove_metagenome(row):\n",
    "  if row['scientific_name'] in [other_SN_label[0] , other_SN_label[1], other_SN_label[2], other_SN_label[3]]:\n",
    "    if \"soil\" in row['sample_description'].lower():\n",
    "      return \"soil metagenome\"\n",
    "    elif \"rhizosphere\" in row['sample_description'].lower():\n",
    "      return \"rhizosphere metagenome\"\n",
    "    elif \"seawater\" in row['sample_description'].lower():\n",
    "      return \"seawater metagenome\"\n",
    "    elif \"sediment\" in row['sample_description'].lower():\n",
    "      return \"sediment metagenome\"\n",
    "    elif \"wetland\" in row['sample_description'].lower():\n",
    "      return \"wetland metagenome\"\n",
    "    else:\n",
    "      return \" \"\n",
    "  else:\n",
    "    return row['scientific_name']  # Keep the original value\n",
    "\n",
    "  # Apply the function to create a new 'scientific_name_labels' column\n",
    "df_3 = df_2.copy()\n",
    "df_3['scientific_name_labels'] = df_3.apply(label_mangrove_metagenome, axis=1)\n",
    "\n",
    "df_3"
   ]
  },
  {
   "cell_type": "code",
   "execution_count": 322,
   "metadata": {
    "colab": {
     "base_uri": "https://localhost:8080/",
     "height": 1000
    },
    "id": "dacjkCNiFfZF",
    "outputId": "1514c783-1c50-49ed-c560-51069dc1e1ab"
   },
   "outputs": [
    {
     "data": {
      "text/html": [
       "<div>\n",
       "<style scoped>\n",
       "    .dataframe tbody tr th:only-of-type {\n",
       "        vertical-align: middle;\n",
       "    }\n",
       "\n",
       "    .dataframe tbody tr th {\n",
       "        vertical-align: top;\n",
       "    }\n",
       "\n",
       "    .dataframe thead th {\n",
       "        text-align: right;\n",
       "    }\n",
       "</style>\n",
       "<table border=\"1\" class=\"dataframe\">\n",
       "  <thead>\n",
       "    <tr style=\"text-align: right;\">\n",
       "      <th></th>\n",
       "      <th>run_accession</th>\n",
       "      <th>sample_accession</th>\n",
       "      <th>study_accession</th>\n",
       "      <th>sample_description</th>\n",
       "      <th>study_title</th>\n",
       "      <th>library_strategy</th>\n",
       "      <th>scientific_name</th>\n",
       "      <th>instrument_platform</th>\n",
       "      <th>instrument_model</th>\n",
       "      <th>collection_date_end</th>\n",
       "      <th>location</th>\n",
       "      <th>lat</th>\n",
       "      <th>lon</th>\n",
       "      <th>country</th>\n",
       "      <th>fastq_bytes</th>\n",
       "      <th>fastq_ftp</th>\n",
       "      <th>scientific_name_labels</th>\n",
       "      <th>collection_date_year</th>\n",
       "    </tr>\n",
       "  </thead>\n",
       "  <tbody>\n",
       "    <tr>\n",
       "      <th>3</th>\n",
       "      <td>ERR4833476</td>\n",
       "      <td>SAMEA7567423</td>\n",
       "      <td>PRJEB41295</td>\n",
       "      <td>Mangrove rhizosphere metagenome</td>\n",
       "      <td>Native and introduced mangroves select distinc...</td>\n",
       "      <td>WGS</td>\n",
       "      <td>mangrove metagenome</td>\n",
       "      <td>ILLUMINA</td>\n",
       "      <td>NextSeq 550</td>\n",
       "      <td>2018-12-31</td>\n",
       "      <td>23.27 N 116.52 E</td>\n",
       "      <td>23.27</td>\n",
       "      <td>116.52</td>\n",
       "      <td>China</td>\n",
       "      <td>3585629891;3960554345</td>\n",
       "      <td>ftp.sra.ebi.ac.uk/vol1/fastq/ERR483/006/ERR483...</td>\n",
       "      <td>rhizosphere metagenome</td>\n",
       "      <td>2018</td>\n",
       "    </tr>\n",
       "    <tr>\n",
       "      <th>4</th>\n",
       "      <td>ERR4833477</td>\n",
       "      <td>SAMEA7567424</td>\n",
       "      <td>PRJEB41295</td>\n",
       "      <td>Mangrove rhizosphere metagenome</td>\n",
       "      <td>Native and introduced mangroves select distinc...</td>\n",
       "      <td>WGS</td>\n",
       "      <td>mangrove metagenome</td>\n",
       "      <td>ILLUMINA</td>\n",
       "      <td>NextSeq 550</td>\n",
       "      <td>2018-12-31</td>\n",
       "      <td>23.27 N 116.52 E</td>\n",
       "      <td>23.27</td>\n",
       "      <td>116.52</td>\n",
       "      <td>China</td>\n",
       "      <td>3675375581;4063769533</td>\n",
       "      <td>ftp.sra.ebi.ac.uk/vol1/fastq/ERR483/007/ERR483...</td>\n",
       "      <td>rhizosphere metagenome</td>\n",
       "      <td>2018</td>\n",
       "    </tr>\n",
       "    <tr>\n",
       "      <th>5</th>\n",
       "      <td>ERR12329181</td>\n",
       "      <td>SAMEA114664778</td>\n",
       "      <td>PRJEB70438</td>\n",
       "      <td>Site 13A1 Mangrove sample</td>\n",
       "      <td>Assembly-based metagenomics of coral reef &amp; ma...</td>\n",
       "      <td>WGS</td>\n",
       "      <td>uncultured bacterium</td>\n",
       "      <td>ILLUMINA</td>\n",
       "      <td>NextSeq 550</td>\n",
       "      <td>2017-10-13</td>\n",
       "      <td>7.466203 N 81.732981 W</td>\n",
       "      <td>7.466203</td>\n",
       "      <td>-81.732981</td>\n",
       "      <td>Panama</td>\n",
       "      <td>857821694;843231396</td>\n",
       "      <td>ftp.sra.ebi.ac.uk/vol1/fastq/ERR123/081/ERR123...</td>\n",
       "      <td>uncultured bacterium</td>\n",
       "      <td>2017</td>\n",
       "    </tr>\n",
       "    <tr>\n",
       "      <th>6</th>\n",
       "      <td>ERR12329183</td>\n",
       "      <td>SAMEA114664780</td>\n",
       "      <td>PRJEB70438</td>\n",
       "      <td>Site 13A3 Mangrove sample</td>\n",
       "      <td>Assembly-based metagenomics of coral reef &amp; ma...</td>\n",
       "      <td>WGS</td>\n",
       "      <td>uncultured bacterium</td>\n",
       "      <td>ILLUMINA</td>\n",
       "      <td>NextSeq 550</td>\n",
       "      <td>2017-10-13</td>\n",
       "      <td>7.465868 N 81.726241 W</td>\n",
       "      <td>7.465868</td>\n",
       "      <td>-81.726241</td>\n",
       "      <td>Panama</td>\n",
       "      <td>555010025;541085504</td>\n",
       "      <td>ftp.sra.ebi.ac.uk/vol1/fastq/ERR123/083/ERR123...</td>\n",
       "      <td>uncultured bacterium</td>\n",
       "      <td>2017</td>\n",
       "    </tr>\n",
       "    <tr>\n",
       "      <th>7</th>\n",
       "      <td>ERR12329184</td>\n",
       "      <td>SAMEA114664781</td>\n",
       "      <td>PRJEB70438</td>\n",
       "      <td>Site 13A4 Mangrove sample</td>\n",
       "      <td>Assembly-based metagenomics of coral reef &amp; ma...</td>\n",
       "      <td>WGS</td>\n",
       "      <td>uncultured bacterium</td>\n",
       "      <td>ILLUMINA</td>\n",
       "      <td>NextSeq 550</td>\n",
       "      <td>2017-10-13</td>\n",
       "      <td>7.462678 N 81.722228 W</td>\n",
       "      <td>7.462678</td>\n",
       "      <td>-81.722228</td>\n",
       "      <td>Panama</td>\n",
       "      <td>590035569;603841669</td>\n",
       "      <td>ftp.sra.ebi.ac.uk/vol1/fastq/ERR123/084/ERR123...</td>\n",
       "      <td>uncultured bacterium</td>\n",
       "      <td>2017</td>\n",
       "    </tr>\n",
       "    <tr>\n",
       "      <th>...</th>\n",
       "      <td>...</td>\n",
       "      <td>...</td>\n",
       "      <td>...</td>\n",
       "      <td>...</td>\n",
       "      <td>...</td>\n",
       "      <td>...</td>\n",
       "      <td>...</td>\n",
       "      <td>...</td>\n",
       "      <td>...</td>\n",
       "      <td>...</td>\n",
       "      <td>...</td>\n",
       "      <td>...</td>\n",
       "      <td>...</td>\n",
       "      <td>...</td>\n",
       "      <td>...</td>\n",
       "      <td>...</td>\n",
       "      <td>...</td>\n",
       "      <td>...</td>\n",
       "    </tr>\n",
       "    <tr>\n",
       "      <th>244</th>\n",
       "      <td>SRR24201523</td>\n",
       "      <td>SAMN33849203</td>\n",
       "      <td>PRJNA947344</td>\n",
       "      <td>Whole metagenome of rhizosphere soil of Kalibh...</td>\n",
       "      <td>Whole-metagenome shotgun sequencing of soil sa...</td>\n",
       "      <td>WGS</td>\n",
       "      <td>soil metagenome</td>\n",
       "      <td>ILLUMINA</td>\n",
       "      <td>Illumina NovaSeq 6000</td>\n",
       "      <td>2022-04-03</td>\n",
       "      <td>20.7744 N 86.9268 E</td>\n",
       "      <td>20.7744</td>\n",
       "      <td>86.9268</td>\n",
       "      <td>India: Bhitarkanika mangrove forest, Odisha</td>\n",
       "      <td>2521256864;2490491525</td>\n",
       "      <td>ftp.sra.ebi.ac.uk/vol1/fastq/SRR242/023/SRR242...</td>\n",
       "      <td>soil metagenome</td>\n",
       "      <td>2022</td>\n",
       "    </tr>\n",
       "    <tr>\n",
       "      <th>245</th>\n",
       "      <td>SRR24201527</td>\n",
       "      <td>SAMN33848497</td>\n",
       "      <td>PRJNA947344</td>\n",
       "      <td>Whole metagenome of rhizosphere soil of Kalibh...</td>\n",
       "      <td>Whole-metagenome shotgun sequencing of soil sa...</td>\n",
       "      <td>WGS</td>\n",
       "      <td>soil metagenome</td>\n",
       "      <td>ILLUMINA</td>\n",
       "      <td>Illumina NovaSeq 6000</td>\n",
       "      <td>2021-10-02</td>\n",
       "      <td>20.775 N 86.9253 E</td>\n",
       "      <td>20.775</td>\n",
       "      <td>86.9253</td>\n",
       "      <td>India: Bhitarkanika mangrove forest, Odisha</td>\n",
       "      <td>2700127663;2824067298</td>\n",
       "      <td>ftp.sra.ebi.ac.uk/vol1/fastq/SRR242/027/SRR242...</td>\n",
       "      <td>soil metagenome</td>\n",
       "      <td>2021</td>\n",
       "    </tr>\n",
       "    <tr>\n",
       "      <th>246</th>\n",
       "      <td>SRR5019746</td>\n",
       "      <td>SAMN06011245</td>\n",
       "      <td>PRJNA353167</td>\n",
       "      <td>This strain of Pseudomonas hussainii named MB3...</td>\n",
       "      <td>Pseudomonas hussainii strain:MB3 Genome sequen...</td>\n",
       "      <td>WGS</td>\n",
       "      <td>Atopomonas hussainii</td>\n",
       "      <td>ILLUMINA</td>\n",
       "      <td>NextSeq 500</td>\n",
       "      <td>2015-09-30</td>\n",
       "      <td>11.5061 N 92.7017 E</td>\n",
       "      <td>11.5061</td>\n",
       "      <td>92.7017</td>\n",
       "      <td>India: Andaman islands</td>\n",
       "      <td>56828614</td>\n",
       "      <td>ftp.sra.ebi.ac.uk/vol1/fastq/SRR501/006/SRR501...</td>\n",
       "      <td>Atopomonas hussainii</td>\n",
       "      <td>2015</td>\n",
       "    </tr>\n",
       "    <tr>\n",
       "      <th>247</th>\n",
       "      <td>ERR12658426</td>\n",
       "      <td>SAMEA115283882</td>\n",
       "      <td>PRJEB72453</td>\n",
       "      <td>Sample four from the sixth transfer of the mic...</td>\n",
       "      <td>Explore and identify the functional potential ...</td>\n",
       "      <td>WGS</td>\n",
       "      <td>mangrove metagenome</td>\n",
       "      <td>ILLUMINA</td>\n",
       "      <td>Illumina NovaSeq 6000</td>\n",
       "      <td>2021-06-30</td>\n",
       "      <td>10.26366 N 75.59169 W</td>\n",
       "      <td>10.26366</td>\n",
       "      <td>-75.59169</td>\n",
       "      <td>Colombia</td>\n",
       "      <td>2944631619;3055381112</td>\n",
       "      <td>ftp.sra.ebi.ac.uk/vol1/fastq/ERR126/026/ERR126...</td>\n",
       "      <td>soil metagenome</td>\n",
       "      <td>2021</td>\n",
       "    </tr>\n",
       "    <tr>\n",
       "      <th>249</th>\n",
       "      <td>SRR8299411</td>\n",
       "      <td>SAMN07357232</td>\n",
       "      <td>PRJNA394679</td>\n",
       "      <td>In this study, bacteria belonging to Planctomy...</td>\n",
       "      <td>Rhodopirellula sp. MGV Genome sequencing and a...</td>\n",
       "      <td>WGS</td>\n",
       "      <td>Rhodopirellula sp. MGV</td>\n",
       "      <td>ION_TORRENT</td>\n",
       "      <td>Ion Torrent PGM</td>\n",
       "      <td>2013-04-10</td>\n",
       "      <td>23.8964 S 46.2139 W</td>\n",
       "      <td>-23.8964</td>\n",
       "      <td>-46.2139</td>\n",
       "      <td>Brazil: Sao Paulo, Bertioga</td>\n",
       "      <td>765105920</td>\n",
       "      <td>ftp.sra.ebi.ac.uk/vol1/fastq/SRR829/001/SRR829...</td>\n",
       "      <td>Rhodopirellula sp. MGV</td>\n",
       "      <td>2013</td>\n",
       "    </tr>\n",
       "  </tbody>\n",
       "</table>\n",
       "<p>235 rows × 18 columns</p>\n",
       "</div>"
      ],
      "text/plain": [
       "    run_accession sample_accession study_accession  \\\n",
       "3      ERR4833476     SAMEA7567423      PRJEB41295   \n",
       "4      ERR4833477     SAMEA7567424      PRJEB41295   \n",
       "5     ERR12329181   SAMEA114664778      PRJEB70438   \n",
       "6     ERR12329183   SAMEA114664780      PRJEB70438   \n",
       "7     ERR12329184   SAMEA114664781      PRJEB70438   \n",
       "..            ...              ...             ...   \n",
       "244   SRR24201523     SAMN33849203     PRJNA947344   \n",
       "245   SRR24201527     SAMN33848497     PRJNA947344   \n",
       "246    SRR5019746     SAMN06011245     PRJNA353167   \n",
       "247   ERR12658426   SAMEA115283882      PRJEB72453   \n",
       "249    SRR8299411     SAMN07357232     PRJNA394679   \n",
       "\n",
       "                                    sample_description  \\\n",
       "3                      Mangrove rhizosphere metagenome   \n",
       "4                      Mangrove rhizosphere metagenome   \n",
       "5                            Site 13A1 Mangrove sample   \n",
       "6                            Site 13A3 Mangrove sample   \n",
       "7                            Site 13A4 Mangrove sample   \n",
       "..                                                 ...   \n",
       "244  Whole metagenome of rhizosphere soil of Kalibh...   \n",
       "245  Whole metagenome of rhizosphere soil of Kalibh...   \n",
       "246  This strain of Pseudomonas hussainii named MB3...   \n",
       "247  Sample four from the sixth transfer of the mic...   \n",
       "249  In this study, bacteria belonging to Planctomy...   \n",
       "\n",
       "                                           study_title library_strategy  \\\n",
       "3    Native and introduced mangroves select distinc...              WGS   \n",
       "4    Native and introduced mangroves select distinc...              WGS   \n",
       "5    Assembly-based metagenomics of coral reef & ma...              WGS   \n",
       "6    Assembly-based metagenomics of coral reef & ma...              WGS   \n",
       "7    Assembly-based metagenomics of coral reef & ma...              WGS   \n",
       "..                                                 ...              ...   \n",
       "244  Whole-metagenome shotgun sequencing of soil sa...              WGS   \n",
       "245  Whole-metagenome shotgun sequencing of soil sa...              WGS   \n",
       "246  Pseudomonas hussainii strain:MB3 Genome sequen...              WGS   \n",
       "247  Explore and identify the functional potential ...              WGS   \n",
       "249  Rhodopirellula sp. MGV Genome sequencing and a...              WGS   \n",
       "\n",
       "            scientific_name instrument_platform       instrument_model  \\\n",
       "3       mangrove metagenome            ILLUMINA            NextSeq 550   \n",
       "4       mangrove metagenome            ILLUMINA            NextSeq 550   \n",
       "5      uncultured bacterium            ILLUMINA            NextSeq 550   \n",
       "6      uncultured bacterium            ILLUMINA            NextSeq 550   \n",
       "7      uncultured bacterium            ILLUMINA            NextSeq 550   \n",
       "..                      ...                 ...                    ...   \n",
       "244         soil metagenome            ILLUMINA  Illumina NovaSeq 6000   \n",
       "245         soil metagenome            ILLUMINA  Illumina NovaSeq 6000   \n",
       "246    Atopomonas hussainii            ILLUMINA            NextSeq 500   \n",
       "247     mangrove metagenome            ILLUMINA  Illumina NovaSeq 6000   \n",
       "249  Rhodopirellula sp. MGV         ION_TORRENT        Ion Torrent PGM   \n",
       "\n",
       "    collection_date_end                location       lat         lon  \\\n",
       "3            2018-12-31        23.27 N 116.52 E     23.27      116.52   \n",
       "4            2018-12-31        23.27 N 116.52 E     23.27      116.52   \n",
       "5            2017-10-13  7.466203 N 81.732981 W  7.466203  -81.732981   \n",
       "6            2017-10-13  7.465868 N 81.726241 W  7.465868  -81.726241   \n",
       "7            2017-10-13  7.462678 N 81.722228 W  7.462678  -81.722228   \n",
       "..                  ...                     ...       ...         ...   \n",
       "244          2022-04-03     20.7744 N 86.9268 E   20.7744     86.9268   \n",
       "245          2021-10-02      20.775 N 86.9253 E    20.775     86.9253   \n",
       "246          2015-09-30     11.5061 N 92.7017 E   11.5061     92.7017   \n",
       "247          2021-06-30   10.26366 N 75.59169 W  10.26366   -75.59169   \n",
       "249          2013-04-10     23.8964 S 46.2139 W  -23.8964    -46.2139   \n",
       "\n",
       "                                         country            fastq_bytes  \\\n",
       "3                                          China  3585629891;3960554345   \n",
       "4                                          China  3675375581;4063769533   \n",
       "5                                         Panama    857821694;843231396   \n",
       "6                                         Panama    555010025;541085504   \n",
       "7                                         Panama    590035569;603841669   \n",
       "..                                           ...                    ...   \n",
       "244  India: Bhitarkanika mangrove forest, Odisha  2521256864;2490491525   \n",
       "245  India: Bhitarkanika mangrove forest, Odisha  2700127663;2824067298   \n",
       "246                       India: Andaman islands               56828614   \n",
       "247                                     Colombia  2944631619;3055381112   \n",
       "249                  Brazil: Sao Paulo, Bertioga              765105920   \n",
       "\n",
       "                                             fastq_ftp  \\\n",
       "3    ftp.sra.ebi.ac.uk/vol1/fastq/ERR483/006/ERR483...   \n",
       "4    ftp.sra.ebi.ac.uk/vol1/fastq/ERR483/007/ERR483...   \n",
       "5    ftp.sra.ebi.ac.uk/vol1/fastq/ERR123/081/ERR123...   \n",
       "6    ftp.sra.ebi.ac.uk/vol1/fastq/ERR123/083/ERR123...   \n",
       "7    ftp.sra.ebi.ac.uk/vol1/fastq/ERR123/084/ERR123...   \n",
       "..                                                 ...   \n",
       "244  ftp.sra.ebi.ac.uk/vol1/fastq/SRR242/023/SRR242...   \n",
       "245  ftp.sra.ebi.ac.uk/vol1/fastq/SRR242/027/SRR242...   \n",
       "246  ftp.sra.ebi.ac.uk/vol1/fastq/SRR501/006/SRR501...   \n",
       "247  ftp.sra.ebi.ac.uk/vol1/fastq/ERR126/026/ERR126...   \n",
       "249  ftp.sra.ebi.ac.uk/vol1/fastq/SRR829/001/SRR829...   \n",
       "\n",
       "     scientific_name_labels collection_date_year  \n",
       "3    rhizosphere metagenome                 2018  \n",
       "4    rhizosphere metagenome                 2018  \n",
       "5      uncultured bacterium                 2017  \n",
       "6      uncultured bacterium                 2017  \n",
       "7      uncultured bacterium                 2017  \n",
       "..                      ...                  ...  \n",
       "244         soil metagenome                 2022  \n",
       "245         soil metagenome                 2021  \n",
       "246    Atopomonas hussainii                 2015  \n",
       "247         soil metagenome                 2021  \n",
       "249  Rhodopirellula sp. MGV                 2013  \n",
       "\n",
       "[235 rows x 18 columns]"
      ]
     },
     "execution_count": 322,
     "metadata": {},
     "output_type": "execute_result"
    }
   ],
   "source": [
    "# Extract the year from the 'collection_date_end' column ('YYYY-MM-DD')\n",
    "\n",
    "df_3['collection_date_year'] = df_3['collection_date_end'].str[:4]\n",
    "df_3"
   ]
  },
  {
   "cell_type": "code",
   "execution_count": 323,
   "metadata": {
    "id": "ijj4IEkTFsWc"
   },
   "outputs": [],
   "source": [
    "# Save on a CSV field\n",
    "df_3.to_csv(metadata_path + '02_mangrove_metagenome_datasets_scientificnamelabels_and_collectiondateyear_newcolums.csv', index=False)"
   ]
  },
  {
   "cell_type": "markdown",
   "metadata": {
    "id": "Z7YxJ9uvTer8"
   },
   "source": [
    "### **Handling unuseful datasets**"
   ]
  },
  {
   "cell_type": "code",
   "execution_count": 324,
   "metadata": {
    "colab": {
     "base_uri": "https://localhost:8080/"
    },
    "id": "3l90j7_jF5HZ",
    "outputId": "cba14f71-c20c-4444-cf8f-5ea958c97888"
   },
   "outputs": [
    {
     "data": {
      "text/plain": [
       "186"
      ]
     },
     "execution_count": 324,
     "metadata": {},
     "output_type": "execute_result"
    }
   ],
   "source": [
    "# Remove Runs for which the Scientific Name is not one of the following:\n",
    "# wetland metagenome, seawater metagenome, rhizosphere metagenome, soil metagenome, or sediment metagenome Specific Scientific Names\n",
    "\n",
    "df_4 = df_3[(df_3['scientific_name_labels'] == 'wetland metagenome') | (df_3['scientific_name_labels'] == 'sediment metagenome') | (df_3['scientific_name_labels'] == 'rhizosphere metagenome') | (df_3['scientific_name_labels'] == 'soil metagenome') | (df_3['scientific_name_labels'] == 'seawater metagenome')]\n",
    "\n",
    "len(df_4)"
   ]
  },
  {
   "cell_type": "code",
   "execution_count": 325,
   "metadata": {
    "id": "MCff8_fNbcd9"
   },
   "outputs": [],
   "source": [
    "# Save on a CSV field\n",
    "df_4.to_csv(metadata_path + '03_mangrove_metagenome_datasets_onlyspecificscientificnamelabels.csv', index=False)"
   ]
  },
  {
   "cell_type": "code",
   "execution_count": null,
   "metadata": {
    "colab": {
     "base_uri": "https://localhost:8080/",
     "height": 1000
    },
    "id": "jnex6j0COS4U",
    "outputId": "e1e18f95-984f-45e7-e685-d16048cfae4b"
   },
   "outputs": [],
   "source": [
    "# Manually remove the unnecessary datasets\n",
    "\n",
    "# Conduct a final manual inspection of the descriptions of Selected Dataset \"samples\" titles to determine whether the datasets are useful or not\n",
    "df_sampledescription_selecteddatasets = df_4.groupby(['sample_description', 'scientific_name_labels'])['scientific_name_labels'].count().unstack().fillna(0)"
   ]
  },
  {
   "cell_type": "code",
   "execution_count": 330,
   "metadata": {
    "id": "WXT-SgNUUR6O"
   },
   "outputs": [],
   "source": [
    "# Save to CSV\n",
    "\n",
    "  # Reset the index to make 'sample_description' a column\n",
    "df_sampledescription_selecteddatasets = df_sampledescription_selecteddatasets.reset_index()\n",
    "\n",
    "df_sampledescription_selecteddatasets.to_csv(metadata_path + '00_table_df_sampledescription_selecteddatasets.csv', index=False)"
   ]
  },
  {
   "cell_type": "code",
   "execution_count": 333,
   "metadata": {
    "scrolled": true
   },
   "outputs": [
    {
     "data": {
      "text/plain": [
       "115"
      ]
     },
     "execution_count": 333,
     "metadata": {},
     "output_type": "execute_result"
    }
   ],
   "source": [
    "# Determine the manual inspection unuseful datasets\n",
    "df_unuseful_manual_datasets = df_4[(df_4['sample_description'].str.contains(\"Enrich.*\", case=False)) | (df_4['sample_description'].str.contains(\"shrimp.*\", case=False)) | (df_4['sample_description'].str.contains(\"microcosm.*\", case=False))| (df_4['sample_description']== \"Sediment microbial communities from coastal wetland in Texas, United States Mangrove dominant sediment\")]\n",
    "len(df_unuseful_manual_datasets)\n"
   ]
  },
  {
   "cell_type": "code",
   "execution_count": 334,
   "metadata": {},
   "outputs": [
    {
     "data": {
      "text/plain": [
       "87"
      ]
     },
     "execution_count": 334,
     "metadata": {},
     "output_type": "execute_result"
    }
   ],
   "source": [
    "# Remove the unnecessary datasets #1\n",
    "df_5 = df_4[~df_4['sample_description'].str.contains(\"Enrich.*|shrimp.*|microcosm.*\", case=False)]\n",
    "len(df_5)  "
   ]
  },
  {
   "cell_type": "code",
   "execution_count": 335,
   "metadata": {
    "scrolled": true
   },
   "outputs": [
    {
     "data": {
      "text/plain": [
       "71"
      ]
     },
     "execution_count": 335,
     "metadata": {},
     "output_type": "execute_result"
    }
   ],
   "source": [
    "# Remove the unnecessary datasets #2\n",
    "df_6 = df_5[df_5['sample_description'] != \"Sediment microbial communities from coastal wetland in Texas, United States Mangrove dominant sediment\"]\n",
    "len(df_6)"
   ]
  },
  {
   "cell_type": "code",
   "execution_count": 336,
   "metadata": {},
   "outputs": [],
   "source": [
    "# Save on a CSV field\n",
    "df_6.to_csv(metadata_path + '04_mangrove_metagenome_datasets_manuallyremoveunusefuldatasets.csv', index=False)"
   ]
  },
  {
   "cell_type": "code",
   "execution_count": 337,
   "metadata": {},
   "outputs": [
    {
     "data": {
      "text/html": [
       "<div>\n",
       "<style scoped>\n",
       "    .dataframe tbody tr th:only-of-type {\n",
       "        vertical-align: middle;\n",
       "    }\n",
       "\n",
       "    .dataframe tbody tr th {\n",
       "        vertical-align: top;\n",
       "    }\n",
       "\n",
       "    .dataframe thead th {\n",
       "        text-align: right;\n",
       "    }\n",
       "</style>\n",
       "<table border=\"1\" class=\"dataframe\">\n",
       "  <thead>\n",
       "    <tr style=\"text-align: right;\">\n",
       "      <th>scientific_name_labels</th>\n",
       "      <th>rhizosphere metagenome</th>\n",
       "      <th>sediment metagenome</th>\n",
       "      <th>soil metagenome</th>\n",
       "      <th>wetland metagenome</th>\n",
       "    </tr>\n",
       "    <tr>\n",
       "      <th>sample_description</th>\n",
       "      <th></th>\n",
       "      <th></th>\n",
       "      <th></th>\n",
       "      <th></th>\n",
       "    </tr>\n",
       "  </thead>\n",
       "  <tbody>\n",
       "    <tr>\n",
       "      <th>Mangrove rhizosphere metagenome</th>\n",
       "      <td>9.0</td>\n",
       "      <td>0.0</td>\n",
       "      <td>0.0</td>\n",
       "      <td>0.0</td>\n",
       "    </tr>\n",
       "    <tr>\n",
       "      <th>Mangrove sediments in the Qi’ao Mangrove Wetland Park of Guangdong province, China</th>\n",
       "      <td>0.0</td>\n",
       "      <td>50.0</td>\n",
       "      <td>0.0</td>\n",
       "      <td>0.0</td>\n",
       "    </tr>\n",
       "    <tr>\n",
       "      <th>Metagenome from Yunxiao mangrove sediment</th>\n",
       "      <td>0.0</td>\n",
       "      <td>2.0</td>\n",
       "      <td>0.0</td>\n",
       "      <td>0.0</td>\n",
       "    </tr>\n",
       "    <tr>\n",
       "      <th>Sediment microbial communities from coastal wetland in Texas, United States Mangrove dominant sediment, untreated</th>\n",
       "      <td>0.0</td>\n",
       "      <td>0.0</td>\n",
       "      <td>0.0</td>\n",
       "      <td>2.0</td>\n",
       "    </tr>\n",
       "    <tr>\n",
       "      <th>Whole metagenome of rhizosphere soil of Dangmal from Bhitarkanika mangrove ecosystem for bacterial community analysis during monsoon season</th>\n",
       "      <td>0.0</td>\n",
       "      <td>0.0</td>\n",
       "      <td>1.0</td>\n",
       "      <td>0.0</td>\n",
       "    </tr>\n",
       "    <tr>\n",
       "      <th>Whole metagenome of rhizosphere soil of Dangmal from Bhitarkanika mangrove ecosystem for bacterial community analysis during summer season</th>\n",
       "      <td>0.0</td>\n",
       "      <td>0.0</td>\n",
       "      <td>1.0</td>\n",
       "      <td>0.0</td>\n",
       "    </tr>\n",
       "    <tr>\n",
       "      <th>Whole metagenome of rhizosphere soil of Gupti from Bhitarkanika mangrove ecosystem for bacterial community analysis during monsoon season</th>\n",
       "      <td>0.0</td>\n",
       "      <td>0.0</td>\n",
       "      <td>1.0</td>\n",
       "      <td>0.0</td>\n",
       "    </tr>\n",
       "    <tr>\n",
       "      <th>Whole metagenome of rhizosphere soil of Gupti from Bhitarkanika mangrove ecosystem for bacterial community analysis during summer season</th>\n",
       "      <td>0.0</td>\n",
       "      <td>0.0</td>\n",
       "      <td>1.0</td>\n",
       "      <td>0.0</td>\n",
       "    </tr>\n",
       "    <tr>\n",
       "      <th>Whole metagenome of rhizosphere soil of Habalikhati from Bhitarkanika mangrove ecosystem for bacterial community analysis during monsoon season</th>\n",
       "      <td>0.0</td>\n",
       "      <td>0.0</td>\n",
       "      <td>1.0</td>\n",
       "      <td>0.0</td>\n",
       "    </tr>\n",
       "    <tr>\n",
       "      <th>Whole metagenome of rhizosphere soil of Habalikhati from Bhitarkanika mangrove ecosystem for bacterial community analysis during summer season</th>\n",
       "      <td>0.0</td>\n",
       "      <td>0.0</td>\n",
       "      <td>1.0</td>\n",
       "      <td>0.0</td>\n",
       "    </tr>\n",
       "    <tr>\n",
       "      <th>Whole metagenome of rhizosphere soil of Kalibhanjadiha from Bhitarkanika mangrove ecosystem for bacterial community analysis during monsoon season</th>\n",
       "      <td>0.0</td>\n",
       "      <td>0.0</td>\n",
       "      <td>1.0</td>\n",
       "      <td>0.0</td>\n",
       "    </tr>\n",
       "    <tr>\n",
       "      <th>Whole metagenome of rhizosphere soil of Kalibhanjadiha from Bhitarkanika mangrove ecosystem for bacterial community analysis during summer season</th>\n",
       "      <td>0.0</td>\n",
       "      <td>0.0</td>\n",
       "      <td>1.0</td>\n",
       "      <td>0.0</td>\n",
       "    </tr>\n",
       "  </tbody>\n",
       "</table>\n",
       "</div>"
      ],
      "text/plain": [
       "scientific_name_labels                              rhizosphere metagenome  \\\n",
       "sample_description                                                           \n",
       "Mangrove rhizosphere metagenome                                        9.0   \n",
       "Mangrove sediments in the Qi’ao Mangrove Wetlan...                     0.0   \n",
       "Metagenome from Yunxiao mangrove sediment                              0.0   \n",
       "Sediment microbial communities from coastal wet...                     0.0   \n",
       "Whole metagenome of rhizosphere soil of Dangmal...                     0.0   \n",
       "Whole metagenome of rhizosphere soil of Dangmal...                     0.0   \n",
       "Whole metagenome of rhizosphere soil of Gupti f...                     0.0   \n",
       "Whole metagenome of rhizosphere soil of Gupti f...                     0.0   \n",
       "Whole metagenome of rhizosphere soil of Habalik...                     0.0   \n",
       "Whole metagenome of rhizosphere soil of Habalik...                     0.0   \n",
       "Whole metagenome of rhizosphere soil of Kalibha...                     0.0   \n",
       "Whole metagenome of rhizosphere soil of Kalibha...                     0.0   \n",
       "\n",
       "scientific_name_labels                              sediment metagenome  \\\n",
       "sample_description                                                        \n",
       "Mangrove rhizosphere metagenome                                     0.0   \n",
       "Mangrove sediments in the Qi’ao Mangrove Wetlan...                 50.0   \n",
       "Metagenome from Yunxiao mangrove sediment                           2.0   \n",
       "Sediment microbial communities from coastal wet...                  0.0   \n",
       "Whole metagenome of rhizosphere soil of Dangmal...                  0.0   \n",
       "Whole metagenome of rhizosphere soil of Dangmal...                  0.0   \n",
       "Whole metagenome of rhizosphere soil of Gupti f...                  0.0   \n",
       "Whole metagenome of rhizosphere soil of Gupti f...                  0.0   \n",
       "Whole metagenome of rhizosphere soil of Habalik...                  0.0   \n",
       "Whole metagenome of rhizosphere soil of Habalik...                  0.0   \n",
       "Whole metagenome of rhizosphere soil of Kalibha...                  0.0   \n",
       "Whole metagenome of rhizosphere soil of Kalibha...                  0.0   \n",
       "\n",
       "scientific_name_labels                              soil metagenome  \\\n",
       "sample_description                                                    \n",
       "Mangrove rhizosphere metagenome                                 0.0   \n",
       "Mangrove sediments in the Qi’ao Mangrove Wetlan...              0.0   \n",
       "Metagenome from Yunxiao mangrove sediment                       0.0   \n",
       "Sediment microbial communities from coastal wet...              0.0   \n",
       "Whole metagenome of rhizosphere soil of Dangmal...              1.0   \n",
       "Whole metagenome of rhizosphere soil of Dangmal...              1.0   \n",
       "Whole metagenome of rhizosphere soil of Gupti f...              1.0   \n",
       "Whole metagenome of rhizosphere soil of Gupti f...              1.0   \n",
       "Whole metagenome of rhizosphere soil of Habalik...              1.0   \n",
       "Whole metagenome of rhizosphere soil of Habalik...              1.0   \n",
       "Whole metagenome of rhizosphere soil of Kalibha...              1.0   \n",
       "Whole metagenome of rhizosphere soil of Kalibha...              1.0   \n",
       "\n",
       "scientific_name_labels                              wetland metagenome  \n",
       "sample_description                                                      \n",
       "Mangrove rhizosphere metagenome                                    0.0  \n",
       "Mangrove sediments in the Qi’ao Mangrove Wetlan...                 0.0  \n",
       "Metagenome from Yunxiao mangrove sediment                          0.0  \n",
       "Sediment microbial communities from coastal wet...                 2.0  \n",
       "Whole metagenome of rhizosphere soil of Dangmal...                 0.0  \n",
       "Whole metagenome of rhizosphere soil of Dangmal...                 0.0  \n",
       "Whole metagenome of rhizosphere soil of Gupti f...                 0.0  \n",
       "Whole metagenome of rhizosphere soil of Gupti f...                 0.0  \n",
       "Whole metagenome of rhizosphere soil of Habalik...                 0.0  \n",
       "Whole metagenome of rhizosphere soil of Habalik...                 0.0  \n",
       "Whole metagenome of rhizosphere soil of Kalibha...                 0.0  \n",
       "Whole metagenome of rhizosphere soil of Kalibha...                 0.0  "
      ]
     },
     "execution_count": 337,
     "metadata": {},
     "output_type": "execute_result"
    }
   ],
   "source": [
    "df_sampledescription_selecteddatasets_01 = df_6.groupby(['sample_description', 'scientific_name_labels'])['scientific_name_labels'].count().unstack().fillna(0)\n",
    "df_sampledescription_selecteddatasets_01"
   ]
  },
  {
   "cell_type": "markdown",
   "metadata": {
    "id": "vQkogsfafVk3"
   },
   "source": [
    "## **Making the Mangrove Metagenome Selected Datasets Scatter Geo Plot**"
   ]
  },
  {
   "cell_type": "code",
   "execution_count": 341,
   "metadata": {
    "id": "9nbUa-oaUWEb"
   },
   "outputs": [],
   "source": [
    "df_scatter_geo = df_6.copy()"
   ]
  },
  {
   "cell_type": "markdown",
   "metadata": {
    "id": "0kZRHzpuOD7q"
   },
   "source": [
    "### **Calculate the Scatter Geo Plot Counts**\n"
   ]
  },
  {
   "cell_type": "code",
   "execution_count": 342,
   "metadata": {
    "id": "gntCentwWGdR"
   },
   "outputs": [],
   "source": [
    "# Calculate the Runs count for each combination of 'location' and 'scientific_name_labels'\n",
    "\n",
    "runs_count_df = df_scatter_geo.groupby(['location', 'scientific_name_labels'])['run_accession'].nunique().unstack().fillna(0)"
   ]
  },
  {
   "cell_type": "code",
   "execution_count": 346,
   "metadata": {
    "cellView": "form",
    "colab": {
     "base_uri": "https://localhost:8080/",
     "height": 643
    },
    "id": "Ioxi9ymGiumZ",
    "outputId": "cc30d94e-6367-4597-af93-a07338e59622"
   },
   "outputs": [
    {
     "data": {
      "image/png": "[encoded data removed]",
      "text/plain": [
       "<Figure size 640x480 with 1 Axes>"
      ]
     },
     "metadata": {},
     "output_type": "display_data"
    }
   ],
   "source": [
    "# @title Runs Count:\n",
    "\n",
    "# Create a bar plot for visualization\n",
    "\n",
    "_ = runs_count_df.plot(kind='bar', stacked=True)\n",
    "\n",
    "  # Place the bar values in the bar plot\n",
    "for p in _.patches:\n",
    "    width, height = p.get_width(), p.get_height()\n",
    "    x, y = p.get_xy()\n",
    "    if height > 0:\n",
    "        _.annotate(f'{height}', (x + width/2, y + 2.0 + height), ha='center', va='center')\n",
    "\n",
    "  # Place the labels in the bar plot\n",
    "plt.xlabel('Location')\n",
    "plt.ylabel('Number of Runs')\n",
    "plt.title('Distribution of Mangrove Habitats by Location')\n",
    "\n",
    "  # Place the legend outside the bar plot\n",
    "plt.legend(bbox_to_anchor=(1.05, 1), loc='upper left')\n",
    "\n",
    "  # Save the bar plot\n",
    "#plt.savefig('Distribution_of_Mangrove_Habitats_by_Location.jpg', bbox_inches='tight')\n",
    "\n",
    "  # Display the plot\n",
    "plt.show()"
   ]
  },
  {
   "cell_type": "code",
   "execution_count": 347,
   "metadata": {
    "colab": {
     "base_uri": "https://localhost:8080/",
     "height": 1000
    },
    "id": "hXlWhXU40ATK",
    "outputId": "10c6a277-9299-449d-e556-52bd2e4fb174"
   },
   "outputs": [
    {
     "data": {
      "text/html": [
       "<div>\n",
       "<style scoped>\n",
       "    .dataframe tbody tr th:only-of-type {\n",
       "        vertical-align: middle;\n",
       "    }\n",
       "\n",
       "    .dataframe tbody tr th {\n",
       "        vertical-align: top;\n",
       "    }\n",
       "\n",
       "    .dataframe thead th {\n",
       "        text-align: right;\n",
       "    }\n",
       "</style>\n",
       "<table border=\"1\" class=\"dataframe\">\n",
       "  <thead>\n",
       "    <tr style=\"text-align: right;\">\n",
       "      <th></th>\n",
       "      <th>run_accession</th>\n",
       "      <th>sample_accession</th>\n",
       "      <th>study_accession</th>\n",
       "      <th>sample_description</th>\n",
       "      <th>study_title</th>\n",
       "      <th>library_strategy</th>\n",
       "      <th>scientific_name</th>\n",
       "      <th>instrument_platform</th>\n",
       "      <th>instrument_model</th>\n",
       "      <th>collection_date_end</th>\n",
       "      <th>location</th>\n",
       "      <th>lat</th>\n",
       "      <th>lon</th>\n",
       "      <th>country</th>\n",
       "      <th>fastq_bytes</th>\n",
       "      <th>fastq_ftp</th>\n",
       "      <th>scientific_name_labels</th>\n",
       "      <th>collection_date_year</th>\n",
       "      <th>runs_count</th>\n",
       "    </tr>\n",
       "  </thead>\n",
       "  <tbody>\n",
       "    <tr>\n",
       "      <th>0</th>\n",
       "      <td>ERR4833476</td>\n",
       "      <td>SAMEA7567423</td>\n",
       "      <td>PRJEB41295</td>\n",
       "      <td>Mangrove rhizosphere metagenome</td>\n",
       "      <td>Native and introduced mangroves select distinc...</td>\n",
       "      <td>WGS</td>\n",
       "      <td>mangrove metagenome</td>\n",
       "      <td>ILLUMINA</td>\n",
       "      <td>NextSeq 550</td>\n",
       "      <td>2018-12-31</td>\n",
       "      <td>23.27 N 116.52 E</td>\n",
       "      <td>23.27</td>\n",
       "      <td>116.52</td>\n",
       "      <td>China</td>\n",
       "      <td>3585629891;3960554345</td>\n",
       "      <td>ftp.sra.ebi.ac.uk/vol1/fastq/ERR483/006/ERR483...</td>\n",
       "      <td>rhizosphere metagenome</td>\n",
       "      <td>2018</td>\n",
       "      <td>9.0</td>\n",
       "    </tr>\n",
       "    <tr>\n",
       "      <th>1</th>\n",
       "      <td>ERR4833477</td>\n",
       "      <td>SAMEA7567424</td>\n",
       "      <td>PRJEB41295</td>\n",
       "      <td>Mangrove rhizosphere metagenome</td>\n",
       "      <td>Native and introduced mangroves select distinc...</td>\n",
       "      <td>WGS</td>\n",
       "      <td>mangrove metagenome</td>\n",
       "      <td>ILLUMINA</td>\n",
       "      <td>NextSeq 550</td>\n",
       "      <td>2018-12-31</td>\n",
       "      <td>23.27 N 116.52 E</td>\n",
       "      <td>23.27</td>\n",
       "      <td>116.52</td>\n",
       "      <td>China</td>\n",
       "      <td>3675375581;4063769533</td>\n",
       "      <td>ftp.sra.ebi.ac.uk/vol1/fastq/ERR483/007/ERR483...</td>\n",
       "      <td>rhizosphere metagenome</td>\n",
       "      <td>2018</td>\n",
       "      <td>9.0</td>\n",
       "    </tr>\n",
       "    <tr>\n",
       "      <th>2</th>\n",
       "      <td>SRR17658262</td>\n",
       "      <td>SAMN25078545</td>\n",
       "      <td>PRJNA798446</td>\n",
       "      <td>Mangrove sediments in the Qi’ao Mangrove Wetla...</td>\n",
       "      <td>Shotgun metagenome of microbial community in m...</td>\n",
       "      <td>WGS</td>\n",
       "      <td>sediment metagenome</td>\n",
       "      <td>ILLUMINA</td>\n",
       "      <td>Illumina NovaSeq 6000</td>\n",
       "      <td>2019-12-21</td>\n",
       "      <td>22.43 N 113.64 E</td>\n",
       "      <td>22.43</td>\n",
       "      <td>113.64</td>\n",
       "      <td>China:Pearl River Estuary</td>\n",
       "      <td>2306559317;2451278707</td>\n",
       "      <td>ftp.sra.ebi.ac.uk/vol1/fastq/SRR176/062/SRR176...</td>\n",
       "      <td>sediment metagenome</td>\n",
       "      <td>2019</td>\n",
       "      <td>50.0</td>\n",
       "    </tr>\n",
       "    <tr>\n",
       "      <th>3</th>\n",
       "      <td>SRR17658267</td>\n",
       "      <td>SAMN25078541</td>\n",
       "      <td>PRJNA798446</td>\n",
       "      <td>Mangrove sediments in the Qi’ao Mangrove Wetla...</td>\n",
       "      <td>Shotgun metagenome of microbial community in m...</td>\n",
       "      <td>WGS</td>\n",
       "      <td>sediment metagenome</td>\n",
       "      <td>ILLUMINA</td>\n",
       "      <td>Illumina NovaSeq 6000</td>\n",
       "      <td>2019-12-21</td>\n",
       "      <td>22.43 N 113.64 E</td>\n",
       "      <td>22.43</td>\n",
       "      <td>113.64</td>\n",
       "      <td>China:Pearl River Estuary</td>\n",
       "      <td>2476667887;2652808811</td>\n",
       "      <td>ftp.sra.ebi.ac.uk/vol1/fastq/SRR176/067/SRR176...</td>\n",
       "      <td>sediment metagenome</td>\n",
       "      <td>2019</td>\n",
       "      <td>50.0</td>\n",
       "    </tr>\n",
       "    <tr>\n",
       "      <th>4</th>\n",
       "      <td>SRR17658269</td>\n",
       "      <td>SAMN25078539</td>\n",
       "      <td>PRJNA798446</td>\n",
       "      <td>Mangrove sediments in the Qi’ao Mangrove Wetla...</td>\n",
       "      <td>Shotgun metagenome of microbial community in m...</td>\n",
       "      <td>WGS</td>\n",
       "      <td>sediment metagenome</td>\n",
       "      <td>ILLUMINA</td>\n",
       "      <td>Illumina NovaSeq 6000</td>\n",
       "      <td>2019-12-21</td>\n",
       "      <td>22.43 N 113.64 E</td>\n",
       "      <td>22.43</td>\n",
       "      <td>113.64</td>\n",
       "      <td>China:Pearl River Estuary</td>\n",
       "      <td>2412199078;2593155762</td>\n",
       "      <td>ftp.sra.ebi.ac.uk/vol1/fastq/SRR176/069/SRR176...</td>\n",
       "      <td>sediment metagenome</td>\n",
       "      <td>2019</td>\n",
       "      <td>50.0</td>\n",
       "    </tr>\n",
       "    <tr>\n",
       "      <th>...</th>\n",
       "      <td>...</td>\n",
       "      <td>...</td>\n",
       "      <td>...</td>\n",
       "      <td>...</td>\n",
       "      <td>...</td>\n",
       "      <td>...</td>\n",
       "      <td>...</td>\n",
       "      <td>...</td>\n",
       "      <td>...</td>\n",
       "      <td>...</td>\n",
       "      <td>...</td>\n",
       "      <td>...</td>\n",
       "      <td>...</td>\n",
       "      <td>...</td>\n",
       "      <td>...</td>\n",
       "      <td>...</td>\n",
       "      <td>...</td>\n",
       "      <td>...</td>\n",
       "      <td>...</td>\n",
       "    </tr>\n",
       "    <tr>\n",
       "      <th>66</th>\n",
       "      <td>SRR17658297</td>\n",
       "      <td>SAMN25078513</td>\n",
       "      <td>PRJNA798446</td>\n",
       "      <td>Mangrove sediments in the Qi’ao Mangrove Wetla...</td>\n",
       "      <td>Shotgun metagenome of microbial community in m...</td>\n",
       "      <td>WGS</td>\n",
       "      <td>sediment metagenome</td>\n",
       "      <td>ILLUMINA</td>\n",
       "      <td>Illumina NovaSeq 6000</td>\n",
       "      <td>2019-12-21</td>\n",
       "      <td>22.43 N 113.64 E</td>\n",
       "      <td>22.43</td>\n",
       "      <td>113.64</td>\n",
       "      <td>China:Pearl River Estuary</td>\n",
       "      <td>4509019404;4570932808</td>\n",
       "      <td>ftp.sra.ebi.ac.uk/vol1/fastq/SRR176/097/SRR176...</td>\n",
       "      <td>sediment metagenome</td>\n",
       "      <td>2019</td>\n",
       "      <td>50.0</td>\n",
       "    </tr>\n",
       "    <tr>\n",
       "      <th>67</th>\n",
       "      <td>SRR17658300</td>\n",
       "      <td>SAMN25078502</td>\n",
       "      <td>PRJNA798446</td>\n",
       "      <td>Mangrove sediments in the Qi’ao Mangrove Wetla...</td>\n",
       "      <td>Shotgun metagenome of microbial community in m...</td>\n",
       "      <td>WGS</td>\n",
       "      <td>sediment metagenome</td>\n",
       "      <td>ILLUMINA</td>\n",
       "      <td>Illumina NovaSeq 6000</td>\n",
       "      <td>2019-12-21</td>\n",
       "      <td>22.43 N 113.64 E</td>\n",
       "      <td>22.43</td>\n",
       "      <td>113.64</td>\n",
       "      <td>China:Pearl River Estuary</td>\n",
       "      <td>2679965801;2839928294</td>\n",
       "      <td>ftp.sra.ebi.ac.uk/vol1/fastq/SRR176/000/SRR176...</td>\n",
       "      <td>sediment metagenome</td>\n",
       "      <td>2019</td>\n",
       "      <td>50.0</td>\n",
       "    </tr>\n",
       "    <tr>\n",
       "      <th>68</th>\n",
       "      <td>SRR12150540</td>\n",
       "      <td>SAMN14511813</td>\n",
       "      <td>PRJNA619558</td>\n",
       "      <td>Sediment microbial communities from coastal we...</td>\n",
       "      <td>Sediment microbial communities from coastal we...</td>\n",
       "      <td>WGS</td>\n",
       "      <td>wetland metagenome</td>\n",
       "      <td>ILLUMINA</td>\n",
       "      <td>Illumina NovaSeq 6000</td>\n",
       "      <td>2018-08-19</td>\n",
       "      <td>27.8977 N 97.0387 W</td>\n",
       "      <td>27.8977</td>\n",
       "      <td>-97.0387</td>\n",
       "      <td>USA: Texas</td>\n",
       "      <td>3202116262;3247437731</td>\n",
       "      <td>ftp.sra.ebi.ac.uk/vol1/fastq/SRR121/040/SRR121...</td>\n",
       "      <td>wetland metagenome</td>\n",
       "      <td>2018</td>\n",
       "      <td>2.0</td>\n",
       "    </tr>\n",
       "    <tr>\n",
       "      <th>69</th>\n",
       "      <td>SRR24201523</td>\n",
       "      <td>SAMN33849203</td>\n",
       "      <td>PRJNA947344</td>\n",
       "      <td>Whole metagenome of rhizosphere soil of Kalibh...</td>\n",
       "      <td>Whole-metagenome shotgun sequencing of soil sa...</td>\n",
       "      <td>WGS</td>\n",
       "      <td>soil metagenome</td>\n",
       "      <td>ILLUMINA</td>\n",
       "      <td>Illumina NovaSeq 6000</td>\n",
       "      <td>2022-04-03</td>\n",
       "      <td>20.7744 N 86.9268 E</td>\n",
       "      <td>20.7744</td>\n",
       "      <td>86.9268</td>\n",
       "      <td>India: Bhitarkanika mangrove forest, Odisha</td>\n",
       "      <td>2521256864;2490491525</td>\n",
       "      <td>ftp.sra.ebi.ac.uk/vol1/fastq/SRR242/023/SRR242...</td>\n",
       "      <td>soil metagenome</td>\n",
       "      <td>2022</td>\n",
       "      <td>1.0</td>\n",
       "    </tr>\n",
       "    <tr>\n",
       "      <th>70</th>\n",
       "      <td>SRR24201527</td>\n",
       "      <td>SAMN33848497</td>\n",
       "      <td>PRJNA947344</td>\n",
       "      <td>Whole metagenome of rhizosphere soil of Kalibh...</td>\n",
       "      <td>Whole-metagenome shotgun sequencing of soil sa...</td>\n",
       "      <td>WGS</td>\n",
       "      <td>soil metagenome</td>\n",
       "      <td>ILLUMINA</td>\n",
       "      <td>Illumina NovaSeq 6000</td>\n",
       "      <td>2021-10-02</td>\n",
       "      <td>20.775 N 86.9253 E</td>\n",
       "      <td>20.775</td>\n",
       "      <td>86.9253</td>\n",
       "      <td>India: Bhitarkanika mangrove forest, Odisha</td>\n",
       "      <td>2700127663;2824067298</td>\n",
       "      <td>ftp.sra.ebi.ac.uk/vol1/fastq/SRR242/027/SRR242...</td>\n",
       "      <td>soil metagenome</td>\n",
       "      <td>2021</td>\n",
       "      <td>1.0</td>\n",
       "    </tr>\n",
       "  </tbody>\n",
       "</table>\n",
       "<p>71 rows × 19 columns</p>\n",
       "</div>"
      ],
      "text/plain": [
       "   run_accession sample_accession study_accession  \\\n",
       "0     ERR4833476     SAMEA7567423      PRJEB41295   \n",
       "1     ERR4833477     SAMEA7567424      PRJEB41295   \n",
       "2    SRR17658262     SAMN25078545     PRJNA798446   \n",
       "3    SRR17658267     SAMN25078541     PRJNA798446   \n",
       "4    SRR17658269     SAMN25078539     PRJNA798446   \n",
       "..           ...              ...             ...   \n",
       "66   SRR17658297     SAMN25078513     PRJNA798446   \n",
       "67   SRR17658300     SAMN25078502     PRJNA798446   \n",
       "68   SRR12150540     SAMN14511813     PRJNA619558   \n",
       "69   SRR24201523     SAMN33849203     PRJNA947344   \n",
       "70   SRR24201527     SAMN33848497     PRJNA947344   \n",
       "\n",
       "                                   sample_description  \\\n",
       "0                     Mangrove rhizosphere metagenome   \n",
       "1                     Mangrove rhizosphere metagenome   \n",
       "2   Mangrove sediments in the Qi’ao Mangrove Wetla...   \n",
       "3   Mangrove sediments in the Qi’ao Mangrove Wetla...   \n",
       "4   Mangrove sediments in the Qi’ao Mangrove Wetla...   \n",
       "..                                                ...   \n",
       "66  Mangrove sediments in the Qi’ao Mangrove Wetla...   \n",
       "67  Mangrove sediments in the Qi’ao Mangrove Wetla...   \n",
       "68  Sediment microbial communities from coastal we...   \n",
       "69  Whole metagenome of rhizosphere soil of Kalibh...   \n",
       "70  Whole metagenome of rhizosphere soil of Kalibh...   \n",
       "\n",
       "                                          study_title library_strategy  \\\n",
       "0   Native and introduced mangroves select distinc...              WGS   \n",
       "1   Native and introduced mangroves select distinc...              WGS   \n",
       "2   Shotgun metagenome of microbial community in m...              WGS   \n",
       "3   Shotgun metagenome of microbial community in m...              WGS   \n",
       "4   Shotgun metagenome of microbial community in m...              WGS   \n",
       "..                                                ...              ...   \n",
       "66  Shotgun metagenome of microbial community in m...              WGS   \n",
       "67  Shotgun metagenome of microbial community in m...              WGS   \n",
       "68  Sediment microbial communities from coastal we...              WGS   \n",
       "69  Whole-metagenome shotgun sequencing of soil sa...              WGS   \n",
       "70  Whole-metagenome shotgun sequencing of soil sa...              WGS   \n",
       "\n",
       "        scientific_name instrument_platform       instrument_model  \\\n",
       "0   mangrove metagenome            ILLUMINA            NextSeq 550   \n",
       "1   mangrove metagenome            ILLUMINA            NextSeq 550   \n",
       "2   sediment metagenome            ILLUMINA  Illumina NovaSeq 6000   \n",
       "3   sediment metagenome            ILLUMINA  Illumina NovaSeq 6000   \n",
       "4   sediment metagenome            ILLUMINA  Illumina NovaSeq 6000   \n",
       "..                  ...                 ...                    ...   \n",
       "66  sediment metagenome            ILLUMINA  Illumina NovaSeq 6000   \n",
       "67  sediment metagenome            ILLUMINA  Illumina NovaSeq 6000   \n",
       "68   wetland metagenome            ILLUMINA  Illumina NovaSeq 6000   \n",
       "69      soil metagenome            ILLUMINA  Illumina NovaSeq 6000   \n",
       "70      soil metagenome            ILLUMINA  Illumina NovaSeq 6000   \n",
       "\n",
       "   collection_date_end             location      lat       lon  \\\n",
       "0           2018-12-31     23.27 N 116.52 E    23.27    116.52   \n",
       "1           2018-12-31     23.27 N 116.52 E    23.27    116.52   \n",
       "2           2019-12-21     22.43 N 113.64 E    22.43    113.64   \n",
       "3           2019-12-21     22.43 N 113.64 E    22.43    113.64   \n",
       "4           2019-12-21     22.43 N 113.64 E    22.43    113.64   \n",
       "..                 ...                  ...      ...       ...   \n",
       "66          2019-12-21     22.43 N 113.64 E    22.43    113.64   \n",
       "67          2019-12-21     22.43 N 113.64 E    22.43    113.64   \n",
       "68          2018-08-19  27.8977 N 97.0387 W  27.8977  -97.0387   \n",
       "69          2022-04-03  20.7744 N 86.9268 E  20.7744   86.9268   \n",
       "70          2021-10-02   20.775 N 86.9253 E   20.775   86.9253   \n",
       "\n",
       "                                        country            fastq_bytes  \\\n",
       "0                                         China  3585629891;3960554345   \n",
       "1                                         China  3675375581;4063769533   \n",
       "2                     China:Pearl River Estuary  2306559317;2451278707   \n",
       "3                     China:Pearl River Estuary  2476667887;2652808811   \n",
       "4                     China:Pearl River Estuary  2412199078;2593155762   \n",
       "..                                          ...                    ...   \n",
       "66                    China:Pearl River Estuary  4509019404;4570932808   \n",
       "67                    China:Pearl River Estuary  2679965801;2839928294   \n",
       "68                                   USA: Texas  3202116262;3247437731   \n",
       "69  India: Bhitarkanika mangrove forest, Odisha  2521256864;2490491525   \n",
       "70  India: Bhitarkanika mangrove forest, Odisha  2700127663;2824067298   \n",
       "\n",
       "                                            fastq_ftp  scientific_name_labels  \\\n",
       "0   ftp.sra.ebi.ac.uk/vol1/fastq/ERR483/006/ERR483...  rhizosphere metagenome   \n",
       "1   ftp.sra.ebi.ac.uk/vol1/fastq/ERR483/007/ERR483...  rhizosphere metagenome   \n",
       "2   ftp.sra.ebi.ac.uk/vol1/fastq/SRR176/062/SRR176...     sediment metagenome   \n",
       "3   ftp.sra.ebi.ac.uk/vol1/fastq/SRR176/067/SRR176...     sediment metagenome   \n",
       "4   ftp.sra.ebi.ac.uk/vol1/fastq/SRR176/069/SRR176...     sediment metagenome   \n",
       "..                                                ...                     ...   \n",
       "66  ftp.sra.ebi.ac.uk/vol1/fastq/SRR176/097/SRR176...     sediment metagenome   \n",
       "67  ftp.sra.ebi.ac.uk/vol1/fastq/SRR176/000/SRR176...     sediment metagenome   \n",
       "68  ftp.sra.ebi.ac.uk/vol1/fastq/SRR121/040/SRR121...      wetland metagenome   \n",
       "69  ftp.sra.ebi.ac.uk/vol1/fastq/SRR242/023/SRR242...         soil metagenome   \n",
       "70  ftp.sra.ebi.ac.uk/vol1/fastq/SRR242/027/SRR242...         soil metagenome   \n",
       "\n",
       "   collection_date_year  runs_count  \n",
       "0                  2018         9.0  \n",
       "1                  2018         9.0  \n",
       "2                  2019        50.0  \n",
       "3                  2019        50.0  \n",
       "4                  2019        50.0  \n",
       "..                  ...         ...  \n",
       "66                 2019        50.0  \n",
       "67                 2019        50.0  \n",
       "68                 2018         2.0  \n",
       "69                 2022         1.0  \n",
       "70                 2021         1.0  \n",
       "\n",
       "[71 rows x 19 columns]"
      ]
     },
     "execution_count": 347,
     "metadata": {},
     "output_type": "execute_result"
    }
   ],
   "source": [
    "# Add to df_scatter_geo as 'runs_count' column\n",
    "\n",
    "runs_count_df = runs_count_df.stack().reset_index(name='runs_count') # Flatten the runs_count_df\n",
    "df_scatter_geo = df_scatter_geo.merge(runs_count_df, on=['location', 'scientific_name_labels'])\n",
    "\n",
    "df_scatter_geo"
   ]
  },
  {
   "cell_type": "code",
   "execution_count": 348,
   "metadata": {
    "id": "ymEOVKyTzn6S"
   },
   "outputs": [],
   "source": [
    "# Calculate the Samples count for each combination of 'location' and 'scientific_name_labels'\n",
    "\n",
    "samples_count_df = df_scatter_geo.groupby(['location', 'scientific_name_labels'])['sample_accession'].nunique().unstack().fillna(0)"
   ]
  },
  {
   "cell_type": "code",
   "execution_count": 349,
   "metadata": {
    "cellView": "form",
    "colab": {
     "base_uri": "https://localhost:8080/",
     "height": 643
    },
    "id": "jhp594L3WThA",
    "outputId": "438b50b9-95a4-4a51-cfbb-33c391f6b384"
   },
   "outputs": [
    {
     "data": {
      "image/png": "[encoded data removed]",
      "text/plain": [
       "<Figure size 640x480 with 1 Axes>"
      ]
     },
     "metadata": {},
     "output_type": "display_data"
    }
   ],
   "source": [
    "# @title Samples Count :\n",
    "\n",
    "# Create a bar plot for visualization\n",
    "\n",
    "_ = samples_count_df.plot(kind='bar', stacked=True)\n",
    "\n",
    "  # Place the bar values in the bar plot\n",
    "for p in _.patches:\n",
    "    width, height = p.get_width(), p.get_height()\n",
    "    x, y = p.get_xy()\n",
    "    if height > 0:\n",
    "        _.annotate(f'{height}', (x + width/2, y + 2.0 + height), ha='center', va='center')\n",
    "\n",
    "  # Place the labels in the bar plot\n",
    "plt.xlabel('Location')\n",
    "plt.ylabel('Number of Samples')\n",
    "plt.title('Distribution of Mangrove Habitats by Location')\n",
    "\n",
    "  # Place the legend outside the bar plot\n",
    "plt.legend(bbox_to_anchor=(1.05, 1), loc='upper left')\n",
    "\n",
    "  # Save the bar plot\n",
    "#plt.savefig('Distribution_of_Mangrove_Habitats_by_Location.jpg', bbox_inches='tight')\n",
    "\n",
    "  # Display the plot\n",
    "plt.show()"
   ]
  },
  {
   "cell_type": "code",
   "execution_count": 350,
   "metadata": {
    "colab": {
     "base_uri": "https://localhost:8080/",
     "height": 1000
    },
    "id": "S9m8ZSPpWv3X",
    "outputId": "d861d029-7e8b-46b3-bbb3-3225b2457e43"
   },
   "outputs": [
    {
     "data": {
      "text/html": [
       "<div>\n",
       "<style scoped>\n",
       "    .dataframe tbody tr th:only-of-type {\n",
       "        vertical-align: middle;\n",
       "    }\n",
       "\n",
       "    .dataframe tbody tr th {\n",
       "        vertical-align: top;\n",
       "    }\n",
       "\n",
       "    .dataframe thead th {\n",
       "        text-align: right;\n",
       "    }\n",
       "</style>\n",
       "<table border=\"1\" class=\"dataframe\">\n",
       "  <thead>\n",
       "    <tr style=\"text-align: right;\">\n",
       "      <th></th>\n",
       "      <th>run_accession</th>\n",
       "      <th>sample_accession</th>\n",
       "      <th>study_accession</th>\n",
       "      <th>sample_description</th>\n",
       "      <th>study_title</th>\n",
       "      <th>library_strategy</th>\n",
       "      <th>scientific_name</th>\n",
       "      <th>instrument_platform</th>\n",
       "      <th>instrument_model</th>\n",
       "      <th>collection_date_end</th>\n",
       "      <th>location</th>\n",
       "      <th>lat</th>\n",
       "      <th>lon</th>\n",
       "      <th>country</th>\n",
       "      <th>fastq_bytes</th>\n",
       "      <th>fastq_ftp</th>\n",
       "      <th>scientific_name_labels</th>\n",
       "      <th>collection_date_year</th>\n",
       "      <th>runs_count</th>\n",
       "      <th>samples_count</th>\n",
       "    </tr>\n",
       "  </thead>\n",
       "  <tbody>\n",
       "    <tr>\n",
       "      <th>0</th>\n",
       "      <td>ERR4833476</td>\n",
       "      <td>SAMEA7567423</td>\n",
       "      <td>PRJEB41295</td>\n",
       "      <td>Mangrove rhizosphere metagenome</td>\n",
       "      <td>Native and introduced mangroves select distinc...</td>\n",
       "      <td>WGS</td>\n",
       "      <td>mangrove metagenome</td>\n",
       "      <td>ILLUMINA</td>\n",
       "      <td>NextSeq 550</td>\n",
       "      <td>2018-12-31</td>\n",
       "      <td>23.27 N 116.52 E</td>\n",
       "      <td>23.27</td>\n",
       "      <td>116.52</td>\n",
       "      <td>China</td>\n",
       "      <td>3585629891;3960554345</td>\n",
       "      <td>ftp.sra.ebi.ac.uk/vol1/fastq/ERR483/006/ERR483...</td>\n",
       "      <td>rhizosphere metagenome</td>\n",
       "      <td>2018</td>\n",
       "      <td>9.0</td>\n",
       "      <td>9.0</td>\n",
       "    </tr>\n",
       "    <tr>\n",
       "      <th>1</th>\n",
       "      <td>ERR4833477</td>\n",
       "      <td>SAMEA7567424</td>\n",
       "      <td>PRJEB41295</td>\n",
       "      <td>Mangrove rhizosphere metagenome</td>\n",
       "      <td>Native and introduced mangroves select distinc...</td>\n",
       "      <td>WGS</td>\n",
       "      <td>mangrove metagenome</td>\n",
       "      <td>ILLUMINA</td>\n",
       "      <td>NextSeq 550</td>\n",
       "      <td>2018-12-31</td>\n",
       "      <td>23.27 N 116.52 E</td>\n",
       "      <td>23.27</td>\n",
       "      <td>116.52</td>\n",
       "      <td>China</td>\n",
       "      <td>3675375581;4063769533</td>\n",
       "      <td>ftp.sra.ebi.ac.uk/vol1/fastq/ERR483/007/ERR483...</td>\n",
       "      <td>rhizosphere metagenome</td>\n",
       "      <td>2018</td>\n",
       "      <td>9.0</td>\n",
       "      <td>9.0</td>\n",
       "    </tr>\n",
       "    <tr>\n",
       "      <th>2</th>\n",
       "      <td>SRR17658262</td>\n",
       "      <td>SAMN25078545</td>\n",
       "      <td>PRJNA798446</td>\n",
       "      <td>Mangrove sediments in the Qi’ao Mangrove Wetla...</td>\n",
       "      <td>Shotgun metagenome of microbial community in m...</td>\n",
       "      <td>WGS</td>\n",
       "      <td>sediment metagenome</td>\n",
       "      <td>ILLUMINA</td>\n",
       "      <td>Illumina NovaSeq 6000</td>\n",
       "      <td>2019-12-21</td>\n",
       "      <td>22.43 N 113.64 E</td>\n",
       "      <td>22.43</td>\n",
       "      <td>113.64</td>\n",
       "      <td>China:Pearl River Estuary</td>\n",
       "      <td>2306559317;2451278707</td>\n",
       "      <td>ftp.sra.ebi.ac.uk/vol1/fastq/SRR176/062/SRR176...</td>\n",
       "      <td>sediment metagenome</td>\n",
       "      <td>2019</td>\n",
       "      <td>50.0</td>\n",
       "      <td>50.0</td>\n",
       "    </tr>\n",
       "    <tr>\n",
       "      <th>3</th>\n",
       "      <td>SRR17658267</td>\n",
       "      <td>SAMN25078541</td>\n",
       "      <td>PRJNA798446</td>\n",
       "      <td>Mangrove sediments in the Qi’ao Mangrove Wetla...</td>\n",
       "      <td>Shotgun metagenome of microbial community in m...</td>\n",
       "      <td>WGS</td>\n",
       "      <td>sediment metagenome</td>\n",
       "      <td>ILLUMINA</td>\n",
       "      <td>Illumina NovaSeq 6000</td>\n",
       "      <td>2019-12-21</td>\n",
       "      <td>22.43 N 113.64 E</td>\n",
       "      <td>22.43</td>\n",
       "      <td>113.64</td>\n",
       "      <td>China:Pearl River Estuary</td>\n",
       "      <td>2476667887;2652808811</td>\n",
       "      <td>ftp.sra.ebi.ac.uk/vol1/fastq/SRR176/067/SRR176...</td>\n",
       "      <td>sediment metagenome</td>\n",
       "      <td>2019</td>\n",
       "      <td>50.0</td>\n",
       "      <td>50.0</td>\n",
       "    </tr>\n",
       "    <tr>\n",
       "      <th>4</th>\n",
       "      <td>SRR17658269</td>\n",
       "      <td>SAMN25078539</td>\n",
       "      <td>PRJNA798446</td>\n",
       "      <td>Mangrove sediments in the Qi’ao Mangrove Wetla...</td>\n",
       "      <td>Shotgun metagenome of microbial community in m...</td>\n",
       "      <td>WGS</td>\n",
       "      <td>sediment metagenome</td>\n",
       "      <td>ILLUMINA</td>\n",
       "      <td>Illumina NovaSeq 6000</td>\n",
       "      <td>2019-12-21</td>\n",
       "      <td>22.43 N 113.64 E</td>\n",
       "      <td>22.43</td>\n",
       "      <td>113.64</td>\n",
       "      <td>China:Pearl River Estuary</td>\n",
       "      <td>2412199078;2593155762</td>\n",
       "      <td>ftp.sra.ebi.ac.uk/vol1/fastq/SRR176/069/SRR176...</td>\n",
       "      <td>sediment metagenome</td>\n",
       "      <td>2019</td>\n",
       "      <td>50.0</td>\n",
       "      <td>50.0</td>\n",
       "    </tr>\n",
       "    <tr>\n",
       "      <th>...</th>\n",
       "      <td>...</td>\n",
       "      <td>...</td>\n",
       "      <td>...</td>\n",
       "      <td>...</td>\n",
       "      <td>...</td>\n",
       "      <td>...</td>\n",
       "      <td>...</td>\n",
       "      <td>...</td>\n",
       "      <td>...</td>\n",
       "      <td>...</td>\n",
       "      <td>...</td>\n",
       "      <td>...</td>\n",
       "      <td>...</td>\n",
       "      <td>...</td>\n",
       "      <td>...</td>\n",
       "      <td>...</td>\n",
       "      <td>...</td>\n",
       "      <td>...</td>\n",
       "      <td>...</td>\n",
       "      <td>...</td>\n",
       "    </tr>\n",
       "    <tr>\n",
       "      <th>66</th>\n",
       "      <td>SRR17658297</td>\n",
       "      <td>SAMN25078513</td>\n",
       "      <td>PRJNA798446</td>\n",
       "      <td>Mangrove sediments in the Qi’ao Mangrove Wetla...</td>\n",
       "      <td>Shotgun metagenome of microbial community in m...</td>\n",
       "      <td>WGS</td>\n",
       "      <td>sediment metagenome</td>\n",
       "      <td>ILLUMINA</td>\n",
       "      <td>Illumina NovaSeq 6000</td>\n",
       "      <td>2019-12-21</td>\n",
       "      <td>22.43 N 113.64 E</td>\n",
       "      <td>22.43</td>\n",
       "      <td>113.64</td>\n",
       "      <td>China:Pearl River Estuary</td>\n",
       "      <td>4509019404;4570932808</td>\n",
       "      <td>ftp.sra.ebi.ac.uk/vol1/fastq/SRR176/097/SRR176...</td>\n",
       "      <td>sediment metagenome</td>\n",
       "      <td>2019</td>\n",
       "      <td>50.0</td>\n",
       "      <td>50.0</td>\n",
       "    </tr>\n",
       "    <tr>\n",
       "      <th>67</th>\n",
       "      <td>SRR17658300</td>\n",
       "      <td>SAMN25078502</td>\n",
       "      <td>PRJNA798446</td>\n",
       "      <td>Mangrove sediments in the Qi’ao Mangrove Wetla...</td>\n",
       "      <td>Shotgun metagenome of microbial community in m...</td>\n",
       "      <td>WGS</td>\n",
       "      <td>sediment metagenome</td>\n",
       "      <td>ILLUMINA</td>\n",
       "      <td>Illumina NovaSeq 6000</td>\n",
       "      <td>2019-12-21</td>\n",
       "      <td>22.43 N 113.64 E</td>\n",
       "      <td>22.43</td>\n",
       "      <td>113.64</td>\n",
       "      <td>China:Pearl River Estuary</td>\n",
       "      <td>2679965801;2839928294</td>\n",
       "      <td>ftp.sra.ebi.ac.uk/vol1/fastq/SRR176/000/SRR176...</td>\n",
       "      <td>sediment metagenome</td>\n",
       "      <td>2019</td>\n",
       "      <td>50.0</td>\n",
       "      <td>50.0</td>\n",
       "    </tr>\n",
       "    <tr>\n",
       "      <th>68</th>\n",
       "      <td>SRR12150540</td>\n",
       "      <td>SAMN14511813</td>\n",
       "      <td>PRJNA619558</td>\n",
       "      <td>Sediment microbial communities from coastal we...</td>\n",
       "      <td>Sediment microbial communities from coastal we...</td>\n",
       "      <td>WGS</td>\n",
       "      <td>wetland metagenome</td>\n",
       "      <td>ILLUMINA</td>\n",
       "      <td>Illumina NovaSeq 6000</td>\n",
       "      <td>2018-08-19</td>\n",
       "      <td>27.8977 N 97.0387 W</td>\n",
       "      <td>27.8977</td>\n",
       "      <td>-97.0387</td>\n",
       "      <td>USA: Texas</td>\n",
       "      <td>3202116262;3247437731</td>\n",
       "      <td>ftp.sra.ebi.ac.uk/vol1/fastq/SRR121/040/SRR121...</td>\n",
       "      <td>wetland metagenome</td>\n",
       "      <td>2018</td>\n",
       "      <td>2.0</td>\n",
       "      <td>2.0</td>\n",
       "    </tr>\n",
       "    <tr>\n",
       "      <th>69</th>\n",
       "      <td>SRR24201523</td>\n",
       "      <td>SAMN33849203</td>\n",
       "      <td>PRJNA947344</td>\n",
       "      <td>Whole metagenome of rhizosphere soil of Kalibh...</td>\n",
       "      <td>Whole-metagenome shotgun sequencing of soil sa...</td>\n",
       "      <td>WGS</td>\n",
       "      <td>soil metagenome</td>\n",
       "      <td>ILLUMINA</td>\n",
       "      <td>Illumina NovaSeq 6000</td>\n",
       "      <td>2022-04-03</td>\n",
       "      <td>20.7744 N 86.9268 E</td>\n",
       "      <td>20.7744</td>\n",
       "      <td>86.9268</td>\n",
       "      <td>India: Bhitarkanika mangrove forest, Odisha</td>\n",
       "      <td>2521256864;2490491525</td>\n",
       "      <td>ftp.sra.ebi.ac.uk/vol1/fastq/SRR242/023/SRR242...</td>\n",
       "      <td>soil metagenome</td>\n",
       "      <td>2022</td>\n",
       "      <td>1.0</td>\n",
       "      <td>1.0</td>\n",
       "    </tr>\n",
       "    <tr>\n",
       "      <th>70</th>\n",
       "      <td>SRR24201527</td>\n",
       "      <td>SAMN33848497</td>\n",
       "      <td>PRJNA947344</td>\n",
       "      <td>Whole metagenome of rhizosphere soil of Kalibh...</td>\n",
       "      <td>Whole-metagenome shotgun sequencing of soil sa...</td>\n",
       "      <td>WGS</td>\n",
       "      <td>soil metagenome</td>\n",
       "      <td>ILLUMINA</td>\n",
       "      <td>Illumina NovaSeq 6000</td>\n",
       "      <td>2021-10-02</td>\n",
       "      <td>20.775 N 86.9253 E</td>\n",
       "      <td>20.775</td>\n",
       "      <td>86.9253</td>\n",
       "      <td>India: Bhitarkanika mangrove forest, Odisha</td>\n",
       "      <td>2700127663;2824067298</td>\n",
       "      <td>ftp.sra.ebi.ac.uk/vol1/fastq/SRR242/027/SRR242...</td>\n",
       "      <td>soil metagenome</td>\n",
       "      <td>2021</td>\n",
       "      <td>1.0</td>\n",
       "      <td>1.0</td>\n",
       "    </tr>\n",
       "  </tbody>\n",
       "</table>\n",
       "<p>71 rows × 20 columns</p>\n",
       "</div>"
      ],
      "text/plain": [
       "   run_accession sample_accession study_accession  \\\n",
       "0     ERR4833476     SAMEA7567423      PRJEB41295   \n",
       "1     ERR4833477     SAMEA7567424      PRJEB41295   \n",
       "2    SRR17658262     SAMN25078545     PRJNA798446   \n",
       "3    SRR17658267     SAMN25078541     PRJNA798446   \n",
       "4    SRR17658269     SAMN25078539     PRJNA798446   \n",
       "..           ...              ...             ...   \n",
       "66   SRR17658297     SAMN25078513     PRJNA798446   \n",
       "67   SRR17658300     SAMN25078502     PRJNA798446   \n",
       "68   SRR12150540     SAMN14511813     PRJNA619558   \n",
       "69   SRR24201523     SAMN33849203     PRJNA947344   \n",
       "70   SRR24201527     SAMN33848497     PRJNA947344   \n",
       "\n",
       "                                   sample_description  \\\n",
       "0                     Mangrove rhizosphere metagenome   \n",
       "1                     Mangrove rhizosphere metagenome   \n",
       "2   Mangrove sediments in the Qi’ao Mangrove Wetla...   \n",
       "3   Mangrove sediments in the Qi’ao Mangrove Wetla...   \n",
       "4   Mangrove sediments in the Qi’ao Mangrove Wetla...   \n",
       "..                                                ...   \n",
       "66  Mangrove sediments in the Qi’ao Mangrove Wetla...   \n",
       "67  Mangrove sediments in the Qi’ao Mangrove Wetla...   \n",
       "68  Sediment microbial communities from coastal we...   \n",
       "69  Whole metagenome of rhizosphere soil of Kalibh...   \n",
       "70  Whole metagenome of rhizosphere soil of Kalibh...   \n",
       "\n",
       "                                          study_title library_strategy  \\\n",
       "0   Native and introduced mangroves select distinc...              WGS   \n",
       "1   Native and introduced mangroves select distinc...              WGS   \n",
       "2   Shotgun metagenome of microbial community in m...              WGS   \n",
       "3   Shotgun metagenome of microbial community in m...              WGS   \n",
       "4   Shotgun metagenome of microbial community in m...              WGS   \n",
       "..                                                ...              ...   \n",
       "66  Shotgun metagenome of microbial community in m...              WGS   \n",
       "67  Shotgun metagenome of microbial community in m...              WGS   \n",
       "68  Sediment microbial communities from coastal we...              WGS   \n",
       "69  Whole-metagenome shotgun sequencing of soil sa...              WGS   \n",
       "70  Whole-metagenome shotgun sequencing of soil sa...              WGS   \n",
       "\n",
       "        scientific_name instrument_platform       instrument_model  \\\n",
       "0   mangrove metagenome            ILLUMINA            NextSeq 550   \n",
       "1   mangrove metagenome            ILLUMINA            NextSeq 550   \n",
       "2   sediment metagenome            ILLUMINA  Illumina NovaSeq 6000   \n",
       "3   sediment metagenome            ILLUMINA  Illumina NovaSeq 6000   \n",
       "4   sediment metagenome            ILLUMINA  Illumina NovaSeq 6000   \n",
       "..                  ...                 ...                    ...   \n",
       "66  sediment metagenome            ILLUMINA  Illumina NovaSeq 6000   \n",
       "67  sediment metagenome            ILLUMINA  Illumina NovaSeq 6000   \n",
       "68   wetland metagenome            ILLUMINA  Illumina NovaSeq 6000   \n",
       "69      soil metagenome            ILLUMINA  Illumina NovaSeq 6000   \n",
       "70      soil metagenome            ILLUMINA  Illumina NovaSeq 6000   \n",
       "\n",
       "   collection_date_end             location      lat       lon  \\\n",
       "0           2018-12-31     23.27 N 116.52 E    23.27    116.52   \n",
       "1           2018-12-31     23.27 N 116.52 E    23.27    116.52   \n",
       "2           2019-12-21     22.43 N 113.64 E    22.43    113.64   \n",
       "3           2019-12-21     22.43 N 113.64 E    22.43    113.64   \n",
       "4           2019-12-21     22.43 N 113.64 E    22.43    113.64   \n",
       "..                 ...                  ...      ...       ...   \n",
       "66          2019-12-21     22.43 N 113.64 E    22.43    113.64   \n",
       "67          2019-12-21     22.43 N 113.64 E    22.43    113.64   \n",
       "68          2018-08-19  27.8977 N 97.0387 W  27.8977  -97.0387   \n",
       "69          2022-04-03  20.7744 N 86.9268 E  20.7744   86.9268   \n",
       "70          2021-10-02   20.775 N 86.9253 E   20.775   86.9253   \n",
       "\n",
       "                                        country            fastq_bytes  \\\n",
       "0                                         China  3585629891;3960554345   \n",
       "1                                         China  3675375581;4063769533   \n",
       "2                     China:Pearl River Estuary  2306559317;2451278707   \n",
       "3                     China:Pearl River Estuary  2476667887;2652808811   \n",
       "4                     China:Pearl River Estuary  2412199078;2593155762   \n",
       "..                                          ...                    ...   \n",
       "66                    China:Pearl River Estuary  4509019404;4570932808   \n",
       "67                    China:Pearl River Estuary  2679965801;2839928294   \n",
       "68                                   USA: Texas  3202116262;3247437731   \n",
       "69  India: Bhitarkanika mangrove forest, Odisha  2521256864;2490491525   \n",
       "70  India: Bhitarkanika mangrove forest, Odisha  2700127663;2824067298   \n",
       "\n",
       "                                            fastq_ftp  scientific_name_labels  \\\n",
       "0   ftp.sra.ebi.ac.uk/vol1/fastq/ERR483/006/ERR483...  rhizosphere metagenome   \n",
       "1   ftp.sra.ebi.ac.uk/vol1/fastq/ERR483/007/ERR483...  rhizosphere metagenome   \n",
       "2   ftp.sra.ebi.ac.uk/vol1/fastq/SRR176/062/SRR176...     sediment metagenome   \n",
       "3   ftp.sra.ebi.ac.uk/vol1/fastq/SRR176/067/SRR176...     sediment metagenome   \n",
       "4   ftp.sra.ebi.ac.uk/vol1/fastq/SRR176/069/SRR176...     sediment metagenome   \n",
       "..                                                ...                     ...   \n",
       "66  ftp.sra.ebi.ac.uk/vol1/fastq/SRR176/097/SRR176...     sediment metagenome   \n",
       "67  ftp.sra.ebi.ac.uk/vol1/fastq/SRR176/000/SRR176...     sediment metagenome   \n",
       "68  ftp.sra.ebi.ac.uk/vol1/fastq/SRR121/040/SRR121...      wetland metagenome   \n",
       "69  ftp.sra.ebi.ac.uk/vol1/fastq/SRR242/023/SRR242...         soil metagenome   \n",
       "70  ftp.sra.ebi.ac.uk/vol1/fastq/SRR242/027/SRR242...         soil metagenome   \n",
       "\n",
       "   collection_date_year  runs_count  samples_count  \n",
       "0                  2018         9.0            9.0  \n",
       "1                  2018         9.0            9.0  \n",
       "2                  2019        50.0           50.0  \n",
       "3                  2019        50.0           50.0  \n",
       "4                  2019        50.0           50.0  \n",
       "..                  ...         ...            ...  \n",
       "66                 2019        50.0           50.0  \n",
       "67                 2019        50.0           50.0  \n",
       "68                 2018         2.0            2.0  \n",
       "69                 2022         1.0            1.0  \n",
       "70                 2021         1.0            1.0  \n",
       "\n",
       "[71 rows x 20 columns]"
      ]
     },
     "execution_count": 350,
     "metadata": {},
     "output_type": "execute_result"
    }
   ],
   "source": [
    "# Add to df_scatter_geo as 'samples_count' column\n",
    "\n",
    "samples_count_df = samples_count_df.stack().reset_index(name='samples_count') # Flatten the samples_count_df\n",
    "df_scatter_geo = df_scatter_geo.merge(samples_count_df, on=['location', 'scientific_name_labels'])\n",
    "\n",
    "df_scatter_geo"
   ]
  },
  {
   "cell_type": "code",
   "execution_count": 445,
   "metadata": {
    "id": "qeKqeMhE2sh4"
   },
   "outputs": [
    {
     "data": {
      "text/html": [
       "<div>\n",
       "<style scoped>\n",
       "    .dataframe tbody tr th:only-of-type {\n",
       "        vertical-align: middle;\n",
       "    }\n",
       "\n",
       "    .dataframe tbody tr th {\n",
       "        vertical-align: top;\n",
       "    }\n",
       "\n",
       "    .dataframe thead th {\n",
       "        text-align: right;\n",
       "    }\n",
       "</style>\n",
       "<table border=\"1\" class=\"dataframe\">\n",
       "  <thead>\n",
       "    <tr style=\"text-align: right;\">\n",
       "      <th>scientific_name_labels</th>\n",
       "      <th>rhizosphere metagenome</th>\n",
       "      <th>sediment metagenome</th>\n",
       "      <th>soil metagenome</th>\n",
       "      <th>wetland metagenome</th>\n",
       "    </tr>\n",
       "    <tr>\n",
       "      <th>location</th>\n",
       "      <th></th>\n",
       "      <th></th>\n",
       "      <th></th>\n",
       "      <th></th>\n",
       "    </tr>\n",
       "  </thead>\n",
       "  <tbody>\n",
       "    <tr>\n",
       "      <th>20.6528 N 86.8503 E</th>\n",
       "      <td>0.0</td>\n",
       "      <td>0.0</td>\n",
       "      <td>1.0</td>\n",
       "      <td>0.0</td>\n",
       "    </tr>\n",
       "    <tr>\n",
       "      <th>20.663 N 86.8594 E</th>\n",
       "      <td>0.0</td>\n",
       "      <td>0.0</td>\n",
       "      <td>1.0</td>\n",
       "      <td>0.0</td>\n",
       "    </tr>\n",
       "    <tr>\n",
       "      <th>20.68 N 86.9878 E</th>\n",
       "      <td>0.0</td>\n",
       "      <td>0.0</td>\n",
       "      <td>1.0</td>\n",
       "      <td>0.0</td>\n",
       "    </tr>\n",
       "    <tr>\n",
       "      <th>20.6849 N 86.9859 E</th>\n",
       "      <td>0.0</td>\n",
       "      <td>0.0</td>\n",
       "      <td>1.0</td>\n",
       "      <td>0.0</td>\n",
       "    </tr>\n",
       "    <tr>\n",
       "      <th>20.732 N 86.8726 E</th>\n",
       "      <td>0.0</td>\n",
       "      <td>0.0</td>\n",
       "      <td>1.0</td>\n",
       "      <td>0.0</td>\n",
       "    </tr>\n",
       "    <tr>\n",
       "      <th>20.7325 N 86.8712 E</th>\n",
       "      <td>0.0</td>\n",
       "      <td>0.0</td>\n",
       "      <td>1.0</td>\n",
       "      <td>0.0</td>\n",
       "    </tr>\n",
       "    <tr>\n",
       "      <th>20.7744 N 86.9268 E</th>\n",
       "      <td>0.0</td>\n",
       "      <td>0.0</td>\n",
       "      <td>1.0</td>\n",
       "      <td>0.0</td>\n",
       "    </tr>\n",
       "    <tr>\n",
       "      <th>20.775 N 86.9253 E</th>\n",
       "      <td>0.0</td>\n",
       "      <td>0.0</td>\n",
       "      <td>1.0</td>\n",
       "      <td>0.0</td>\n",
       "    </tr>\n",
       "    <tr>\n",
       "      <th>22.43 N 113.64 E</th>\n",
       "      <td>0.0</td>\n",
       "      <td>1.0</td>\n",
       "      <td>0.0</td>\n",
       "      <td>0.0</td>\n",
       "    </tr>\n",
       "    <tr>\n",
       "      <th>23.27 N 116.52 E</th>\n",
       "      <td>1.0</td>\n",
       "      <td>0.0</td>\n",
       "      <td>0.0</td>\n",
       "      <td>0.0</td>\n",
       "    </tr>\n",
       "    <tr>\n",
       "      <th>23.55 N 117.24 E</th>\n",
       "      <td>0.0</td>\n",
       "      <td>2.0</td>\n",
       "      <td>0.0</td>\n",
       "      <td>0.0</td>\n",
       "    </tr>\n",
       "    <tr>\n",
       "      <th>27.8977 N 97.0387 W</th>\n",
       "      <td>0.0</td>\n",
       "      <td>0.0</td>\n",
       "      <td>0.0</td>\n",
       "      <td>2.0</td>\n",
       "    </tr>\n",
       "  </tbody>\n",
       "</table>\n",
       "</div>"
      ],
      "text/plain": [
       "scientific_name_labels  rhizosphere metagenome  sediment metagenome  \\\n",
       "location                                                              \n",
       "20.6528 N 86.8503 E                        0.0                  0.0   \n",
       "20.663 N 86.8594 E                         0.0                  0.0   \n",
       "20.68 N 86.9878 E                          0.0                  0.0   \n",
       "20.6849 N 86.9859 E                        0.0                  0.0   \n",
       "20.732 N 86.8726 E                         0.0                  0.0   \n",
       "20.7325 N 86.8712 E                        0.0                  0.0   \n",
       "20.7744 N 86.9268 E                        0.0                  0.0   \n",
       "20.775 N 86.9253 E                         0.0                  0.0   \n",
       "22.43 N 113.64 E                           0.0                  1.0   \n",
       "23.27 N 116.52 E                           1.0                  0.0   \n",
       "23.55 N 117.24 E                           0.0                  2.0   \n",
       "27.8977 N 97.0387 W                        0.0                  0.0   \n",
       "\n",
       "scientific_name_labels  soil metagenome  wetland metagenome  \n",
       "location                                                     \n",
       "20.6528 N 86.8503 E                 1.0                 0.0  \n",
       "20.663 N 86.8594 E                  1.0                 0.0  \n",
       "20.68 N 86.9878 E                   1.0                 0.0  \n",
       "20.6849 N 86.9859 E                 1.0                 0.0  \n",
       "20.732 N 86.8726 E                  1.0                 0.0  \n",
       "20.7325 N 86.8712 E                 1.0                 0.0  \n",
       "20.7744 N 86.9268 E                 1.0                 0.0  \n",
       "20.775 N 86.9253 E                  1.0                 0.0  \n",
       "22.43 N 113.64 E                    0.0                 0.0  \n",
       "23.27 N 116.52 E                    0.0                 0.0  \n",
       "23.55 N 117.24 E                    0.0                 0.0  \n",
       "27.8977 N 97.0387 W                 0.0                 2.0  "
      ]
     },
     "execution_count": 445,
     "metadata": {},
     "output_type": "execute_result"
    }
   ],
   "source": [
    "# Calculate the Studies count for each combination of 'location' and 'scientific_name_labels'\n",
    "\n",
    "studies_count_df = df_scatter_geo.groupby(['location', 'scientific_name_labels'])['study_accession'].nunique().unstack().fillna(0)\n",
    "studies_count_df"
   ]
  },
  {
   "cell_type": "code",
   "execution_count": 352,
   "metadata": {
    "cellView": "form",
    "colab": {
     "base_uri": "https://localhost:8080/",
     "height": 643
    },
    "id": "BH-f5Tg7j_2x",
    "outputId": "1c4b6ad1-aebe-411d-976c-0ffa94988172"
   },
   "outputs": [
    {
     "data": {
      "image/png": "[encoded data removed]",
      "text/plain": [
       "<Figure size 640x480 with 1 Axes>"
      ]
     },
     "metadata": {},
     "output_type": "display_data"
    }
   ],
   "source": [
    "# @title Studies Count :\n",
    "\n",
    "# Create a bar plot for visualization\n",
    "\n",
    "_ = studies_count_df.plot(kind='bar', stacked=True)\n",
    "\n",
    "  # Place the bar values in the bar plot\n",
    "for p in _.patches:\n",
    "    width, height = p.get_width(), p.get_height()\n",
    "    x, y = p.get_xy()\n",
    "    if height > 0:\n",
    "        _.annotate(f'{height}', (x + width/2, y + 2.0 + height), ha='center', va='center')\n",
    "\n",
    "  # Place the labels in the bar plot\n",
    "plt.xlabel('Location')\n",
    "plt.ylabel('Number of Studies')\n",
    "plt.title('Distribution of Mangrove Habitats by Location')\n",
    "\n",
    "  # Place the legend outside the bar plot\n",
    "plt.legend(bbox_to_anchor=(1.05, 1), loc='upper left')\n",
    "\n",
    "  # Save the bar plot\n",
    "#plt.savefig('Distribution_of_Mangrove_Habitats_by_Location.jpg', bbox_inches='tight')\n",
    "\n",
    "  # Display the plot\n",
    "plt.show()"
   ]
  },
  {
   "cell_type": "code",
   "execution_count": 353,
   "metadata": {
    "colab": {
     "base_uri": "https://localhost:8080/",
     "height": 1000
    },
    "id": "PM3_aIKvYL1X",
    "outputId": "1fa579ca-8221-407e-f10c-c0cfc46ae491"
   },
   "outputs": [
    {
     "data": {
      "text/html": [
       "<div>\n",
       "<style scoped>\n",
       "    .dataframe tbody tr th:only-of-type {\n",
       "        vertical-align: middle;\n",
       "    }\n",
       "\n",
       "    .dataframe tbody tr th {\n",
       "        vertical-align: top;\n",
       "    }\n",
       "\n",
       "    .dataframe thead th {\n",
       "        text-align: right;\n",
       "    }\n",
       "</style>\n",
       "<table border=\"1\" class=\"dataframe\">\n",
       "  <thead>\n",
       "    <tr style=\"text-align: right;\">\n",
       "      <th></th>\n",
       "      <th>run_accession</th>\n",
       "      <th>sample_accession</th>\n",
       "      <th>study_accession</th>\n",
       "      <th>sample_description</th>\n",
       "      <th>study_title</th>\n",
       "      <th>library_strategy</th>\n",
       "      <th>scientific_name</th>\n",
       "      <th>instrument_platform</th>\n",
       "      <th>instrument_model</th>\n",
       "      <th>collection_date_end</th>\n",
       "      <th>...</th>\n",
       "      <th>lat</th>\n",
       "      <th>lon</th>\n",
       "      <th>country</th>\n",
       "      <th>fastq_bytes</th>\n",
       "      <th>fastq_ftp</th>\n",
       "      <th>scientific_name_labels</th>\n",
       "      <th>collection_date_year</th>\n",
       "      <th>runs_count</th>\n",
       "      <th>samples_count</th>\n",
       "      <th>studies_count</th>\n",
       "    </tr>\n",
       "  </thead>\n",
       "  <tbody>\n",
       "    <tr>\n",
       "      <th>0</th>\n",
       "      <td>ERR4833476</td>\n",
       "      <td>SAMEA7567423</td>\n",
       "      <td>PRJEB41295</td>\n",
       "      <td>Mangrove rhizosphere metagenome</td>\n",
       "      <td>Native and introduced mangroves select distinc...</td>\n",
       "      <td>WGS</td>\n",
       "      <td>mangrove metagenome</td>\n",
       "      <td>ILLUMINA</td>\n",
       "      <td>NextSeq 550</td>\n",
       "      <td>2018-12-31</td>\n",
       "      <td>...</td>\n",
       "      <td>23.27</td>\n",
       "      <td>116.52</td>\n",
       "      <td>China</td>\n",
       "      <td>3585629891;3960554345</td>\n",
       "      <td>ftp.sra.ebi.ac.uk/vol1/fastq/ERR483/006/ERR483...</td>\n",
       "      <td>rhizosphere metagenome</td>\n",
       "      <td>2018</td>\n",
       "      <td>9.0</td>\n",
       "      <td>9.0</td>\n",
       "      <td>1.0</td>\n",
       "    </tr>\n",
       "    <tr>\n",
       "      <th>1</th>\n",
       "      <td>ERR4833477</td>\n",
       "      <td>SAMEA7567424</td>\n",
       "      <td>PRJEB41295</td>\n",
       "      <td>Mangrove rhizosphere metagenome</td>\n",
       "      <td>Native and introduced mangroves select distinc...</td>\n",
       "      <td>WGS</td>\n",
       "      <td>mangrove metagenome</td>\n",
       "      <td>ILLUMINA</td>\n",
       "      <td>NextSeq 550</td>\n",
       "      <td>2018-12-31</td>\n",
       "      <td>...</td>\n",
       "      <td>23.27</td>\n",
       "      <td>116.52</td>\n",
       "      <td>China</td>\n",
       "      <td>3675375581;4063769533</td>\n",
       "      <td>ftp.sra.ebi.ac.uk/vol1/fastq/ERR483/007/ERR483...</td>\n",
       "      <td>rhizosphere metagenome</td>\n",
       "      <td>2018</td>\n",
       "      <td>9.0</td>\n",
       "      <td>9.0</td>\n",
       "      <td>1.0</td>\n",
       "    </tr>\n",
       "    <tr>\n",
       "      <th>2</th>\n",
       "      <td>SRR17658262</td>\n",
       "      <td>SAMN25078545</td>\n",
       "      <td>PRJNA798446</td>\n",
       "      <td>Mangrove sediments in the Qi’ao Mangrove Wetla...</td>\n",
       "      <td>Shotgun metagenome of microbial community in m...</td>\n",
       "      <td>WGS</td>\n",
       "      <td>sediment metagenome</td>\n",
       "      <td>ILLUMINA</td>\n",
       "      <td>Illumina NovaSeq 6000</td>\n",
       "      <td>2019-12-21</td>\n",
       "      <td>...</td>\n",
       "      <td>22.43</td>\n",
       "      <td>113.64</td>\n",
       "      <td>China:Pearl River Estuary</td>\n",
       "      <td>2306559317;2451278707</td>\n",
       "      <td>ftp.sra.ebi.ac.uk/vol1/fastq/SRR176/062/SRR176...</td>\n",
       "      <td>sediment metagenome</td>\n",
       "      <td>2019</td>\n",
       "      <td>50.0</td>\n",
       "      <td>50.0</td>\n",
       "      <td>1.0</td>\n",
       "    </tr>\n",
       "    <tr>\n",
       "      <th>3</th>\n",
       "      <td>SRR17658267</td>\n",
       "      <td>SAMN25078541</td>\n",
       "      <td>PRJNA798446</td>\n",
       "      <td>Mangrove sediments in the Qi’ao Mangrove Wetla...</td>\n",
       "      <td>Shotgun metagenome of microbial community in m...</td>\n",
       "      <td>WGS</td>\n",
       "      <td>sediment metagenome</td>\n",
       "      <td>ILLUMINA</td>\n",
       "      <td>Illumina NovaSeq 6000</td>\n",
       "      <td>2019-12-21</td>\n",
       "      <td>...</td>\n",
       "      <td>22.43</td>\n",
       "      <td>113.64</td>\n",
       "      <td>China:Pearl River Estuary</td>\n",
       "      <td>2476667887;2652808811</td>\n",
       "      <td>ftp.sra.ebi.ac.uk/vol1/fastq/SRR176/067/SRR176...</td>\n",
       "      <td>sediment metagenome</td>\n",
       "      <td>2019</td>\n",
       "      <td>50.0</td>\n",
       "      <td>50.0</td>\n",
       "      <td>1.0</td>\n",
       "    </tr>\n",
       "    <tr>\n",
       "      <th>4</th>\n",
       "      <td>SRR17658269</td>\n",
       "      <td>SAMN25078539</td>\n",
       "      <td>PRJNA798446</td>\n",
       "      <td>Mangrove sediments in the Qi’ao Mangrove Wetla...</td>\n",
       "      <td>Shotgun metagenome of microbial community in m...</td>\n",
       "      <td>WGS</td>\n",
       "      <td>sediment metagenome</td>\n",
       "      <td>ILLUMINA</td>\n",
       "      <td>Illumina NovaSeq 6000</td>\n",
       "      <td>2019-12-21</td>\n",
       "      <td>...</td>\n",
       "      <td>22.43</td>\n",
       "      <td>113.64</td>\n",
       "      <td>China:Pearl River Estuary</td>\n",
       "      <td>2412199078;2593155762</td>\n",
       "      <td>ftp.sra.ebi.ac.uk/vol1/fastq/SRR176/069/SRR176...</td>\n",
       "      <td>sediment metagenome</td>\n",
       "      <td>2019</td>\n",
       "      <td>50.0</td>\n",
       "      <td>50.0</td>\n",
       "      <td>1.0</td>\n",
       "    </tr>\n",
       "    <tr>\n",
       "      <th>...</th>\n",
       "      <td>...</td>\n",
       "      <td>...</td>\n",
       "      <td>...</td>\n",
       "      <td>...</td>\n",
       "      <td>...</td>\n",
       "      <td>...</td>\n",
       "      <td>...</td>\n",
       "      <td>...</td>\n",
       "      <td>...</td>\n",
       "      <td>...</td>\n",
       "      <td>...</td>\n",
       "      <td>...</td>\n",
       "      <td>...</td>\n",
       "      <td>...</td>\n",
       "      <td>...</td>\n",
       "      <td>...</td>\n",
       "      <td>...</td>\n",
       "      <td>...</td>\n",
       "      <td>...</td>\n",
       "      <td>...</td>\n",
       "      <td>...</td>\n",
       "    </tr>\n",
       "    <tr>\n",
       "      <th>66</th>\n",
       "      <td>SRR17658297</td>\n",
       "      <td>SAMN25078513</td>\n",
       "      <td>PRJNA798446</td>\n",
       "      <td>Mangrove sediments in the Qi’ao Mangrove Wetla...</td>\n",
       "      <td>Shotgun metagenome of microbial community in m...</td>\n",
       "      <td>WGS</td>\n",
       "      <td>sediment metagenome</td>\n",
       "      <td>ILLUMINA</td>\n",
       "      <td>Illumina NovaSeq 6000</td>\n",
       "      <td>2019-12-21</td>\n",
       "      <td>...</td>\n",
       "      <td>22.43</td>\n",
       "      <td>113.64</td>\n",
       "      <td>China:Pearl River Estuary</td>\n",
       "      <td>4509019404;4570932808</td>\n",
       "      <td>ftp.sra.ebi.ac.uk/vol1/fastq/SRR176/097/SRR176...</td>\n",
       "      <td>sediment metagenome</td>\n",
       "      <td>2019</td>\n",
       "      <td>50.0</td>\n",
       "      <td>50.0</td>\n",
       "      <td>1.0</td>\n",
       "    </tr>\n",
       "    <tr>\n",
       "      <th>67</th>\n",
       "      <td>SRR17658300</td>\n",
       "      <td>SAMN25078502</td>\n",
       "      <td>PRJNA798446</td>\n",
       "      <td>Mangrove sediments in the Qi’ao Mangrove Wetla...</td>\n",
       "      <td>Shotgun metagenome of microbial community in m...</td>\n",
       "      <td>WGS</td>\n",
       "      <td>sediment metagenome</td>\n",
       "      <td>ILLUMINA</td>\n",
       "      <td>Illumina NovaSeq 6000</td>\n",
       "      <td>2019-12-21</td>\n",
       "      <td>...</td>\n",
       "      <td>22.43</td>\n",
       "      <td>113.64</td>\n",
       "      <td>China:Pearl River Estuary</td>\n",
       "      <td>2679965801;2839928294</td>\n",
       "      <td>ftp.sra.ebi.ac.uk/vol1/fastq/SRR176/000/SRR176...</td>\n",
       "      <td>sediment metagenome</td>\n",
       "      <td>2019</td>\n",
       "      <td>50.0</td>\n",
       "      <td>50.0</td>\n",
       "      <td>1.0</td>\n",
       "    </tr>\n",
       "    <tr>\n",
       "      <th>68</th>\n",
       "      <td>SRR12150540</td>\n",
       "      <td>SAMN14511813</td>\n",
       "      <td>PRJNA619558</td>\n",
       "      <td>Sediment microbial communities from coastal we...</td>\n",
       "      <td>Sediment microbial communities from coastal we...</td>\n",
       "      <td>WGS</td>\n",
       "      <td>wetland metagenome</td>\n",
       "      <td>ILLUMINA</td>\n",
       "      <td>Illumina NovaSeq 6000</td>\n",
       "      <td>2018-08-19</td>\n",
       "      <td>...</td>\n",
       "      <td>27.8977</td>\n",
       "      <td>-97.0387</td>\n",
       "      <td>USA: Texas</td>\n",
       "      <td>3202116262;3247437731</td>\n",
       "      <td>ftp.sra.ebi.ac.uk/vol1/fastq/SRR121/040/SRR121...</td>\n",
       "      <td>wetland metagenome</td>\n",
       "      <td>2018</td>\n",
       "      <td>2.0</td>\n",
       "      <td>2.0</td>\n",
       "      <td>2.0</td>\n",
       "    </tr>\n",
       "    <tr>\n",
       "      <th>69</th>\n",
       "      <td>SRR24201523</td>\n",
       "      <td>SAMN33849203</td>\n",
       "      <td>PRJNA947344</td>\n",
       "      <td>Whole metagenome of rhizosphere soil of Kalibh...</td>\n",
       "      <td>Whole-metagenome shotgun sequencing of soil sa...</td>\n",
       "      <td>WGS</td>\n",
       "      <td>soil metagenome</td>\n",
       "      <td>ILLUMINA</td>\n",
       "      <td>Illumina NovaSeq 6000</td>\n",
       "      <td>2022-04-03</td>\n",
       "      <td>...</td>\n",
       "      <td>20.7744</td>\n",
       "      <td>86.9268</td>\n",
       "      <td>India: Bhitarkanika mangrove forest, Odisha</td>\n",
       "      <td>2521256864;2490491525</td>\n",
       "      <td>ftp.sra.ebi.ac.uk/vol1/fastq/SRR242/023/SRR242...</td>\n",
       "      <td>soil metagenome</td>\n",
       "      <td>2022</td>\n",
       "      <td>1.0</td>\n",
       "      <td>1.0</td>\n",
       "      <td>1.0</td>\n",
       "    </tr>\n",
       "    <tr>\n",
       "      <th>70</th>\n",
       "      <td>SRR24201527</td>\n",
       "      <td>SAMN33848497</td>\n",
       "      <td>PRJNA947344</td>\n",
       "      <td>Whole metagenome of rhizosphere soil of Kalibh...</td>\n",
       "      <td>Whole-metagenome shotgun sequencing of soil sa...</td>\n",
       "      <td>WGS</td>\n",
       "      <td>soil metagenome</td>\n",
       "      <td>ILLUMINA</td>\n",
       "      <td>Illumina NovaSeq 6000</td>\n",
       "      <td>2021-10-02</td>\n",
       "      <td>...</td>\n",
       "      <td>20.775</td>\n",
       "      <td>86.9253</td>\n",
       "      <td>India: Bhitarkanika mangrove forest, Odisha</td>\n",
       "      <td>2700127663;2824067298</td>\n",
       "      <td>ftp.sra.ebi.ac.uk/vol1/fastq/SRR242/027/SRR242...</td>\n",
       "      <td>soil metagenome</td>\n",
       "      <td>2021</td>\n",
       "      <td>1.0</td>\n",
       "      <td>1.0</td>\n",
       "      <td>1.0</td>\n",
       "    </tr>\n",
       "  </tbody>\n",
       "</table>\n",
       "<p>71 rows × 21 columns</p>\n",
       "</div>"
      ],
      "text/plain": [
       "   run_accession sample_accession study_accession  \\\n",
       "0     ERR4833476     SAMEA7567423      PRJEB41295   \n",
       "1     ERR4833477     SAMEA7567424      PRJEB41295   \n",
       "2    SRR17658262     SAMN25078545     PRJNA798446   \n",
       "3    SRR17658267     SAMN25078541     PRJNA798446   \n",
       "4    SRR17658269     SAMN25078539     PRJNA798446   \n",
       "..           ...              ...             ...   \n",
       "66   SRR17658297     SAMN25078513     PRJNA798446   \n",
       "67   SRR17658300     SAMN25078502     PRJNA798446   \n",
       "68   SRR12150540     SAMN14511813     PRJNA619558   \n",
       "69   SRR24201523     SAMN33849203     PRJNA947344   \n",
       "70   SRR24201527     SAMN33848497     PRJNA947344   \n",
       "\n",
       "                                   sample_description  \\\n",
       "0                     Mangrove rhizosphere metagenome   \n",
       "1                     Mangrove rhizosphere metagenome   \n",
       "2   Mangrove sediments in the Qi’ao Mangrove Wetla...   \n",
       "3   Mangrove sediments in the Qi’ao Mangrove Wetla...   \n",
       "4   Mangrove sediments in the Qi’ao Mangrove Wetla...   \n",
       "..                                                ...   \n",
       "66  Mangrove sediments in the Qi’ao Mangrove Wetla...   \n",
       "67  Mangrove sediments in the Qi’ao Mangrove Wetla...   \n",
       "68  Sediment microbial communities from coastal we...   \n",
       "69  Whole metagenome of rhizosphere soil of Kalibh...   \n",
       "70  Whole metagenome of rhizosphere soil of Kalibh...   \n",
       "\n",
       "                                          study_title library_strategy  \\\n",
       "0   Native and introduced mangroves select distinc...              WGS   \n",
       "1   Native and introduced mangroves select distinc...              WGS   \n",
       "2   Shotgun metagenome of microbial community in m...              WGS   \n",
       "3   Shotgun metagenome of microbial community in m...              WGS   \n",
       "4   Shotgun metagenome of microbial community in m...              WGS   \n",
       "..                                                ...              ...   \n",
       "66  Shotgun metagenome of microbial community in m...              WGS   \n",
       "67  Shotgun metagenome of microbial community in m...              WGS   \n",
       "68  Sediment microbial communities from coastal we...              WGS   \n",
       "69  Whole-metagenome shotgun sequencing of soil sa...              WGS   \n",
       "70  Whole-metagenome shotgun sequencing of soil sa...              WGS   \n",
       "\n",
       "        scientific_name instrument_platform       instrument_model  \\\n",
       "0   mangrove metagenome            ILLUMINA            NextSeq 550   \n",
       "1   mangrove metagenome            ILLUMINA            NextSeq 550   \n",
       "2   sediment metagenome            ILLUMINA  Illumina NovaSeq 6000   \n",
       "3   sediment metagenome            ILLUMINA  Illumina NovaSeq 6000   \n",
       "4   sediment metagenome            ILLUMINA  Illumina NovaSeq 6000   \n",
       "..                  ...                 ...                    ...   \n",
       "66  sediment metagenome            ILLUMINA  Illumina NovaSeq 6000   \n",
       "67  sediment metagenome            ILLUMINA  Illumina NovaSeq 6000   \n",
       "68   wetland metagenome            ILLUMINA  Illumina NovaSeq 6000   \n",
       "69      soil metagenome            ILLUMINA  Illumina NovaSeq 6000   \n",
       "70      soil metagenome            ILLUMINA  Illumina NovaSeq 6000   \n",
       "\n",
       "   collection_date_end  ...      lat       lon  \\\n",
       "0           2018-12-31  ...    23.27    116.52   \n",
       "1           2018-12-31  ...    23.27    116.52   \n",
       "2           2019-12-21  ...    22.43    113.64   \n",
       "3           2019-12-21  ...    22.43    113.64   \n",
       "4           2019-12-21  ...    22.43    113.64   \n",
       "..                 ...  ...      ...       ...   \n",
       "66          2019-12-21  ...    22.43    113.64   \n",
       "67          2019-12-21  ...    22.43    113.64   \n",
       "68          2018-08-19  ...  27.8977  -97.0387   \n",
       "69          2022-04-03  ...  20.7744   86.9268   \n",
       "70          2021-10-02  ...   20.775   86.9253   \n",
       "\n",
       "                                        country            fastq_bytes  \\\n",
       "0                                         China  3585629891;3960554345   \n",
       "1                                         China  3675375581;4063769533   \n",
       "2                     China:Pearl River Estuary  2306559317;2451278707   \n",
       "3                     China:Pearl River Estuary  2476667887;2652808811   \n",
       "4                     China:Pearl River Estuary  2412199078;2593155762   \n",
       "..                                          ...                    ...   \n",
       "66                    China:Pearl River Estuary  4509019404;4570932808   \n",
       "67                    China:Pearl River Estuary  2679965801;2839928294   \n",
       "68                                   USA: Texas  3202116262;3247437731   \n",
       "69  India: Bhitarkanika mangrove forest, Odisha  2521256864;2490491525   \n",
       "70  India: Bhitarkanika mangrove forest, Odisha  2700127663;2824067298   \n",
       "\n",
       "                                            fastq_ftp  scientific_name_labels  \\\n",
       "0   ftp.sra.ebi.ac.uk/vol1/fastq/ERR483/006/ERR483...  rhizosphere metagenome   \n",
       "1   ftp.sra.ebi.ac.uk/vol1/fastq/ERR483/007/ERR483...  rhizosphere metagenome   \n",
       "2   ftp.sra.ebi.ac.uk/vol1/fastq/SRR176/062/SRR176...     sediment metagenome   \n",
       "3   ftp.sra.ebi.ac.uk/vol1/fastq/SRR176/067/SRR176...     sediment metagenome   \n",
       "4   ftp.sra.ebi.ac.uk/vol1/fastq/SRR176/069/SRR176...     sediment metagenome   \n",
       "..                                                ...                     ...   \n",
       "66  ftp.sra.ebi.ac.uk/vol1/fastq/SRR176/097/SRR176...     sediment metagenome   \n",
       "67  ftp.sra.ebi.ac.uk/vol1/fastq/SRR176/000/SRR176...     sediment metagenome   \n",
       "68  ftp.sra.ebi.ac.uk/vol1/fastq/SRR121/040/SRR121...      wetland metagenome   \n",
       "69  ftp.sra.ebi.ac.uk/vol1/fastq/SRR242/023/SRR242...         soil metagenome   \n",
       "70  ftp.sra.ebi.ac.uk/vol1/fastq/SRR242/027/SRR242...         soil metagenome   \n",
       "\n",
       "   collection_date_year runs_count  samples_count  studies_count  \n",
       "0                  2018        9.0            9.0            1.0  \n",
       "1                  2018        9.0            9.0            1.0  \n",
       "2                  2019       50.0           50.0            1.0  \n",
       "3                  2019       50.0           50.0            1.0  \n",
       "4                  2019       50.0           50.0            1.0  \n",
       "..                  ...        ...            ...            ...  \n",
       "66                 2019       50.0           50.0            1.0  \n",
       "67                 2019       50.0           50.0            1.0  \n",
       "68                 2018        2.0            2.0            2.0  \n",
       "69                 2022        1.0            1.0            1.0  \n",
       "70                 2021        1.0            1.0            1.0  \n",
       "\n",
       "[71 rows x 21 columns]"
      ]
     },
     "execution_count": 353,
     "metadata": {},
     "output_type": "execute_result"
    }
   ],
   "source": [
    "# Add to df_scatter_geo as 'studies_count' column\n",
    "\n",
    "studies_count_df = studies_count_df.stack().reset_index(name='studies_count')# Flatten the samples_count_df\n",
    "df_scatter_geo = df_scatter_geo.merge(studies_count_df, on=['location', 'scientific_name_labels'])\n",
    "\n",
    "df_scatter_geo"
   ]
  },
  {
   "cell_type": "code",
   "execution_count": 354,
   "metadata": {
    "id": "s05JtF8PbQ6O"
   },
   "outputs": [],
   "source": [
    "# Save on a CSV field\n",
    "df_scatter_geo.to_csv(metadata_path + '05_mangrove_metagenome_datasets_scattergeocounts_newcolums.csv', index=False)"
   ]
  },
  {
   "cell_type": "code",
   "execution_count": 454,
   "metadata": {},
   "outputs": [
    {
     "data": {
      "image/png": "[encoded data removed]",
      "text/plain": [
       "<Figure size 1200x600 with 1 Axes>"
      ]
     },
     "metadata": {},
     "output_type": "display_data"
    }
   ],
   "source": [
    "# Group data and count unique locations per study accession\n",
    "location_counts = df_scatter_geo.groupby('study_accession')['location'].nunique().reset_index(name='location_count')\n",
    "\n",
    "# Create a bar plot\n",
    "plt.figure(figsize=(12, 6))  # Adjust figure size as needed\n",
    "plt.bar(location_counts['study_accession'], location_counts['location_count'])\n",
    "plt.xlabel('Study Accession')\n",
    "plt.ylabel('Number of Different Locations')\n",
    "plt.title('Number of Different Locations per Study Accession')\n",
    "plt.xticks(rotation=90, ha='right')  # Rotate x-axis labels for readability\n",
    "plt.tight_layout()  # Adjust layout to prevent labels from overlapping\n",
    "plt.show()"
   ]
  },
  {
   "cell_type": "markdown",
   "metadata": {
    "id": "xDQCqOwEcgGW"
   },
   "source": [
    "### **Scatter Geo Plots**"
   ]
  },
  {
   "cell_type": "code",
   "execution_count": 355,
   "metadata": {
    "cellView": "form",
    "colab": {
     "base_uri": "https://localhost:8080/",
     "height": 542
    },
    "id": "wAY-GPkZeZx3",
    "outputId": "54af737e-3242-4a0a-cb5c-3b6efbd865a2"
   },
   "outputs": [
    {
     "data": {
      "application/vnd.plotly.v1+json": {
       "config": {
        "plotlyServerURL": "https://plot.ly"
       },
       "data": [
        {
         "customdata": [
          [
           9,
           9,
           1,
           "China",
           "23.27",
           "116.52",
           "rhizosphere metagenome"
          ],
          [
           9,
           9,
           1,
           "China",
           "23.27",
           "116.52",
           "rhizosphere metagenome"
          ],
          [
           9,
           9,
           1,
           "China",
           "23.27",
           "116.52",
           "rhizosphere metagenome"
          ],
          [
           9,
           9,
           1,
           "China",
           "23.27",
           "116.52",
           "rhizosphere metagenome"
          ],
          [
           9,
           9,
           1,
           "China",
           "23.27",
           "116.52",
           "rhizosphere metagenome"
          ],
          [
           9,
           9,
           1,
           "China",
           "23.27",
           "116.52",
           "rhizosphere metagenome"
          ],
          [
           9,
           9,
           1,
           "China",
           "23.27",
           "116.52",
           "rhizosphere metagenome"
          ],
          [
           9,
           9,
           1,
           "China",
           "23.27",
           "116.52",
           "rhizosphere metagenome"
          ],
          [
           9,
           9,
           1,
           "China",
           "23.27",
           "116.52",
           "rhizosphere metagenome"
          ]
         ],
         "geo": "geo",
         "hovertemplate": "<b>Location: %{hovertext}</b><br>Runs Count: %{customdata[0]}<br>Samples Count: %{customdata[1]}<br>Studies Count: %{customdata[2]}<br>Country: %{customdata[3]}<extra></extra>",
         "hovertext": [
          "23.27 N 116.52 E",
          "23.27 N 116.52 E",
          "23.27 N 116.52 E",
          "23.27 N 116.52 E",
          "23.27 N 116.52 E",
          "23.27 N 116.52 E",
          "23.27 N 116.52 E",
          "23.27 N 116.52 E",
          "23.27 N 116.52 E"
         ],
         "lat": [
          "23.27",
          "23.27",
          "23.27",
          "23.27",
          "23.27",
          "23.27",
          "23.27",
          "23.27",
          "23.27"
         ],
         "legendgroup": "rhizosphere metagenome",
         "lon": [
          "116.52",
          "116.52",
          "116.52",
          "116.52",
          "116.52",
          "116.52",
          "116.52",
          "116.52",
          "116.52"
         ],
         "marker": {
          "color": "#636efa",
          "size": [
           9,
           9,
           9,
           9,
           9,
           9,
           9,
           9,
           9
          ],
          "sizemode": "area",
          "sizeref": 0.013888888888888888,
          "symbol": "circle"
         },
         "mode": "markers",
         "name": "rhizosphere metagenome",
         "showlegend": true,
         "type": "scattergeo",
         "visible": true
        },
        {
         "customdata": [
          [
           50,
           50,
           1,
           "China:Pearl River Estuary",
           "22.43",
           "113.64",
           "sediment metagenome"
          ],
          [
           50,
           50,
           1,
           "China:Pearl River Estuary",
           "22.43",
           "113.64",
           "sediment metagenome"
          ],
          [
           50,
           50,
           1,
           "China:Pearl River Estuary",
           "22.43",
           "113.64",
           "sediment metagenome"
          ],
          [
           50,
           50,
           1,
           "China:Pearl River Estuary",
           "22.43",
           "113.64",
           "sediment metagenome"
          ],
          [
           50,
           50,
           1,
           "China:Pearl River Estuary",
           "22.43",
           "113.64",
           "sediment metagenome"
          ],
          [
           50,
           50,
           1,
           "China:Pearl River Estuary",
           "22.43",
           "113.64",
           "sediment metagenome"
          ],
          [
           50,
           50,
           1,
           "China:Pearl River Estuary",
           "22.43",
           "113.64",
           "sediment metagenome"
          ],
          [
           50,
           50,
           1,
           "China:Pearl River Estuary",
           "22.43",
           "113.64",
           "sediment metagenome"
          ],
          [
           50,
           50,
           1,
           "China:Pearl River Estuary",
           "22.43",
           "113.64",
           "sediment metagenome"
          ],
          [
           50,
           50,
           1,
           "China:Pearl River Estuary",
           "22.43",
           "113.64",
           "sediment metagenome"
          ],
          [
           2,
           1,
           2,
           "China: Yunxiao",
           "23.55",
           "117.24",
           "sediment metagenome"
          ],
          [
           50,
           50,
           1,
           "China:Pearl River Estuary",
           "22.43",
           "113.64",
           "sediment metagenome"
          ],
          [
           50,
           50,
           1,
           "China:Pearl River Estuary",
           "22.43",
           "113.64",
           "sediment metagenome"
          ],
          [
           50,
           50,
           1,
           "China:Pearl River Estuary",
           "22.43",
           "113.64",
           "sediment metagenome"
          ],
          [
           50,
           50,
           1,
           "China:Pearl River Estuary",
           "22.43",
           "113.64",
           "sediment metagenome"
          ],
          [
           50,
           50,
           1,
           "China:Pearl River Estuary",
           "22.43",
           "113.64",
           "sediment metagenome"
          ],
          [
           50,
           50,
           1,
           "China:Pearl River Estuary",
           "22.43",
           "113.64",
           "sediment metagenome"
          ],
          [
           50,
           50,
           1,
           "China:Pearl River Estuary",
           "22.43",
           "113.64",
           "sediment metagenome"
          ],
          [
           50,
           50,
           1,
           "China:Pearl River Estuary",
           "22.43",
           "113.64",
           "sediment metagenome"
          ],
          [
           50,
           50,
           1,
           "China:Pearl River Estuary",
           "22.43",
           "113.64",
           "sediment metagenome"
          ],
          [
           50,
           50,
           1,
           "China:Pearl River Estuary",
           "22.43",
           "113.64",
           "sediment metagenome"
          ],
          [
           50,
           50,
           1,
           "China:Pearl River Estuary",
           "22.43",
           "113.64",
           "sediment metagenome"
          ],
          [
           50,
           50,
           1,
           "China:Pearl River Estuary",
           "22.43",
           "113.64",
           "sediment metagenome"
          ],
          [
           50,
           50,
           1,
           "China:Pearl River Estuary",
           "22.43",
           "113.64",
           "sediment metagenome"
          ],
          [
           50,
           50,
           1,
           "China:Pearl River Estuary",
           "22.43",
           "113.64",
           "sediment metagenome"
          ],
          [
           50,
           50,
           1,
           "China:Pearl River Estuary",
           "22.43",
           "113.64",
           "sediment metagenome"
          ],
          [
           50,
           50,
           1,
           "China:Pearl River Estuary",
           "22.43",
           "113.64",
           "sediment metagenome"
          ],
          [
           50,
           50,
           1,
           "China:Pearl River Estuary",
           "22.43",
           "113.64",
           "sediment metagenome"
          ],
          [
           2,
           1,
           2,
           "China: Yunxiao",
           "23.55",
           "117.24",
           "sediment metagenome"
          ],
          [
           50,
           50,
           1,
           "China:Pearl River Estuary",
           "22.43",
           "113.64",
           "sediment metagenome"
          ],
          [
           50,
           50,
           1,
           "China:Pearl River Estuary",
           "22.43",
           "113.64",
           "sediment metagenome"
          ],
          [
           50,
           50,
           1,
           "China:Pearl River Estuary",
           "22.43",
           "113.64",
           "sediment metagenome"
          ],
          [
           50,
           50,
           1,
           "China:Pearl River Estuary",
           "22.43",
           "113.64",
           "sediment metagenome"
          ],
          [
           50,
           50,
           1,
           "China:Pearl River Estuary",
           "22.43",
           "113.64",
           "sediment metagenome"
          ],
          [
           50,
           50,
           1,
           "China:Pearl River Estuary",
           "22.43",
           "113.64",
           "sediment metagenome"
          ],
          [
           50,
           50,
           1,
           "China:Pearl River Estuary",
           "22.43",
           "113.64",
           "sediment metagenome"
          ],
          [
           50,
           50,
           1,
           "China:Pearl River Estuary",
           "22.43",
           "113.64",
           "sediment metagenome"
          ],
          [
           50,
           50,
           1,
           "China:Pearl River Estuary",
           "22.43",
           "113.64",
           "sediment metagenome"
          ],
          [
           50,
           50,
           1,
           "China:Pearl River Estuary",
           "22.43",
           "113.64",
           "sediment metagenome"
          ],
          [
           50,
           50,
           1,
           "China:Pearl River Estuary",
           "22.43",
           "113.64",
           "sediment metagenome"
          ],
          [
           50,
           50,
           1,
           "China:Pearl River Estuary",
           "22.43",
           "113.64",
           "sediment metagenome"
          ],
          [
           50,
           50,
           1,
           "China:Pearl River Estuary",
           "22.43",
           "113.64",
           "sediment metagenome"
          ],
          [
           50,
           50,
           1,
           "China:Pearl River Estuary",
           "22.43",
           "113.64",
           "sediment metagenome"
          ],
          [
           50,
           50,
           1,
           "China:Pearl River Estuary",
           "22.43",
           "113.64",
           "sediment metagenome"
          ],
          [
           50,
           50,
           1,
           "China:Pearl River Estuary",
           "22.43",
           "113.64",
           "sediment metagenome"
          ],
          [
           50,
           50,
           1,
           "China:Pearl River Estuary",
           "22.43",
           "113.64",
           "sediment metagenome"
          ],
          [
           50,
           50,
           1,
           "China:Pearl River Estuary",
           "22.43",
           "113.64",
           "sediment metagenome"
          ],
          [
           50,
           50,
           1,
           "China:Pearl River Estuary",
           "22.43",
           "113.64",
           "sediment metagenome"
          ],
          [
           50,
           50,
           1,
           "China:Pearl River Estuary",
           "22.43",
           "113.64",
           "sediment metagenome"
          ],
          [
           50,
           50,
           1,
           "China:Pearl River Estuary",
           "22.43",
           "113.64",
           "sediment metagenome"
          ],
          [
           50,
           50,
           1,
           "China:Pearl River Estuary",
           "22.43",
           "113.64",
           "sediment metagenome"
          ],
          [
           50,
           50,
           1,
           "China:Pearl River Estuary",
           "22.43",
           "113.64",
           "sediment metagenome"
          ]
         ],
         "geo": "geo",
         "hovertemplate": "<b>Location: %{hovertext}</b><br>Runs Count: %{customdata[0]}<br>Samples Count: %{customdata[1]}<br>Studies Count: %{customdata[2]}<br>Country: %{customdata[3]}<extra></extra>",
         "hovertext": [
          "22.43 N 113.64 E",
          "22.43 N 113.64 E",
          "22.43 N 113.64 E",
          "22.43 N 113.64 E",
          "22.43 N 113.64 E",
          "22.43 N 113.64 E",
          "22.43 N 113.64 E",
          "22.43 N 113.64 E",
          "22.43 N 113.64 E",
          "22.43 N 113.64 E",
          "23.55 N 117.24 E",
          "22.43 N 113.64 E",
          "22.43 N 113.64 E",
          "22.43 N 113.64 E",
          "22.43 N 113.64 E",
          "22.43 N 113.64 E",
          "22.43 N 113.64 E",
          "22.43 N 113.64 E",
          "22.43 N 113.64 E",
          "22.43 N 113.64 E",
          "22.43 N 113.64 E",
          "22.43 N 113.64 E",
          "22.43 N 113.64 E",
          "22.43 N 113.64 E",
          "22.43 N 113.64 E",
          "22.43 N 113.64 E",
          "22.43 N 113.64 E",
          "22.43 N 113.64 E",
          "23.55 N 117.24 E",
          "22.43 N 113.64 E",
          "22.43 N 113.64 E",
          "22.43 N 113.64 E",
          "22.43 N 113.64 E",
          "22.43 N 113.64 E",
          "22.43 N 113.64 E",
          "22.43 N 113.64 E",
          "22.43 N 113.64 E",
          "22.43 N 113.64 E",
          "22.43 N 113.64 E",
          "22.43 N 113.64 E",
          "22.43 N 113.64 E",
          "22.43 N 113.64 E",
          "22.43 N 113.64 E",
          "22.43 N 113.64 E",
          "22.43 N 113.64 E",
          "22.43 N 113.64 E",
          "22.43 N 113.64 E",
          "22.43 N 113.64 E",
          "22.43 N 113.64 E",
          "22.43 N 113.64 E",
          "22.43 N 113.64 E",
          "22.43 N 113.64 E"
         ],
         "lat": [
          "22.43",
          "22.43",
          "22.43",
          "22.43",
          "22.43",
          "22.43",
          "22.43",
          "22.43",
          "22.43",
          "22.43",
          "23.55",
          "22.43",
          "22.43",
          "22.43",
          "22.43",
          "22.43",
          "22.43",
          "22.43",
          "22.43",
          "22.43",
          "22.43",
          "22.43",
          "22.43",
          "22.43",
          "22.43",
          "22.43",
          "22.43",
          "22.43",
          "23.55",
          "22.43",
          "22.43",
          "22.43",
          "22.43",
          "22.43",
          "22.43",
          "22.43",
          "22.43",
          "22.43",
          "22.43",
          "22.43",
          "22.43",
          "22.43",
          "22.43",
          "22.43",
          "22.43",
          "22.43",
          "22.43",
          "22.43",
          "22.43",
          "22.43",
          "22.43",
          "22.43"
         ],
         "legendgroup": "sediment metagenome",
         "lon": [
          "113.64",
          "113.64",
          "113.64",
          "113.64",
          "113.64",
          "113.64",
          "113.64",
          "113.64",
          "113.64",
          "113.64",
          "117.24",
          "113.64",
          "113.64",
          "113.64",
          "113.64",
          "113.64",
          "113.64",
          "113.64",
          "113.64",
          "113.64",
          "113.64",
          "113.64",
          "113.64",
          "113.64",
          "113.64",
          "113.64",
          "113.64",
          "113.64",
          "117.24",
          "113.64",
          "113.64",
          "113.64",
          "113.64",
          "113.64",
          "113.64",
          "113.64",
          "113.64",
          "113.64",
          "113.64",
          "113.64",
          "113.64",
          "113.64",
          "113.64",
          "113.64",
          "113.64",
          "113.64",
          "113.64",
          "113.64",
          "113.64",
          "113.64",
          "113.64",
          "113.64"
         ],
         "marker": {
          "color": "#EF553B",
          "size": [
           50,
           50,
           50,
           50,
           50,
           50,
           50,
           50,
           50,
           50,
           2,
           50,
           50,
           50,
           50,
           50,
           50,
           50,
           50,
           50,
           50,
           50,
           50,
           50,
           50,
           50,
           50,
           50,
           2,
           50,
           50,
           50,
           50,
           50,
           50,
           50,
           50,
           50,
           50,
           50,
           50,
           50,
           50,
           50,
           50,
           50,
           50,
           50,
           50,
           50,
           50,
           50
          ],
          "sizemode": "area",
          "sizeref": 0.013888888888888888,
          "symbol": "circle"
         },
         "mode": "markers",
         "name": "sediment metagenome",
         "showlegend": true,
         "type": "scattergeo",
         "visible": true
        },
        {
         "customdata": [
          [
           1,
           1,
           1,
           "India: Bhitarkanika mangrove forest, Odisha",
           "20.6528",
           "86.8503",
           "soil metagenome"
          ],
          [
           1,
           1,
           1,
           "India: Bhitarkanika mangrove forest, Odisha",
           "20.732",
           "86.8726",
           "soil metagenome"
          ],
          [
           1,
           1,
           1,
           "India: Bhitarkanika mangrove forest, Odisha",
           "20.6849",
           "86.9859",
           "soil metagenome"
          ],
          [
           1,
           1,
           1,
           "India: Bhitarkanika mangrove forest, Odisha",
           "20.663",
           "86.8594",
           "soil metagenome"
          ],
          [
           1,
           1,
           1,
           "India: Bhitarkanika mangrove forest, Odisha",
           "20.7325",
           "86.8712",
           "soil metagenome"
          ],
          [
           1,
           1,
           1,
           "India: Bhitarkanika mangrove forest, Odisha",
           "20.68",
           "86.9878",
           "soil metagenome"
          ],
          [
           1,
           1,
           1,
           "India: Bhitarkanika mangrove forest, Odisha",
           "20.7744",
           "86.9268",
           "soil metagenome"
          ],
          [
           1,
           1,
           1,
           "India: Bhitarkanika mangrove forest, Odisha",
           "20.775",
           "86.9253",
           "soil metagenome"
          ]
         ],
         "geo": "geo",
         "hovertemplate": "<b>Location: %{hovertext}</b><br>Runs Count: %{customdata[0]}<br>Samples Count: %{customdata[1]}<br>Studies Count: %{customdata[2]}<br>Country: %{customdata[3]}<extra></extra>",
         "hovertext": [
          "20.6528 N 86.8503 E",
          "20.732 N 86.8726 E",
          "20.6849 N 86.9859 E",
          "20.663 N 86.8594 E",
          "20.7325 N 86.8712 E",
          "20.68 N 86.9878 E",
          "20.7744 N 86.9268 E",
          "20.775 N 86.9253 E"
         ],
         "lat": [
          "20.6528",
          "20.732",
          "20.6849",
          "20.663",
          "20.7325",
          "20.68",
          "20.7744",
          "20.775"
         ],
         "legendgroup": "soil metagenome",
         "lon": [
          "86.8503",
          "86.8726",
          "86.9859",
          "86.8594",
          "86.8712",
          "86.9878",
          "86.9268",
          "86.9253"
         ],
         "marker": {
          "color": "#00cc96",
          "size": [
           1,
           1,
           1,
           1,
           1,
           1,
           1,
           1
          ],
          "sizemode": "area",
          "sizeref": 0.013888888888888888,
          "symbol": "circle"
         },
         "mode": "markers",
         "name": "soil metagenome",
         "showlegend": true,
         "type": "scattergeo",
         "visible": true
        },
        {
         "customdata": [
          [
           2,
           2,
           2,
           "USA: Texas",
           "27.8977",
           "-97.0387",
           "wetland metagenome"
          ],
          [
           2,
           2,
           2,
           "USA: Texas",
           "27.8977",
           "-97.0387",
           "wetland metagenome"
          ]
         ],
         "geo": "geo",
         "hovertemplate": "<b>Location: %{hovertext}</b><br>Runs Count: %{customdata[0]}<br>Samples Count: %{customdata[1]}<br>Studies Count: %{customdata[2]}<br>Country: %{customdata[3]}<extra></extra>",
         "hovertext": [
          "27.8977 N 97.0387 W",
          "27.8977 N 97.0387 W"
         ],
         "lat": [
          "27.8977",
          "27.8977"
         ],
         "legendgroup": "wetland metagenome",
         "lon": [
          "-97.0387",
          "-97.0387"
         ],
         "marker": {
          "color": "#ab63fa",
          "size": [
           2,
           2
          ],
          "sizemode": "area",
          "sizeref": 0.013888888888888888,
          "symbol": "circle"
         },
         "mode": "markers",
         "name": "wetland metagenome",
         "showlegend": true,
         "type": "scattergeo",
         "visible": true
        }
       ],
       "layout": {
        "autosize": true,
        "dragmode": "pan",
        "geo": {
         "center": {
          "lat": 83.27701816626954,
          "lon": 118.39079937932763
         },
         "domain": {
          "x": [
           0,
           1
          ],
          "y": [
           0,
           1
          ]
         },
         "fitbounds": false,
         "projection": {
          "rotation": {
           "lon": 118.39079937932763
          },
          "scale": 0.37136483644804963
         }
        },
        "legend": {
         "bgcolor": "rgba(255, 255, 255, 0.5)",
         "bordercolor": "black",
         "borderwidth": 1,
         "font": {
          "size": 12
         },
         "itemsizing": "constant",
         "orientation": "h",
         "title": {
          "text": "Mangrove Habitats"
         },
         "tracegroupgap": 0,
         "x": 0.5,
         "xanchor": "center",
         "y": -0.2,
         "yanchor": "top"
        },
        "margin": {
         "t": 60
        },
        "template": {
         "data": {
          "bar": [
           {
            "error_x": {
             "color": "#2a3f5f"
            },
            "error_y": {
             "color": "#2a3f5f"
            },
            "marker": {
             "line": {
              "color": "#E5ECF6",
              "width": 0.5
             },
             "pattern": {
              "fillmode": "overlay",
              "size": 10,
              "solidity": 0.2
             }
            },
            "type": "bar"
           }
          ],
          "barpolar": [
           {
            "marker": {
             "line": {
              "color": "#E5ECF6",
              "width": 0.5
             },
             "pattern": {
              "fillmode": "overlay",
              "size": 10,
              "solidity": 0.2
             }
            },
            "type": "barpolar"
           }
          ],
          "carpet": [
           {
            "aaxis": {
             "endlinecolor": "#2a3f5f",
             "gridcolor": "white",
             "linecolor": "white",
             "minorgridcolor": "white",
             "startlinecolor": "#2a3f5f"
            },
            "baxis": {
             "endlinecolor": "#2a3f5f",
             "gridcolor": "white",
             "linecolor": "white",
             "minorgridcolor": "white",
             "startlinecolor": "#2a3f5f"
            },
            "type": "carpet"
           }
          ],
          "choropleth": [
           {
            "colorbar": {
             "outlinewidth": 0,
             "ticks": ""
            },
            "type": "choropleth"
           }
          ],
          "contour": [
           {
            "colorbar": {
             "outlinewidth": 0,
             "ticks": ""
            },
            "colorscale": [
             [
              0,
              "#0d0887"
             ],
             [
              0.1111111111111111,
              "#46039f"
             ],
             [
              0.2222222222222222,
              "#7201a8"
             ],
             [
              0.3333333333333333,
              "#9c179e"
             ],
             [
              0.4444444444444444,
              "#bd3786"
             ],
             [
              0.5555555555555556,
              "#d8576b"
             ],
             [
              0.6666666666666666,
              "#ed7953"
             ],
             [
              0.7777777777777778,
              "#fb9f3a"
             ],
             [
              0.8888888888888888,
              "#fdca26"
             ],
             [
              1,
              "#f0f921"
             ]
            ],
            "type": "contour"
           }
          ],
          "contourcarpet": [
           {
            "colorbar": {
             "outlinewidth": 0,
             "ticks": ""
            },
            "type": "contourcarpet"
           }
          ],
          "heatmap": [
           {
            "colorbar": {
             "outlinewidth": 0,
             "ticks": ""
            },
            "colorscale": [
             [
              0,
              "#0d0887"
             ],
             [
              0.1111111111111111,
              "#46039f"
             ],
             [
              0.2222222222222222,
              "#7201a8"
             ],
             [
              0.3333333333333333,
              "#9c179e"
             ],
             [
              0.4444444444444444,
              "#bd3786"
             ],
             [
              0.5555555555555556,
              "#d8576b"
             ],
             [
              0.6666666666666666,
              "#ed7953"
             ],
             [
              0.7777777777777778,
              "#fb9f3a"
             ],
             [
              0.8888888888888888,
              "#fdca26"
             ],
             [
              1,
              "#f0f921"
             ]
            ],
            "type": "heatmap"
           }
          ],
          "heatmapgl": [
           {
            "colorbar": {
             "outlinewidth": 0,
             "ticks": ""
            },
            "colorscale": [
             [
              0,
              "#0d0887"
             ],
             [
              0.1111111111111111,
              "#46039f"
             ],
             [
              0.2222222222222222,
              "#7201a8"
             ],
             [
              0.3333333333333333,
              "#9c179e"
             ],
             [
              0.4444444444444444,
              "#bd3786"
             ],
             [
              0.5555555555555556,
              "#d8576b"
             ],
             [
              0.6666666666666666,
              "#ed7953"
             ],
             [
              0.7777777777777778,
              "#fb9f3a"
             ],
             [
              0.8888888888888888,
              "#fdca26"
             ],
             [
              1,
              "#f0f921"
             ]
            ],
            "type": "heatmapgl"
           }
          ],
          "histogram": [
           {
            "marker": {
             "pattern": {
              "fillmode": "overlay",
              "size": 10,
              "solidity": 0.2
             }
            },
            "type": "histogram"
           }
          ],
          "histogram2d": [
           {
            "colorbar": {
             "outlinewidth": 0,
             "ticks": ""
            },
            "colorscale": [
             [
              0,
              "#0d0887"
             ],
             [
              0.1111111111111111,
              "#46039f"
             ],
             [
              0.2222222222222222,
              "#7201a8"
             ],
             [
              0.3333333333333333,
              "#9c179e"
             ],
             [
              0.4444444444444444,
              "#bd3786"
             ],
             [
              0.5555555555555556,
              "#d8576b"
             ],
             [
              0.6666666666666666,
              "#ed7953"
             ],
             [
              0.7777777777777778,
              "#fb9f3a"
             ],
             [
              0.8888888888888888,
              "#fdca26"
             ],
             [
              1,
              "#f0f921"
             ]
            ],
            "type": "histogram2d"
           }
          ],
          "histogram2dcontour": [
           {
            "colorbar": {
             "outlinewidth": 0,
             "ticks": ""
            },
            "colorscale": [
             [
              0,
              "#0d0887"
             ],
             [
              0.1111111111111111,
              "#46039f"
             ],
             [
              0.2222222222222222,
              "#7201a8"
             ],
             [
              0.3333333333333333,
              "#9c179e"
             ],
             [
              0.4444444444444444,
              "#bd3786"
             ],
             [
              0.5555555555555556,
              "#d8576b"
             ],
             [
              0.6666666666666666,
              "#ed7953"
             ],
             [
              0.7777777777777778,
              "#fb9f3a"
             ],
             [
              0.8888888888888888,
              "#fdca26"
             ],
             [
              1,
              "#f0f921"
             ]
            ],
            "type": "histogram2dcontour"
           }
          ],
          "mesh3d": [
           {
            "colorbar": {
             "outlinewidth": 0,
             "ticks": ""
            },
            "type": "mesh3d"
           }
          ],
          "parcoords": [
           {
            "line": {
             "colorbar": {
              "outlinewidth": 0,
              "ticks": ""
             }
            },
            "type": "parcoords"
           }
          ],
          "pie": [
           {
            "automargin": true,
            "type": "pie"
           }
          ],
          "scatter": [
           {
            "fillpattern": {
             "fillmode": "overlay",
             "size": 10,
             "solidity": 0.2
            },
            "type": "scatter"
           }
          ],
          "scatter3d": [
           {
            "line": {
             "colorbar": {
              "outlinewidth": 0,
              "ticks": ""
             }
            },
            "marker": {
             "colorbar": {
              "outlinewidth": 0,
              "ticks": ""
             }
            },
            "type": "scatter3d"
           }
          ],
          "scattercarpet": [
           {
            "marker": {
             "colorbar": {
              "outlinewidth": 0,
              "ticks": ""
             }
            },
            "type": "scattercarpet"
           }
          ],
          "scattergeo": [
           {
            "marker": {
             "colorbar": {
              "outlinewidth": 0,
              "ticks": ""
             }
            },
            "type": "scattergeo"
           }
          ],
          "scattergl": [
           {
            "marker": {
             "colorbar": {
              "outlinewidth": 0,
              "ticks": ""
             }
            },
            "type": "scattergl"
           }
          ],
          "scattermapbox": [
           {
            "marker": {
             "colorbar": {
              "outlinewidth": 0,
              "ticks": ""
             }
            },
            "type": "scattermapbox"
           }
          ],
          "scatterpolar": [
           {
            "marker": {
             "colorbar": {
              "outlinewidth": 0,
              "ticks": ""
             }
            },
            "type": "scatterpolar"
           }
          ],
          "scatterpolargl": [
           {
            "marker": {
             "colorbar": {
              "outlinewidth": 0,
              "ticks": ""
             }
            },
            "type": "scatterpolargl"
           }
          ],
          "scatterternary": [
           {
            "marker": {
             "colorbar": {
              "outlinewidth": 0,
              "ticks": ""
             }
            },
            "type": "scatterternary"
           }
          ],
          "surface": [
           {
            "colorbar": {
             "outlinewidth": 0,
             "ticks": ""
            },
            "colorscale": [
             [
              0,
              "#0d0887"
             ],
             [
              0.1111111111111111,
              "#46039f"
             ],
             [
              0.2222222222222222,
              "#7201a8"
             ],
             [
              0.3333333333333333,
              "#9c179e"
             ],
             [
              0.4444444444444444,
              "#bd3786"
             ],
             [
              0.5555555555555556,
              "#d8576b"
             ],
             [
              0.6666666666666666,
              "#ed7953"
             ],
             [
              0.7777777777777778,
              "#fb9f3a"
             ],
             [
              0.8888888888888888,
              "#fdca26"
             ],
             [
              1,
              "#f0f921"
             ]
            ],
            "type": "surface"
           }
          ],
          "table": [
           {
            "cells": {
             "fill": {
              "color": "#EBF0F8"
             },
             "line": {
              "color": "white"
             }
            },
            "header": {
             "fill": {
              "color": "#C8D4E3"
             },
             "line": {
              "color": "white"
             }
            },
            "type": "table"
           }
          ]
         },
         "layout": {
          "annotationdefaults": {
           "arrowcolor": "#2a3f5f",
           "arrowhead": 0,
           "arrowwidth": 1
          },
          "autotypenumbers": "strict",
          "coloraxis": {
           "colorbar": {
            "outlinewidth": 0,
            "ticks": ""
           }
          },
          "colorscale": {
           "diverging": [
            [
             0,
             "#8e0152"
            ],
            [
             0.1,
             "#c51b7d"
            ],
            [
             0.2,
             "#de77ae"
            ],
            [
             0.3,
             "#f1b6da"
            ],
            [
             0.4,
             "#fde0ef"
            ],
            [
             0.5,
             "#f7f7f7"
            ],
            [
             0.6,
             "#e6f5d0"
            ],
            [
             0.7,
             "#b8e186"
            ],
            [
             0.8,
             "#7fbc41"
            ],
            [
             0.9,
             "#4d9221"
            ],
            [
             1,
             "#276419"
            ]
           ],
           "sequential": [
            [
             0,
             "#0d0887"
            ],
            [
             0.1111111111111111,
             "#46039f"
            ],
            [
             0.2222222222222222,
             "#7201a8"
            ],
            [
             0.3333333333333333,
             "#9c179e"
            ],
            [
             0.4444444444444444,
             "#bd3786"
            ],
            [
             0.5555555555555556,
             "#d8576b"
            ],
            [
             0.6666666666666666,
             "#ed7953"
            ],
            [
             0.7777777777777778,
             "#fb9f3a"
            ],
            [
             0.8888888888888888,
             "#fdca26"
            ],
            [
             1,
             "#f0f921"
            ]
           ],
           "sequentialminus": [
            [
             0,
             "#0d0887"
            ],
            [
             0.1111111111111111,
             "#46039f"
            ],
            [
             0.2222222222222222,
             "#7201a8"
            ],
            [
             0.3333333333333333,
             "#9c179e"
            ],
            [
             0.4444444444444444,
             "#bd3786"
            ],
            [
             0.5555555555555556,
             "#d8576b"
            ],
            [
             0.6666666666666666,
             "#ed7953"
            ],
            [
             0.7777777777777778,
             "#fb9f3a"
            ],
            [
             0.8888888888888888,
             "#fdca26"
            ],
            [
             1,
             "#f0f921"
            ]
           ]
          },
          "colorway": [
           "#636efa",
           "#EF553B",
           "#00cc96",
           "#ab63fa",
           "#FFA15A",
           "#19d3f3",
           "#FF6692",
           "#B6E880",
           "#FF97FF",
           "#FECB52"
          ],
          "font": {
           "color": "#2a3f5f"
          },
          "geo": {
           "bgcolor": "white",
           "lakecolor": "white",
           "landcolor": "#E5ECF6",
           "showlakes": true,
           "showland": true,
           "subunitcolor": "white"
          },
          "hoverlabel": {
           "align": "left"
          },
          "hovermode": "closest",
          "mapbox": {
           "style": "light"
          },
          "paper_bgcolor": "white",
          "plot_bgcolor": "#E5ECF6",
          "polar": {
           "angularaxis": {
            "gridcolor": "white",
            "linecolor": "white",
            "ticks": ""
           },
           "bgcolor": "#E5ECF6",
           "radialaxis": {
            "gridcolor": "white",
            "linecolor": "white",
            "ticks": ""
           }
          },
          "scene": {
           "xaxis": {
            "backgroundcolor": "#E5ECF6",
            "gridcolor": "white",
            "gridwidth": 2,
            "linecolor": "white",
            "showbackground": true,
            "ticks": "",
            "zerolinecolor": "white"
           },
           "yaxis": {
            "backgroundcolor": "#E5ECF6",
            "gridcolor": "white",
            "gridwidth": 2,
            "linecolor": "white",
            "showbackground": true,
            "ticks": "",
            "zerolinecolor": "white"
           },
           "zaxis": {
            "backgroundcolor": "#E5ECF6",
            "gridcolor": "white",
            "gridwidth": 2,
            "linecolor": "white",
            "showbackground": true,
            "ticks": "",
            "zerolinecolor": "white"
           }
          },
          "shapedefaults": {
           "line": {
            "color": "#2a3f5f"
           }
          },
          "ternary": {
           "aaxis": {
            "gridcolor": "white",
            "linecolor": "white",
            "ticks": ""
           },
           "baxis": {
            "gridcolor": "white",
            "linecolor": "white",
            "ticks": ""
           },
           "bgcolor": "#E5ECF6",
           "caxis": {
            "gridcolor": "white",
            "linecolor": "white",
            "ticks": ""
           }
          },
          "title": {
           "x": 0.05
          },
          "xaxis": {
           "automargin": true,
           "gridcolor": "white",
           "linecolor": "white",
           "ticks": "",
           "title": {
            "standoff": 15
           },
           "zerolinecolor": "white",
           "zerolinewidth": 2
          },
          "yaxis": {
           "automargin": true,
           "gridcolor": "white",
           "linecolor": "white",
           "ticks": "",
           "title": {
            "standoff": 15
           },
           "zerolinecolor": "white",
           "zerolinewidth": 2
          }
         }
        }
       }
      },
      "image/png": "[encoded data removed]",
      "text/html": [
       "<div>                            <div id=\"c91a9740-a67a-48ee-8c80-7e03a80eadd1\" class=\"plotly-graph-div\" style=\"height:525px; width:100%;\"></div>            <script type=\"text/javascript\">                require([\"plotly\"], function(Plotly) {                    window.PLOTLYENV=window.PLOTLYENV || {};                                    if (document.getElementById(\"c91a9740-a67a-48ee-8c80-7e03a80eadd1\")) {                    Plotly.newPlot(                        \"c91a9740-a67a-48ee-8c80-7e03a80eadd1\",                        [{\"customdata\":[[9.0,9.0,1.0,\"China\",\"23.27\",\"116.52\",\"rhizosphere metagenome\"],[9.0,9.0,1.0,\"China\",\"23.27\",\"116.52\",\"rhizosphere metagenome\"],[9.0,9.0,1.0,\"China\",\"23.27\",\"116.52\",\"rhizosphere metagenome\"],[9.0,9.0,1.0,\"China\",\"23.27\",\"116.52\",\"rhizosphere metagenome\"],[9.0,9.0,1.0,\"China\",\"23.27\",\"116.52\",\"rhizosphere metagenome\"],[9.0,9.0,1.0,\"China\",\"23.27\",\"116.52\",\"rhizosphere metagenome\"],[9.0,9.0,1.0,\"China\",\"23.27\",\"116.52\",\"rhizosphere metagenome\"],[9.0,9.0,1.0,\"China\",\"23.27\",\"116.52\",\"rhizosphere metagenome\"],[9.0,9.0,1.0,\"China\",\"23.27\",\"116.52\",\"rhizosphere metagenome\"]],\"geo\":\"geo\",\"hovertemplate\":\"\\u003cb\\u003eLocation: %{hovertext}\\u003c\\u002fb\\u003e\\u003cbr\\u003eRuns Count: %{customdata[0]}\\u003cbr\\u003eSamples Count: %{customdata[1]}\\u003cbr\\u003eStudies Count: %{customdata[2]}\\u003cbr\\u003eCountry: %{customdata[3]}\\u003cextra\\u003e\\u003c\\u002fextra\\u003e\",\"hovertext\":[\"23.27 N 116.52 E\",\"23.27 N 116.52 E\",\"23.27 N 116.52 E\",\"23.27 N 116.52 E\",\"23.27 N 116.52 E\",\"23.27 N 116.52 E\",\"23.27 N 116.52 E\",\"23.27 N 116.52 E\",\"23.27 N 116.52 E\"],\"lat\":[\"23.27\",\"23.27\",\"23.27\",\"23.27\",\"23.27\",\"23.27\",\"23.27\",\"23.27\",\"23.27\"],\"legendgroup\":\"rhizosphere metagenome\",\"lon\":[\"116.52\",\"116.52\",\"116.52\",\"116.52\",\"116.52\",\"116.52\",\"116.52\",\"116.52\",\"116.52\"],\"marker\":{\"color\":\"#636efa\",\"size\":[9.0,9.0,9.0,9.0,9.0,9.0,9.0,9.0,9.0],\"sizemode\":\"area\",\"sizeref\":0.013888888888888888,\"symbol\":\"circle\"},\"mode\":\"markers\",\"name\":\"rhizosphere metagenome\",\"showlegend\":true,\"type\":\"scattergeo\"},{\"customdata\":[[50.0,50.0,1.0,\"China:Pearl River Estuary\",\"22.43\",\"113.64\",\"sediment metagenome\"],[50.0,50.0,1.0,\"China:Pearl River Estuary\",\"22.43\",\"113.64\",\"sediment metagenome\"],[50.0,50.0,1.0,\"China:Pearl River Estuary\",\"22.43\",\"113.64\",\"sediment metagenome\"],[50.0,50.0,1.0,\"China:Pearl River Estuary\",\"22.43\",\"113.64\",\"sediment metagenome\"],[50.0,50.0,1.0,\"China:Pearl River Estuary\",\"22.43\",\"113.64\",\"sediment metagenome\"],[50.0,50.0,1.0,\"China:Pearl River Estuary\",\"22.43\",\"113.64\",\"sediment metagenome\"],[50.0,50.0,1.0,\"China:Pearl River Estuary\",\"22.43\",\"113.64\",\"sediment metagenome\"],[50.0,50.0,1.0,\"China:Pearl River Estuary\",\"22.43\",\"113.64\",\"sediment metagenome\"],[50.0,50.0,1.0,\"China:Pearl River Estuary\",\"22.43\",\"113.64\",\"sediment metagenome\"],[50.0,50.0,1.0,\"China:Pearl River Estuary\",\"22.43\",\"113.64\",\"sediment metagenome\"],[2.0,1.0,2.0,\"China: Yunxiao\",\"23.55\",\"117.24\",\"sediment metagenome\"],[50.0,50.0,1.0,\"China:Pearl River Estuary\",\"22.43\",\"113.64\",\"sediment metagenome\"],[50.0,50.0,1.0,\"China:Pearl River Estuary\",\"22.43\",\"113.64\",\"sediment metagenome\"],[50.0,50.0,1.0,\"China:Pearl River Estuary\",\"22.43\",\"113.64\",\"sediment metagenome\"],[50.0,50.0,1.0,\"China:Pearl River Estuary\",\"22.43\",\"113.64\",\"sediment metagenome\"],[50.0,50.0,1.0,\"China:Pearl River Estuary\",\"22.43\",\"113.64\",\"sediment metagenome\"],[50.0,50.0,1.0,\"China:Pearl River Estuary\",\"22.43\",\"113.64\",\"sediment metagenome\"],[50.0,50.0,1.0,\"China:Pearl River Estuary\",\"22.43\",\"113.64\",\"sediment metagenome\"],[50.0,50.0,1.0,\"China:Pearl River Estuary\",\"22.43\",\"113.64\",\"sediment metagenome\"],[50.0,50.0,1.0,\"China:Pearl River Estuary\",\"22.43\",\"113.64\",\"sediment metagenome\"],[50.0,50.0,1.0,\"China:Pearl River Estuary\",\"22.43\",\"113.64\",\"sediment metagenome\"],[50.0,50.0,1.0,\"China:Pearl River Estuary\",\"22.43\",\"113.64\",\"sediment metagenome\"],[50.0,50.0,1.0,\"China:Pearl River Estuary\",\"22.43\",\"113.64\",\"sediment metagenome\"],[50.0,50.0,1.0,\"China:Pearl River Estuary\",\"22.43\",\"113.64\",\"sediment metagenome\"],[50.0,50.0,1.0,\"China:Pearl River Estuary\",\"22.43\",\"113.64\",\"sediment metagenome\"],[50.0,50.0,1.0,\"China:Pearl River Estuary\",\"22.43\",\"113.64\",\"sediment metagenome\"],[50.0,50.0,1.0,\"China:Pearl River Estuary\",\"22.43\",\"113.64\",\"sediment metagenome\"],[50.0,50.0,1.0,\"China:Pearl River Estuary\",\"22.43\",\"113.64\",\"sediment metagenome\"],[2.0,1.0,2.0,\"China: Yunxiao\",\"23.55\",\"117.24\",\"sediment metagenome\"],[50.0,50.0,1.0,\"China:Pearl River Estuary\",\"22.43\",\"113.64\",\"sediment metagenome\"],[50.0,50.0,1.0,\"China:Pearl River Estuary\",\"22.43\",\"113.64\",\"sediment metagenome\"],[50.0,50.0,1.0,\"China:Pearl River Estuary\",\"22.43\",\"113.64\",\"sediment metagenome\"],[50.0,50.0,1.0,\"China:Pearl River Estuary\",\"22.43\",\"113.64\",\"sediment metagenome\"],[50.0,50.0,1.0,\"China:Pearl River Estuary\",\"22.43\",\"113.64\",\"sediment metagenome\"],[50.0,50.0,1.0,\"China:Pearl River Estuary\",\"22.43\",\"113.64\",\"sediment metagenome\"],[50.0,50.0,1.0,\"China:Pearl River Estuary\",\"22.43\",\"113.64\",\"sediment metagenome\"],[50.0,50.0,1.0,\"China:Pearl River Estuary\",\"22.43\",\"113.64\",\"sediment metagenome\"],[50.0,50.0,1.0,\"China:Pearl River Estuary\",\"22.43\",\"113.64\",\"sediment metagenome\"],[50.0,50.0,1.0,\"China:Pearl River Estuary\",\"22.43\",\"113.64\",\"sediment metagenome\"],[50.0,50.0,1.0,\"China:Pearl River Estuary\",\"22.43\",\"113.64\",\"sediment metagenome\"],[50.0,50.0,1.0,\"China:Pearl River Estuary\",\"22.43\",\"113.64\",\"sediment metagenome\"],[50.0,50.0,1.0,\"China:Pearl River Estuary\",\"22.43\",\"113.64\",\"sediment metagenome\"],[50.0,50.0,1.0,\"China:Pearl River Estuary\",\"22.43\",\"113.64\",\"sediment metagenome\"],[50.0,50.0,1.0,\"China:Pearl River Estuary\",\"22.43\",\"113.64\",\"sediment metagenome\"],[50.0,50.0,1.0,\"China:Pearl River Estuary\",\"22.43\",\"113.64\",\"sediment metagenome\"],[50.0,50.0,1.0,\"China:Pearl River Estuary\",\"22.43\",\"113.64\",\"sediment metagenome\"],[50.0,50.0,1.0,\"China:Pearl River Estuary\",\"22.43\",\"113.64\",\"sediment metagenome\"],[50.0,50.0,1.0,\"China:Pearl River Estuary\",\"22.43\",\"113.64\",\"sediment metagenome\"],[50.0,50.0,1.0,\"China:Pearl River Estuary\",\"22.43\",\"113.64\",\"sediment metagenome\"],[50.0,50.0,1.0,\"China:Pearl River Estuary\",\"22.43\",\"113.64\",\"sediment metagenome\"],[50.0,50.0,1.0,\"China:Pearl River Estuary\",\"22.43\",\"113.64\",\"sediment metagenome\"],[50.0,50.0,1.0,\"China:Pearl River Estuary\",\"22.43\",\"113.64\",\"sediment metagenome\"]],\"geo\":\"geo\",\"hovertemplate\":\"\\u003cb\\u003eLocation: %{hovertext}\\u003c\\u002fb\\u003e\\u003cbr\\u003eRuns Count: %{customdata[0]}\\u003cbr\\u003eSamples Count: %{customdata[1]}\\u003cbr\\u003eStudies Count: %{customdata[2]}\\u003cbr\\u003eCountry: %{customdata[3]}\\u003cextra\\u003e\\u003c\\u002fextra\\u003e\",\"hovertext\":[\"22.43 N 113.64 E\",\"22.43 N 113.64 E\",\"22.43 N 113.64 E\",\"22.43 N 113.64 E\",\"22.43 N 113.64 E\",\"22.43 N 113.64 E\",\"22.43 N 113.64 E\",\"22.43 N 113.64 E\",\"22.43 N 113.64 E\",\"22.43 N 113.64 E\",\"23.55 N 117.24 E\",\"22.43 N 113.64 E\",\"22.43 N 113.64 E\",\"22.43 N 113.64 E\",\"22.43 N 113.64 E\",\"22.43 N 113.64 E\",\"22.43 N 113.64 E\",\"22.43 N 113.64 E\",\"22.43 N 113.64 E\",\"22.43 N 113.64 E\",\"22.43 N 113.64 E\",\"22.43 N 113.64 E\",\"22.43 N 113.64 E\",\"22.43 N 113.64 E\",\"22.43 N 113.64 E\",\"22.43 N 113.64 E\",\"22.43 N 113.64 E\",\"22.43 N 113.64 E\",\"23.55 N 117.24 E\",\"22.43 N 113.64 E\",\"22.43 N 113.64 E\",\"22.43 N 113.64 E\",\"22.43 N 113.64 E\",\"22.43 N 113.64 E\",\"22.43 N 113.64 E\",\"22.43 N 113.64 E\",\"22.43 N 113.64 E\",\"22.43 N 113.64 E\",\"22.43 N 113.64 E\",\"22.43 N 113.64 E\",\"22.43 N 113.64 E\",\"22.43 N 113.64 E\",\"22.43 N 113.64 E\",\"22.43 N 113.64 E\",\"22.43 N 113.64 E\",\"22.43 N 113.64 E\",\"22.43 N 113.64 E\",\"22.43 N 113.64 E\",\"22.43 N 113.64 E\",\"22.43 N 113.64 E\",\"22.43 N 113.64 E\",\"22.43 N 113.64 E\"],\"lat\":[\"22.43\",\"22.43\",\"22.43\",\"22.43\",\"22.43\",\"22.43\",\"22.43\",\"22.43\",\"22.43\",\"22.43\",\"23.55\",\"22.43\",\"22.43\",\"22.43\",\"22.43\",\"22.43\",\"22.43\",\"22.43\",\"22.43\",\"22.43\",\"22.43\",\"22.43\",\"22.43\",\"22.43\",\"22.43\",\"22.43\",\"22.43\",\"22.43\",\"23.55\",\"22.43\",\"22.43\",\"22.43\",\"22.43\",\"22.43\",\"22.43\",\"22.43\",\"22.43\",\"22.43\",\"22.43\",\"22.43\",\"22.43\",\"22.43\",\"22.43\",\"22.43\",\"22.43\",\"22.43\",\"22.43\",\"22.43\",\"22.43\",\"22.43\",\"22.43\",\"22.43\"],\"legendgroup\":\"sediment metagenome\",\"lon\":[\"113.64\",\"113.64\",\"113.64\",\"113.64\",\"113.64\",\"113.64\",\"113.64\",\"113.64\",\"113.64\",\"113.64\",\"117.24\",\"113.64\",\"113.64\",\"113.64\",\"113.64\",\"113.64\",\"113.64\",\"113.64\",\"113.64\",\"113.64\",\"113.64\",\"113.64\",\"113.64\",\"113.64\",\"113.64\",\"113.64\",\"113.64\",\"113.64\",\"117.24\",\"113.64\",\"113.64\",\"113.64\",\"113.64\",\"113.64\",\"113.64\",\"113.64\",\"113.64\",\"113.64\",\"113.64\",\"113.64\",\"113.64\",\"113.64\",\"113.64\",\"113.64\",\"113.64\",\"113.64\",\"113.64\",\"113.64\",\"113.64\",\"113.64\",\"113.64\",\"113.64\"],\"marker\":{\"color\":\"#EF553B\",\"size\":[50.0,50.0,50.0,50.0,50.0,50.0,50.0,50.0,50.0,50.0,2.0,50.0,50.0,50.0,50.0,50.0,50.0,50.0,50.0,50.0,50.0,50.0,50.0,50.0,50.0,50.0,50.0,50.0,2.0,50.0,50.0,50.0,50.0,50.0,50.0,50.0,50.0,50.0,50.0,50.0,50.0,50.0,50.0,50.0,50.0,50.0,50.0,50.0,50.0,50.0,50.0,50.0],\"sizemode\":\"area\",\"sizeref\":0.013888888888888888,\"symbol\":\"circle\"},\"mode\":\"markers\",\"name\":\"sediment metagenome\",\"showlegend\":true,\"type\":\"scattergeo\"},{\"customdata\":[[1.0,1.0,1.0,\"India: Bhitarkanika mangrove forest, Odisha\",\"20.6528\",\"86.8503\",\"soil metagenome\"],[1.0,1.0,1.0,\"India: Bhitarkanika mangrove forest, Odisha\",\"20.732\",\"86.8726\",\"soil metagenome\"],[1.0,1.0,1.0,\"India: Bhitarkanika mangrove forest, Odisha\",\"20.6849\",\"86.9859\",\"soil metagenome\"],[1.0,1.0,1.0,\"India: Bhitarkanika mangrove forest, Odisha\",\"20.663\",\"86.8594\",\"soil metagenome\"],[1.0,1.0,1.0,\"India: Bhitarkanika mangrove forest, Odisha\",\"20.7325\",\"86.8712\",\"soil metagenome\"],[1.0,1.0,1.0,\"India: Bhitarkanika mangrove forest, Odisha\",\"20.68\",\"86.9878\",\"soil metagenome\"],[1.0,1.0,1.0,\"India: Bhitarkanika mangrove forest, Odisha\",\"20.7744\",\"86.9268\",\"soil metagenome\"],[1.0,1.0,1.0,\"India: Bhitarkanika mangrove forest, Odisha\",\"20.775\",\"86.9253\",\"soil metagenome\"]],\"geo\":\"geo\",\"hovertemplate\":\"\\u003cb\\u003eLocation: %{hovertext}\\u003c\\u002fb\\u003e\\u003cbr\\u003eRuns Count: %{customdata[0]}\\u003cbr\\u003eSamples Count: %{customdata[1]}\\u003cbr\\u003eStudies Count: %{customdata[2]}\\u003cbr\\u003eCountry: %{customdata[3]}\\u003cextra\\u003e\\u003c\\u002fextra\\u003e\",\"hovertext\":[\"20.6528 N 86.8503 E\",\"20.732 N 86.8726 E\",\"20.6849 N 86.9859 E\",\"20.663 N 86.8594 E\",\"20.7325 N 86.8712 E\",\"20.68 N 86.9878 E\",\"20.7744 N 86.9268 E\",\"20.775 N 86.9253 E\"],\"lat\":[\"20.6528\",\"20.732\",\"20.6849\",\"20.663\",\"20.7325\",\"20.68\",\"20.7744\",\"20.775\"],\"legendgroup\":\"soil metagenome\",\"lon\":[\"86.8503\",\"86.8726\",\"86.9859\",\"86.8594\",\"86.8712\",\"86.9878\",\"86.9268\",\"86.9253\"],\"marker\":{\"color\":\"#00cc96\",\"size\":[1.0,1.0,1.0,1.0,1.0,1.0,1.0,1.0],\"sizemode\":\"area\",\"sizeref\":0.013888888888888888,\"symbol\":\"circle\"},\"mode\":\"markers\",\"name\":\"soil metagenome\",\"showlegend\":true,\"type\":\"scattergeo\"},{\"customdata\":[[2.0,2.0,2.0,\"USA: Texas\",\"27.8977\",\"-97.0387\",\"wetland metagenome\"],[2.0,2.0,2.0,\"USA: Texas\",\"27.8977\",\"-97.0387\",\"wetland metagenome\"]],\"geo\":\"geo\",\"hovertemplate\":\"\\u003cb\\u003eLocation: %{hovertext}\\u003c\\u002fb\\u003e\\u003cbr\\u003eRuns Count: %{customdata[0]}\\u003cbr\\u003eSamples Count: %{customdata[1]}\\u003cbr\\u003eStudies Count: %{customdata[2]}\\u003cbr\\u003eCountry: %{customdata[3]}\\u003cextra\\u003e\\u003c\\u002fextra\\u003e\",\"hovertext\":[\"27.8977 N 97.0387 W\",\"27.8977 N 97.0387 W\"],\"lat\":[\"27.8977\",\"27.8977\"],\"legendgroup\":\"wetland metagenome\",\"lon\":[\"-97.0387\",\"-97.0387\"],\"marker\":{\"color\":\"#ab63fa\",\"size\":[2.0,2.0],\"sizemode\":\"area\",\"sizeref\":0.013888888888888888,\"symbol\":\"circle\"},\"mode\":\"markers\",\"name\":\"wetland metagenome\",\"showlegend\":true,\"type\":\"scattergeo\"}],                        {\"template\":{\"data\":{\"histogram2dcontour\":[{\"type\":\"histogram2dcontour\",\"colorbar\":{\"outlinewidth\":0,\"ticks\":\"\"},\"colorscale\":[[0.0,\"#0d0887\"],[0.1111111111111111,\"#46039f\"],[0.2222222222222222,\"#7201a8\"],[0.3333333333333333,\"#9c179e\"],[0.4444444444444444,\"#bd3786\"],[0.5555555555555556,\"#d8576b\"],[0.6666666666666666,\"#ed7953\"],[0.7777777777777778,\"#fb9f3a\"],[0.8888888888888888,\"#fdca26\"],[1.0,\"#f0f921\"]]}],\"choropleth\":[{\"type\":\"choropleth\",\"colorbar\":{\"outlinewidth\":0,\"ticks\":\"\"}}],\"histogram2d\":[{\"type\":\"histogram2d\",\"colorbar\":{\"outlinewidth\":0,\"ticks\":\"\"},\"colorscale\":[[0.0,\"#0d0887\"],[0.1111111111111111,\"#46039f\"],[0.2222222222222222,\"#7201a8\"],[0.3333333333333333,\"#9c179e\"],[0.4444444444444444,\"#bd3786\"],[0.5555555555555556,\"#d8576b\"],[0.6666666666666666,\"#ed7953\"],[0.7777777777777778,\"#fb9f3a\"],[0.8888888888888888,\"#fdca26\"],[1.0,\"#f0f921\"]]}],\"heatmap\":[{\"type\":\"heatmap\",\"colorbar\":{\"outlinewidth\":0,\"ticks\":\"\"},\"colorscale\":[[0.0,\"#0d0887\"],[0.1111111111111111,\"#46039f\"],[0.2222222222222222,\"#7201a8\"],[0.3333333333333333,\"#9c179e\"],[0.4444444444444444,\"#bd3786\"],[0.5555555555555556,\"#d8576b\"],[0.6666666666666666,\"#ed7953\"],[0.7777777777777778,\"#fb9f3a\"],[0.8888888888888888,\"#fdca26\"],[1.0,\"#f0f921\"]]}],\"heatmapgl\":[{\"type\":\"heatmapgl\",\"colorbar\":{\"outlinewidth\":0,\"ticks\":\"\"},\"colorscale\":[[0.0,\"#0d0887\"],[0.1111111111111111,\"#46039f\"],[0.2222222222222222,\"#7201a8\"],[0.3333333333333333,\"#9c179e\"],[0.4444444444444444,\"#bd3786\"],[0.5555555555555556,\"#d8576b\"],[0.6666666666666666,\"#ed7953\"],[0.7777777777777778,\"#fb9f3a\"],[0.8888888888888888,\"#fdca26\"],[1.0,\"#f0f921\"]]}],\"contourcarpet\":[{\"type\":\"contourcarpet\",\"colorbar\":{\"outlinewidth\":0,\"ticks\":\"\"}}],\"contour\":[{\"type\":\"contour\",\"colorbar\":{\"outlinewidth\":0,\"ticks\":\"\"},\"colorscale\":[[0.0,\"#0d0887\"],[0.1111111111111111,\"#46039f\"],[0.2222222222222222,\"#7201a8\"],[0.3333333333333333,\"#9c179e\"],[0.4444444444444444,\"#bd3786\"],[0.5555555555555556,\"#d8576b\"],[0.6666666666666666,\"#ed7953\"],[0.7777777777777778,\"#fb9f3a\"],[0.8888888888888888,\"#fdca26\"],[1.0,\"#f0f921\"]]}],\"surface\":[{\"type\":\"surface\",\"colorbar\":{\"outlinewidth\":0,\"ticks\":\"\"},\"colorscale\":[[0.0,\"#0d0887\"],[0.1111111111111111,\"#46039f\"],[0.2222222222222222,\"#7201a8\"],[0.3333333333333333,\"#9c179e\"],[0.4444444444444444,\"#bd3786\"],[0.5555555555555556,\"#d8576b\"],[0.6666666666666666,\"#ed7953\"],[0.7777777777777778,\"#fb9f3a\"],[0.8888888888888888,\"#fdca26\"],[1.0,\"#f0f921\"]]}],\"mesh3d\":[{\"type\":\"mesh3d\",\"colorbar\":{\"outlinewidth\":0,\"ticks\":\"\"}}],\"scatter\":[{\"fillpattern\":{\"fillmode\":\"overlay\",\"size\":10,\"solidity\":0.2},\"type\":\"scatter\"}],\"parcoords\":[{\"type\":\"parcoords\",\"line\":{\"colorbar\":{\"outlinewidth\":0,\"ticks\":\"\"}}}],\"scatterpolargl\":[{\"type\":\"scatterpolargl\",\"marker\":{\"colorbar\":{\"outlinewidth\":0,\"ticks\":\"\"}}}],\"bar\":[{\"error_x\":{\"color\":\"#2a3f5f\"},\"error_y\":{\"color\":\"#2a3f5f\"},\"marker\":{\"line\":{\"color\":\"#E5ECF6\",\"width\":0.5},\"pattern\":{\"fillmode\":\"overlay\",\"size\":10,\"solidity\":0.2}},\"type\":\"bar\"}],\"scattergeo\":[{\"type\":\"scattergeo\",\"marker\":{\"colorbar\":{\"outlinewidth\":0,\"ticks\":\"\"}}}],\"scatterpolar\":[{\"type\":\"scatterpolar\",\"marker\":{\"colorbar\":{\"outlinewidth\":0,\"ticks\":\"\"}}}],\"histogram\":[{\"marker\":{\"pattern\":{\"fillmode\":\"overlay\",\"size\":10,\"solidity\":0.2}},\"type\":\"histogram\"}],\"scattergl\":[{\"type\":\"scattergl\",\"marker\":{\"colorbar\":{\"outlinewidth\":0,\"ticks\":\"\"}}}],\"scatter3d\":[{\"type\":\"scatter3d\",\"line\":{\"colorbar\":{\"outlinewidth\":0,\"ticks\":\"\"}},\"marker\":{\"colorbar\":{\"outlinewidth\":0,\"ticks\":\"\"}}}],\"scattermapbox\":[{\"type\":\"scattermapbox\",\"marker\":{\"colorbar\":{\"outlinewidth\":0,\"ticks\":\"\"}}}],\"scatterternary\":[{\"type\":\"scatterternary\",\"marker\":{\"colorbar\":{\"outlinewidth\":0,\"ticks\":\"\"}}}],\"scattercarpet\":[{\"type\":\"scattercarpet\",\"marker\":{\"colorbar\":{\"outlinewidth\":0,\"ticks\":\"\"}}}],\"carpet\":[{\"aaxis\":{\"endlinecolor\":\"#2a3f5f\",\"gridcolor\":\"white\",\"linecolor\":\"white\",\"minorgridcolor\":\"white\",\"startlinecolor\":\"#2a3f5f\"},\"baxis\":{\"endlinecolor\":\"#2a3f5f\",\"gridcolor\":\"white\",\"linecolor\":\"white\",\"minorgridcolor\":\"white\",\"startlinecolor\":\"#2a3f5f\"},\"type\":\"carpet\"}],\"table\":[{\"cells\":{\"fill\":{\"color\":\"#EBF0F8\"},\"line\":{\"color\":\"white\"}},\"header\":{\"fill\":{\"color\":\"#C8D4E3\"},\"line\":{\"color\":\"white\"}},\"type\":\"table\"}],\"barpolar\":[{\"marker\":{\"line\":{\"color\":\"#E5ECF6\",\"width\":0.5},\"pattern\":{\"fillmode\":\"overlay\",\"size\":10,\"solidity\":0.2}},\"type\":\"barpolar\"}],\"pie\":[{\"automargin\":true,\"type\":\"pie\"}]},\"layout\":{\"autotypenumbers\":\"strict\",\"colorway\":[\"#636efa\",\"#EF553B\",\"#00cc96\",\"#ab63fa\",\"#FFA15A\",\"#19d3f3\",\"#FF6692\",\"#B6E880\",\"#FF97FF\",\"#FECB52\"],\"font\":{\"color\":\"#2a3f5f\"},\"hovermode\":\"closest\",\"hoverlabel\":{\"align\":\"left\"},\"paper_bgcolor\":\"white\",\"plot_bgcolor\":\"#E5ECF6\",\"polar\":{\"bgcolor\":\"#E5ECF6\",\"angularaxis\":{\"gridcolor\":\"white\",\"linecolor\":\"white\",\"ticks\":\"\"},\"radialaxis\":{\"gridcolor\":\"white\",\"linecolor\":\"white\",\"ticks\":\"\"}},\"ternary\":{\"bgcolor\":\"#E5ECF6\",\"aaxis\":{\"gridcolor\":\"white\",\"linecolor\":\"white\",\"ticks\":\"\"},\"baxis\":{\"gridcolor\":\"white\",\"linecolor\":\"white\",\"ticks\":\"\"},\"caxis\":{\"gridcolor\":\"white\",\"linecolor\":\"white\",\"ticks\":\"\"}},\"coloraxis\":{\"colorbar\":{\"outlinewidth\":0,\"ticks\":\"\"}},\"colorscale\":{\"sequential\":[[0.0,\"#0d0887\"],[0.1111111111111111,\"#46039f\"],[0.2222222222222222,\"#7201a8\"],[0.3333333333333333,\"#9c179e\"],[0.4444444444444444,\"#bd3786\"],[0.5555555555555556,\"#d8576b\"],[0.6666666666666666,\"#ed7953\"],[0.7777777777777778,\"#fb9f3a\"],[0.8888888888888888,\"#fdca26\"],[1.0,\"#f0f921\"]],\"sequentialminus\":[[0.0,\"#0d0887\"],[0.1111111111111111,\"#46039f\"],[0.2222222222222222,\"#7201a8\"],[0.3333333333333333,\"#9c179e\"],[0.4444444444444444,\"#bd3786\"],[0.5555555555555556,\"#d8576b\"],[0.6666666666666666,\"#ed7953\"],[0.7777777777777778,\"#fb9f3a\"],[0.8888888888888888,\"#fdca26\"],[1.0,\"#f0f921\"]],\"diverging\":[[0,\"#8e0152\"],[0.1,\"#c51b7d\"],[0.2,\"#de77ae\"],[0.3,\"#f1b6da\"],[0.4,\"#fde0ef\"],[0.5,\"#f7f7f7\"],[0.6,\"#e6f5d0\"],[0.7,\"#b8e186\"],[0.8,\"#7fbc41\"],[0.9,\"#4d9221\"],[1,\"#276419\"]]},\"xaxis\":{\"gridcolor\":\"white\",\"linecolor\":\"white\",\"ticks\":\"\",\"title\":{\"standoff\":15},\"zerolinecolor\":\"white\",\"automargin\":true,\"zerolinewidth\":2},\"yaxis\":{\"gridcolor\":\"white\",\"linecolor\":\"white\",\"ticks\":\"\",\"title\":{\"standoff\":15},\"zerolinecolor\":\"white\",\"automargin\":true,\"zerolinewidth\":2},\"scene\":{\"xaxis\":{\"backgroundcolor\":\"#E5ECF6\",\"gridcolor\":\"white\",\"linecolor\":\"white\",\"showbackground\":true,\"ticks\":\"\",\"zerolinecolor\":\"white\",\"gridwidth\":2},\"yaxis\":{\"backgroundcolor\":\"#E5ECF6\",\"gridcolor\":\"white\",\"linecolor\":\"white\",\"showbackground\":true,\"ticks\":\"\",\"zerolinecolor\":\"white\",\"gridwidth\":2},\"zaxis\":{\"backgroundcolor\":\"#E5ECF6\",\"gridcolor\":\"white\",\"linecolor\":\"white\",\"showbackground\":true,\"ticks\":\"\",\"zerolinecolor\":\"white\",\"gridwidth\":2}},\"shapedefaults\":{\"line\":{\"color\":\"#2a3f5f\"}},\"annotationdefaults\":{\"arrowcolor\":\"#2a3f5f\",\"arrowhead\":0,\"arrowwidth\":1},\"geo\":{\"bgcolor\":\"white\",\"landcolor\":\"#E5ECF6\",\"subunitcolor\":\"white\",\"showland\":true,\"showlakes\":true,\"lakecolor\":\"white\"},\"title\":{\"x\":0.05},\"mapbox\":{\"style\":\"light\"}}},\"geo\":{\"domain\":{\"x\":[0.0,1.0],\"y\":[0.0,1.0]},\"center\":{}},\"legend\":{\"title\":{\"text\":\"Mangrove Habitats\"},\"tracegroupgap\":0,\"itemsizing\":\"constant\",\"font\":{\"size\":12},\"bgcolor\":\"rgba(255, 255, 255, 0.5)\",\"bordercolor\":\"black\",\"borderwidth\":1,\"orientation\":\"h\",\"yanchor\":\"top\",\"y\":-0.2,\"xanchor\":\"center\",\"x\":0.5},\"margin\":{\"t\":60}},                        {\"responsive\": true}                    ).then(function(){\n",
       "                            \n",
       "var gd = document.getElementById('c91a9740-a67a-48ee-8c80-7e03a80eadd1');\n",
       "var x = new MutationObserver(function (mutations, observer) {{\n",
       "        var display = window.getComputedStyle(gd).display;\n",
       "        if (!display || display === 'none') {{\n",
       "            console.log([gd, 'removed!']);\n",
       "            Plotly.purge(gd);\n",
       "            observer.disconnect();\n",
       "        }}\n",
       "}});\n",
       "\n",
       "// Listen for the removal of the full notebook cells\n",
       "var notebookContainer = gd.closest('#notebook-container');\n",
       "if (notebookContainer) {{\n",
       "    x.observe(notebookContainer, {childList: true});\n",
       "}}\n",
       "\n",
       "// Listen for the clearing of the current output cell\n",
       "var outputEl = gd.closest('.output');\n",
       "if (outputEl) {{\n",
       "    x.observe(outputEl, {childList: true});\n",
       "}}\n",
       "\n",
       "                        })                };                });            </script>        </div>"
      ]
     },
     "metadata": {},
     "output_type": "display_data"
    }
   ],
   "source": [
    " # @title Scatter Geo Plot :\n",
    "\n",
    "  # Create a scatter_geo plot\n",
    "fig = px.scatter_geo(df_scatter_geo,\n",
    "                     lat='lat',\n",
    "                     lon='lon',\n",
    "                     color='scientific_name_labels',\n",
    "                     hover_name='location',\n",
    "                     hover_data={'runs_count': True,\n",
    "                                 'samples_count': True,\n",
    "                                 'studies_count': True,\n",
    "                                 'country': True,\n",
    "                                 'lat': False, 'lon': False,  # Hide lat and lon from hover\n",
    "                                 'scientific_name_labels': False},\n",
    "                     size='runs_count',\n",
    "                     size_max=60)\n",
    "\n",
    "  # Customize hovertemplate\n",
    "fig.update_traces(hovertemplate=\"<b>Location: %{hovertext}</b><br>\"\n",
    "                                \"Runs Count: %{customdata[0]}<br>\"\n",
    "                                \"Samples Count: %{customdata[1]}<br>\"\n",
    "                                \"Studies Count: %{customdata[2]}<br>\"\n",
    "                                \"Country: %{customdata[3]}<extra></extra>\")\n",
    "  # Customize legend\n",
    "fig.update_layout( legend=dict(\n",
    "        title=\"Mangrove Habitats\",  # Change the title of the legend\n",
    "        bgcolor='rgba(255, 255, 255, 0.5)',  # Change background color and transparency\n",
    "        bordercolor='black',  # Change border color\n",
    "        borderwidth=1,        # Change border width\n",
    "        font=dict(size=12),\n",
    "        orientation=\"h\",      # Set the orientation of the legend to horizontal\n",
    "        yanchor=\"top\",        # Anchor the legend to the top\n",
    "        y=-0.2,               # Position the legend below the plot\n",
    "        xanchor=\"center\",     # Anchor the legend to the center horizontally\n",
    "        x=0.5                 # Position the legend in the middle of the plot\n",
    "    ))\n",
    "\n",
    "  # Display the scatter_geo plot\n",
    "fig.show()"
   ]
  },
  {
   "cell_type": "code",
   "execution_count": 443,
   "metadata": {},
   "outputs": [
    {
     "data": {
      "application/vnd.plotly.v1+json": {
       "config": {
        "plotlyServerURL": "https://plot.ly"
       },
       "data": [
        {
         "customdata": [
          [
           "rhizosphere metagenome",
           9,
           9,
           1,
           "China",
           "23.27",
           "116.52"
          ],
          [
           "rhizosphere metagenome",
           9,
           9,
           1,
           "China",
           "23.27",
           "116.52"
          ],
          [
           "sediment metagenome",
           50,
           50,
           1,
           "China:Pearl River Estuary",
           "22.43",
           "113.64"
          ],
          [
           "sediment metagenome",
           50,
           50,
           1,
           "China:Pearl River Estuary",
           "22.43",
           "113.64"
          ],
          [
           "sediment metagenome",
           50,
           50,
           1,
           "China:Pearl River Estuary",
           "22.43",
           "113.64"
          ],
          [
           "sediment metagenome",
           50,
           50,
           1,
           "China:Pearl River Estuary",
           "22.43",
           "113.64"
          ],
          [
           "sediment metagenome",
           50,
           50,
           1,
           "China:Pearl River Estuary",
           "22.43",
           "113.64"
          ],
          [
           "sediment metagenome",
           50,
           50,
           1,
           "China:Pearl River Estuary",
           "22.43",
           "113.64"
          ],
          [
           "sediment metagenome",
           50,
           50,
           1,
           "China:Pearl River Estuary",
           "22.43",
           "113.64"
          ],
          [
           "sediment metagenome",
           50,
           50,
           1,
           "China:Pearl River Estuary",
           "22.43",
           "113.64"
          ],
          [
           "sediment metagenome",
           50,
           50,
           1,
           "China:Pearl River Estuary",
           "22.43",
           "113.64"
          ],
          [
           "sediment metagenome",
           50,
           50,
           1,
           "China:Pearl River Estuary",
           "22.43",
           "113.64"
          ],
          [
           "sediment metagenome",
           2,
           1,
           2,
           "China: Yunxiao",
           "23.55",
           "117.24"
          ],
          [
           "soil metagenome",
           1,
           1,
           1,
           "India: Bhitarkanika mangrove forest, Odisha",
           "20.6528",
           "86.8503"
          ],
          [
           "soil metagenome",
           1,
           1,
           1,
           "India: Bhitarkanika mangrove forest, Odisha",
           "20.732",
           "86.8726"
          ],
          [
           "rhizosphere metagenome",
           9,
           9,
           1,
           "China",
           "23.27",
           "116.52"
          ],
          [
           "rhizosphere metagenome",
           9,
           9,
           1,
           "China",
           "23.27",
           "116.52"
          ],
          [
           "rhizosphere metagenome",
           9,
           9,
           1,
           "China",
           "23.27",
           "116.52"
          ],
          [
           "rhizosphere metagenome",
           9,
           9,
           1,
           "China",
           "23.27",
           "116.52"
          ],
          [
           "rhizosphere metagenome",
           9,
           9,
           1,
           "China",
           "23.27",
           "116.52"
          ],
          [
           "sediment metagenome",
           50,
           50,
           1,
           "China:Pearl River Estuary",
           "22.43",
           "113.64"
          ],
          [
           "sediment metagenome",
           50,
           50,
           1,
           "China:Pearl River Estuary",
           "22.43",
           "113.64"
          ],
          [
           "sediment metagenome",
           50,
           50,
           1,
           "China:Pearl River Estuary",
           "22.43",
           "113.64"
          ],
          [
           "sediment metagenome",
           50,
           50,
           1,
           "China:Pearl River Estuary",
           "22.43",
           "113.64"
          ],
          [
           "sediment metagenome",
           50,
           50,
           1,
           "China:Pearl River Estuary",
           "22.43",
           "113.64"
          ],
          [
           "sediment metagenome",
           50,
           50,
           1,
           "China:Pearl River Estuary",
           "22.43",
           "113.64"
          ],
          [
           "sediment metagenome",
           50,
           50,
           1,
           "China:Pearl River Estuary",
           "22.43",
           "113.64"
          ],
          [
           "sediment metagenome",
           50,
           50,
           1,
           "China:Pearl River Estuary",
           "22.43",
           "113.64"
          ],
          [
           "sediment metagenome",
           50,
           50,
           1,
           "China:Pearl River Estuary",
           "22.43",
           "113.64"
          ],
          [
           "sediment metagenome",
           50,
           50,
           1,
           "China:Pearl River Estuary",
           "22.43",
           "113.64"
          ],
          [
           "sediment metagenome",
           50,
           50,
           1,
           "China:Pearl River Estuary",
           "22.43",
           "113.64"
          ],
          [
           "sediment metagenome",
           50,
           50,
           1,
           "China:Pearl River Estuary",
           "22.43",
           "113.64"
          ],
          [
           "sediment metagenome",
           50,
           50,
           1,
           "China:Pearl River Estuary",
           "22.43",
           "113.64"
          ],
          [
           "sediment metagenome",
           50,
           50,
           1,
           "China:Pearl River Estuary",
           "22.43",
           "113.64"
          ],
          [
           "sediment metagenome",
           50,
           50,
           1,
           "China:Pearl River Estuary",
           "22.43",
           "113.64"
          ],
          [
           "sediment metagenome",
           50,
           50,
           1,
           "China:Pearl River Estuary",
           "22.43",
           "113.64"
          ],
          [
           "sediment metagenome",
           50,
           50,
           1,
           "China:Pearl River Estuary",
           "22.43",
           "113.64"
          ],
          [
           "sediment metagenome",
           2,
           1,
           2,
           "China: Yunxiao",
           "23.55",
           "117.24"
          ],
          [
           "wetland metagenome",
           2,
           2,
           2,
           "USA: Texas",
           "27.8977",
           "-97.0387"
          ],
          [
           "soil metagenome",
           1,
           1,
           1,
           "India: Bhitarkanika mangrove forest, Odisha",
           "20.6849",
           "86.9859"
          ],
          [
           "soil metagenome",
           1,
           1,
           1,
           "India: Bhitarkanika mangrove forest, Odisha",
           "20.663",
           "86.8594"
          ],
          [
           "soil metagenome",
           1,
           1,
           1,
           "India: Bhitarkanika mangrove forest, Odisha",
           "20.7325",
           "86.8712"
          ],
          [
           "soil metagenome",
           1,
           1,
           1,
           "India: Bhitarkanika mangrove forest, Odisha",
           "20.68",
           "86.9878"
          ],
          [
           "rhizosphere metagenome",
           9,
           9,
           1,
           "China",
           "23.27",
           "116.52"
          ],
          [
           "rhizosphere metagenome",
           9,
           9,
           1,
           "China",
           "23.27",
           "116.52"
          ],
          [
           "sediment metagenome",
           50,
           50,
           1,
           "China:Pearl River Estuary",
           "22.43",
           "113.64"
          ],
          [
           "sediment metagenome",
           50,
           50,
           1,
           "China:Pearl River Estuary",
           "22.43",
           "113.64"
          ],
          [
           "sediment metagenome",
           50,
           50,
           1,
           "China:Pearl River Estuary",
           "22.43",
           "113.64"
          ],
          [
           "sediment metagenome",
           50,
           50,
           1,
           "China:Pearl River Estuary",
           "22.43",
           "113.64"
          ],
          [
           "sediment metagenome",
           50,
           50,
           1,
           "China:Pearl River Estuary",
           "22.43",
           "113.64"
          ],
          [
           "sediment metagenome",
           50,
           50,
           1,
           "China:Pearl River Estuary",
           "22.43",
           "113.64"
          ],
          [
           "sediment metagenome",
           50,
           50,
           1,
           "China:Pearl River Estuary",
           "22.43",
           "113.64"
          ],
          [
           "sediment metagenome",
           50,
           50,
           1,
           "China:Pearl River Estuary",
           "22.43",
           "113.64"
          ],
          [
           "sediment metagenome",
           50,
           50,
           1,
           "China:Pearl River Estuary",
           "22.43",
           "113.64"
          ],
          [
           "sediment metagenome",
           50,
           50,
           1,
           "China:Pearl River Estuary",
           "22.43",
           "113.64"
          ],
          [
           "sediment metagenome",
           50,
           50,
           1,
           "China:Pearl River Estuary",
           "22.43",
           "113.64"
          ],
          [
           "sediment metagenome",
           50,
           50,
           1,
           "China:Pearl River Estuary",
           "22.43",
           "113.64"
          ],
          [
           "sediment metagenome",
           50,
           50,
           1,
           "China:Pearl River Estuary",
           "22.43",
           "113.64"
          ],
          [
           "sediment metagenome",
           50,
           50,
           1,
           "China:Pearl River Estuary",
           "22.43",
           "113.64"
          ],
          [
           "sediment metagenome",
           50,
           50,
           1,
           "China:Pearl River Estuary",
           "22.43",
           "113.64"
          ],
          [
           "sediment metagenome",
           50,
           50,
           1,
           "China:Pearl River Estuary",
           "22.43",
           "113.64"
          ],
          [
           "sediment metagenome",
           50,
           50,
           1,
           "China:Pearl River Estuary",
           "22.43",
           "113.64"
          ],
          [
           "sediment metagenome",
           50,
           50,
           1,
           "China:Pearl River Estuary",
           "22.43",
           "113.64"
          ],
          [
           "sediment metagenome",
           50,
           50,
           1,
           "China:Pearl River Estuary",
           "22.43",
           "113.64"
          ],
          [
           "sediment metagenome",
           50,
           50,
           1,
           "China:Pearl River Estuary",
           "22.43",
           "113.64"
          ],
          [
           "sediment metagenome",
           50,
           50,
           1,
           "China:Pearl River Estuary",
           "22.43",
           "113.64"
          ],
          [
           "sediment metagenome",
           50,
           50,
           1,
           "China:Pearl River Estuary",
           "22.43",
           "113.64"
          ],
          [
           "sediment metagenome",
           50,
           50,
           1,
           "China:Pearl River Estuary",
           "22.43",
           "113.64"
          ],
          [
           "wetland metagenome",
           2,
           2,
           2,
           "USA: Texas",
           "27.8977",
           "-97.0387"
          ],
          [
           "soil metagenome",
           1,
           1,
           1,
           "India: Bhitarkanika mangrove forest, Odisha",
           "20.7744",
           "86.9268"
          ],
          [
           "soil metagenome",
           1,
           1,
           1,
           "India: Bhitarkanika mangrove forest, Odisha",
           "20.775",
           "86.9253"
          ]
         ],
         "geo": "geo",
         "hovertemplate": "<b>Location: %{hovertext}</b><br>Mangrove Habitat: %{customdata[0]}<br>Runs Count: %{customdata[1]}<br>Samples Count: %{customdata[2]}<br>Studies Count: %{customdata[3]}<br>Country: %{customdata[4]}<extra></extra>",
         "hovertext": [
          "23.27 N 116.52 E",
          "23.27 N 116.52 E",
          "22.43 N 113.64 E",
          "22.43 N 113.64 E",
          "22.43 N 113.64 E",
          "22.43 N 113.64 E",
          "22.43 N 113.64 E",
          "22.43 N 113.64 E",
          "22.43 N 113.64 E",
          "22.43 N 113.64 E",
          "22.43 N 113.64 E",
          "22.43 N 113.64 E",
          "23.55 N 117.24 E",
          "20.6528 N 86.8503 E",
          "20.732 N 86.8726 E",
          "23.27 N 116.52 E",
          "23.27 N 116.52 E",
          "23.27 N 116.52 E",
          "23.27 N 116.52 E",
          "23.27 N 116.52 E",
          "22.43 N 113.64 E",
          "22.43 N 113.64 E",
          "22.43 N 113.64 E",
          "22.43 N 113.64 E",
          "22.43 N 113.64 E",
          "22.43 N 113.64 E",
          "22.43 N 113.64 E",
          "22.43 N 113.64 E",
          "22.43 N 113.64 E",
          "22.43 N 113.64 E",
          "22.43 N 113.64 E",
          "22.43 N 113.64 E",
          "22.43 N 113.64 E",
          "22.43 N 113.64 E",
          "22.43 N 113.64 E",
          "22.43 N 113.64 E",
          "22.43 N 113.64 E",
          "23.55 N 117.24 E",
          "27.8977 N 97.0387 W",
          "20.6849 N 86.9859 E",
          "20.663 N 86.8594 E",
          "20.7325 N 86.8712 E",
          "20.68 N 86.9878 E",
          "23.27 N 116.52 E",
          "23.27 N 116.52 E",
          "22.43 N 113.64 E",
          "22.43 N 113.64 E",
          "22.43 N 113.64 E",
          "22.43 N 113.64 E",
          "22.43 N 113.64 E",
          "22.43 N 113.64 E",
          "22.43 N 113.64 E",
          "22.43 N 113.64 E",
          "22.43 N 113.64 E",
          "22.43 N 113.64 E",
          "22.43 N 113.64 E",
          "22.43 N 113.64 E",
          "22.43 N 113.64 E",
          "22.43 N 113.64 E",
          "22.43 N 113.64 E",
          "22.43 N 113.64 E",
          "22.43 N 113.64 E",
          "22.43 N 113.64 E",
          "22.43 N 113.64 E",
          "22.43 N 113.64 E",
          "22.43 N 113.64 E",
          "22.43 N 113.64 E",
          "22.43 N 113.64 E",
          "27.8977 N 97.0387 W",
          "20.7744 N 86.9268 E",
          "20.775 N 86.9253 E"
         ],
         "lat": [
          "23.27",
          "23.27",
          "22.43",
          "22.43",
          "22.43",
          "22.43",
          "22.43",
          "22.43",
          "22.43",
          "22.43",
          "22.43",
          "22.43",
          "23.55",
          "20.6528",
          "20.732",
          "23.27",
          "23.27",
          "23.27",
          "23.27",
          "23.27",
          "22.43",
          "22.43",
          "22.43",
          "22.43",
          "22.43",
          "22.43",
          "22.43",
          "22.43",
          "22.43",
          "22.43",
          "22.43",
          "22.43",
          "22.43",
          "22.43",
          "22.43",
          "22.43",
          "22.43",
          "23.55",
          "27.8977",
          "20.6849",
          "20.663",
          "20.7325",
          "20.68",
          "23.27",
          "23.27",
          "22.43",
          "22.43",
          "22.43",
          "22.43",
          "22.43",
          "22.43",
          "22.43",
          "22.43",
          "22.43",
          "22.43",
          "22.43",
          "22.43",
          "22.43",
          "22.43",
          "22.43",
          "22.43",
          "22.43",
          "22.43",
          "22.43",
          "22.43",
          "22.43",
          "22.43",
          "22.43",
          "27.8977",
          "20.7744",
          "20.775"
         ],
         "legendgroup": "",
         "lon": [
          "116.52",
          "116.52",
          "113.64",
          "113.64",
          "113.64",
          "113.64",
          "113.64",
          "113.64",
          "113.64",
          "113.64",
          "113.64",
          "113.64",
          "117.24",
          "86.8503",
          "86.8726",
          "116.52",
          "116.52",
          "116.52",
          "116.52",
          "116.52",
          "113.64",
          "113.64",
          "113.64",
          "113.64",
          "113.64",
          "113.64",
          "113.64",
          "113.64",
          "113.64",
          "113.64",
          "113.64",
          "113.64",
          "113.64",
          "113.64",
          "113.64",
          "113.64",
          "113.64",
          "117.24",
          "-97.0387",
          "86.9859",
          "86.8594",
          "86.8712",
          "86.9878",
          "116.52",
          "116.52",
          "113.64",
          "113.64",
          "113.64",
          "113.64",
          "113.64",
          "113.64",
          "113.64",
          "113.64",
          "113.64",
          "113.64",
          "113.64",
          "113.64",
          "113.64",
          "113.64",
          "113.64",
          "113.64",
          "113.64",
          "113.64",
          "113.64",
          "113.64",
          "113.64",
          "113.64",
          "113.64",
          "-97.0387",
          "86.9268",
          "86.9253"
         ],
         "marker": {
          "color": [
           9,
           9,
           50,
           50,
           50,
           50,
           50,
           50,
           50,
           50,
           50,
           50,
           1,
           1,
           1,
           9,
           9,
           9,
           9,
           9,
           50,
           50,
           50,
           50,
           50,
           50,
           50,
           50,
           50,
           50,
           50,
           50,
           50,
           50,
           50,
           50,
           50,
           1,
           2,
           1,
           1,
           1,
           1,
           9,
           9,
           50,
           50,
           50,
           50,
           50,
           50,
           50,
           50,
           50,
           50,
           50,
           50,
           50,
           50,
           50,
           50,
           50,
           50,
           50,
           50,
           50,
           50,
           50,
           2,
           1,
           1
          ],
          "coloraxis": "coloraxis",
          "size": 10,
          "symbol": "circle"
         },
         "mode": "markers",
         "name": "",
         "selectedpoints": [],
         "showlegend": false,
         "type": "scattergeo"
        }
       ],
       "layout": {
        "autosize": true,
        "coloraxis": {
         "colorbar": {
          "title": {
           "text": "Samples"
          },
          "x": 1,
          "y": 0.5
         },
         "colorscale": [
          [
           0,
           "#0d0887"
          ],
          [
           0.1111111111111111,
           "#46039f"
          ],
          [
           0.2222222222222222,
           "#7201a8"
          ],
          [
           0.3333333333333333,
           "#9c179e"
          ],
          [
           0.4444444444444444,
           "#bd3786"
          ],
          [
           0.5555555555555556,
           "#d8576b"
          ],
          [
           0.6666666666666666,
           "#ed7953"
          ],
          [
           0.7777777777777778,
           "#fb9f3a"
          ],
          [
           0.8888888888888888,
           "#fdca26"
          ],
          [
           1,
           "#f0f921"
          ]
         ]
        },
        "dragmode": "pan",
        "geo": {
         "center": {
          "lat": 8.164890530221891,
          "lon": 0.09092690284822424
         },
         "countrycolor": "lightgray",
         "countrywidth": 0.5,
         "domain": {
          "x": [
           0,
           1
          ],
          "y": [
           0,
           1
          ]
         },
         "fitbounds": false,
         "projection": {
          "rotation": {
           "lon": 0.09092690284822424
          },
          "scale": 0.9999999999999999,
          "type": "natural earth"
         },
         "showcountries": true,
         "showframe": false
        },
        "height": 360,
        "legend": {
         "tracegroupgap": 0
        },
        "template": {
         "data": {
          "bar": [
           {
            "error_x": {
             "color": "#2a3f5f"
            },
            "error_y": {
             "color": "#2a3f5f"
            },
            "marker": {
             "line": {
              "color": "#E5ECF6",
              "width": 0.5
             },
             "pattern": {
              "fillmode": "overlay",
              "size": 10,
              "solidity": 0.2
             }
            },
            "type": "bar"
           }
          ],
          "barpolar": [
           {
            "marker": {
             "line": {
              "color": "#E5ECF6",
              "width": 0.5
             },
             "pattern": {
              "fillmode": "overlay",
              "size": 10,
              "solidity": 0.2
             }
            },
            "type": "barpolar"
           }
          ],
          "carpet": [
           {
            "aaxis": {
             "endlinecolor": "#2a3f5f",
             "gridcolor": "white",
             "linecolor": "white",
             "minorgridcolor": "white",
             "startlinecolor": "#2a3f5f"
            },
            "baxis": {
             "endlinecolor": "#2a3f5f",
             "gridcolor": "white",
             "linecolor": "white",
             "minorgridcolor": "white",
             "startlinecolor": "#2a3f5f"
            },
            "type": "carpet"
           }
          ],
          "choropleth": [
           {
            "colorbar": {
             "outlinewidth": 0,
             "ticks": ""
            },
            "type": "choropleth"
           }
          ],
          "contour": [
           {
            "colorbar": {
             "outlinewidth": 0,
             "ticks": ""
            },
            "colorscale": [
             [
              0,
              "#0d0887"
             ],
             [
              0.1111111111111111,
              "#46039f"
             ],
             [
              0.2222222222222222,
              "#7201a8"
             ],
             [
              0.3333333333333333,
              "#9c179e"
             ],
             [
              0.4444444444444444,
              "#bd3786"
             ],
             [
              0.5555555555555556,
              "#d8576b"
             ],
             [
              0.6666666666666666,
              "#ed7953"
             ],
             [
              0.7777777777777778,
              "#fb9f3a"
             ],
             [
              0.8888888888888888,
              "#fdca26"
             ],
             [
              1,
              "#f0f921"
             ]
            ],
            "type": "contour"
           }
          ],
          "contourcarpet": [
           {
            "colorbar": {
             "outlinewidth": 0,
             "ticks": ""
            },
            "type": "contourcarpet"
           }
          ],
          "heatmap": [
           {
            "colorbar": {
             "outlinewidth": 0,
             "ticks": ""
            },
            "colorscale": [
             [
              0,
              "#0d0887"
             ],
             [
              0.1111111111111111,
              "#46039f"
             ],
             [
              0.2222222222222222,
              "#7201a8"
             ],
             [
              0.3333333333333333,
              "#9c179e"
             ],
             [
              0.4444444444444444,
              "#bd3786"
             ],
             [
              0.5555555555555556,
              "#d8576b"
             ],
             [
              0.6666666666666666,
              "#ed7953"
             ],
             [
              0.7777777777777778,
              "#fb9f3a"
             ],
             [
              0.8888888888888888,
              "#fdca26"
             ],
             [
              1,
              "#f0f921"
             ]
            ],
            "type": "heatmap"
           }
          ],
          "heatmapgl": [
           {
            "colorbar": {
             "outlinewidth": 0,
             "ticks": ""
            },
            "colorscale": [
             [
              0,
              "#0d0887"
             ],
             [
              0.1111111111111111,
              "#46039f"
             ],
             [
              0.2222222222222222,
              "#7201a8"
             ],
             [
              0.3333333333333333,
              "#9c179e"
             ],
             [
              0.4444444444444444,
              "#bd3786"
             ],
             [
              0.5555555555555556,
              "#d8576b"
             ],
             [
              0.6666666666666666,
              "#ed7953"
             ],
             [
              0.7777777777777778,
              "#fb9f3a"
             ],
             [
              0.8888888888888888,
              "#fdca26"
             ],
             [
              1,
              "#f0f921"
             ]
            ],
            "type": "heatmapgl"
           }
          ],
          "histogram": [
           {
            "marker": {
             "pattern": {
              "fillmode": "overlay",
              "size": 10,
              "solidity": 0.2
             }
            },
            "type": "histogram"
           }
          ],
          "histogram2d": [
           {
            "colorbar": {
             "outlinewidth": 0,
             "ticks": ""
            },
            "colorscale": [
             [
              0,
              "#0d0887"
             ],
             [
              0.1111111111111111,
              "#46039f"
             ],
             [
              0.2222222222222222,
              "#7201a8"
             ],
             [
              0.3333333333333333,
              "#9c179e"
             ],
             [
              0.4444444444444444,
              "#bd3786"
             ],
             [
              0.5555555555555556,
              "#d8576b"
             ],
             [
              0.6666666666666666,
              "#ed7953"
             ],
             [
              0.7777777777777778,
              "#fb9f3a"
             ],
             [
              0.8888888888888888,
              "#fdca26"
             ],
             [
              1,
              "#f0f921"
             ]
            ],
            "type": "histogram2d"
           }
          ],
          "histogram2dcontour": [
           {
            "colorbar": {
             "outlinewidth": 0,
             "ticks": ""
            },
            "colorscale": [
             [
              0,
              "#0d0887"
             ],
             [
              0.1111111111111111,
              "#46039f"
             ],
             [
              0.2222222222222222,
              "#7201a8"
             ],
             [
              0.3333333333333333,
              "#9c179e"
             ],
             [
              0.4444444444444444,
              "#bd3786"
             ],
             [
              0.5555555555555556,
              "#d8576b"
             ],
             [
              0.6666666666666666,
              "#ed7953"
             ],
             [
              0.7777777777777778,
              "#fb9f3a"
             ],
             [
              0.8888888888888888,
              "#fdca26"
             ],
             [
              1,
              "#f0f921"
             ]
            ],
            "type": "histogram2dcontour"
           }
          ],
          "mesh3d": [
           {
            "colorbar": {
             "outlinewidth": 0,
             "ticks": ""
            },
            "type": "mesh3d"
           }
          ],
          "parcoords": [
           {
            "line": {
             "colorbar": {
              "outlinewidth": 0,
              "ticks": ""
             }
            },
            "type": "parcoords"
           }
          ],
          "pie": [
           {
            "automargin": true,
            "type": "pie"
           }
          ],
          "scatter": [
           {
            "fillpattern": {
             "fillmode": "overlay",
             "size": 10,
             "solidity": 0.2
            },
            "type": "scatter"
           }
          ],
          "scatter3d": [
           {
            "line": {
             "colorbar": {
              "outlinewidth": 0,
              "ticks": ""
             }
            },
            "marker": {
             "colorbar": {
              "outlinewidth": 0,
              "ticks": ""
             }
            },
            "type": "scatter3d"
           }
          ],
          "scattercarpet": [
           {
            "marker": {
             "colorbar": {
              "outlinewidth": 0,
              "ticks": ""
             }
            },
            "type": "scattercarpet"
           }
          ],
          "scattergeo": [
           {
            "marker": {
             "colorbar": {
              "outlinewidth": 0,
              "ticks": ""
             }
            },
            "type": "scattergeo"
           }
          ],
          "scattergl": [
           {
            "marker": {
             "colorbar": {
              "outlinewidth": 0,
              "ticks": ""
             }
            },
            "type": "scattergl"
           }
          ],
          "scattermapbox": [
           {
            "marker": {
             "colorbar": {
              "outlinewidth": 0,
              "ticks": ""
             }
            },
            "type": "scattermapbox"
           }
          ],
          "scatterpolar": [
           {
            "marker": {
             "colorbar": {
              "outlinewidth": 0,
              "ticks": ""
             }
            },
            "type": "scatterpolar"
           }
          ],
          "scatterpolargl": [
           {
            "marker": {
             "colorbar": {
              "outlinewidth": 0,
              "ticks": ""
             }
            },
            "type": "scatterpolargl"
           }
          ],
          "scatterternary": [
           {
            "marker": {
             "colorbar": {
              "outlinewidth": 0,
              "ticks": ""
             }
            },
            "type": "scatterternary"
           }
          ],
          "surface": [
           {
            "colorbar": {
             "outlinewidth": 0,
             "ticks": ""
            },
            "colorscale": [
             [
              0,
              "#0d0887"
             ],
             [
              0.1111111111111111,
              "#46039f"
             ],
             [
              0.2222222222222222,
              "#7201a8"
             ],
             [
              0.3333333333333333,
              "#9c179e"
             ],
             [
              0.4444444444444444,
              "#bd3786"
             ],
             [
              0.5555555555555556,
              "#d8576b"
             ],
             [
              0.6666666666666666,
              "#ed7953"
             ],
             [
              0.7777777777777778,
              "#fb9f3a"
             ],
             [
              0.8888888888888888,
              "#fdca26"
             ],
             [
              1,
              "#f0f921"
             ]
            ],
            "type": "surface"
           }
          ],
          "table": [
           {
            "cells": {
             "fill": {
              "color": "#EBF0F8"
             },
             "line": {
              "color": "white"
             }
            },
            "header": {
             "fill": {
              "color": "#C8D4E3"
             },
             "line": {
              "color": "white"
             }
            },
            "type": "table"
           }
          ]
         },
         "layout": {
          "annotationdefaults": {
           "arrowcolor": "#2a3f5f",
           "arrowhead": 0,
           "arrowwidth": 1
          },
          "autotypenumbers": "strict",
          "coloraxis": {
           "colorbar": {
            "outlinewidth": 0,
            "ticks": ""
           }
          },
          "colorscale": {
           "diverging": [
            [
             0,
             "#8e0152"
            ],
            [
             0.1,
             "#c51b7d"
            ],
            [
             0.2,
             "#de77ae"
            ],
            [
             0.3,
             "#f1b6da"
            ],
            [
             0.4,
             "#fde0ef"
            ],
            [
             0.5,
             "#f7f7f7"
            ],
            [
             0.6,
             "#e6f5d0"
            ],
            [
             0.7,
             "#b8e186"
            ],
            [
             0.8,
             "#7fbc41"
            ],
            [
             0.9,
             "#4d9221"
            ],
            [
             1,
             "#276419"
            ]
           ],
           "sequential": [
            [
             0,
             "#0d0887"
            ],
            [
             0.1111111111111111,
             "#46039f"
            ],
            [
             0.2222222222222222,
             "#7201a8"
            ],
            [
             0.3333333333333333,
             "#9c179e"
            ],
            [
             0.4444444444444444,
             "#bd3786"
            ],
            [
             0.5555555555555556,
             "#d8576b"
            ],
            [
             0.6666666666666666,
             "#ed7953"
            ],
            [
             0.7777777777777778,
             "#fb9f3a"
            ],
            [
             0.8888888888888888,
             "#fdca26"
            ],
            [
             1,
             "#f0f921"
            ]
           ],
           "sequentialminus": [
            [
             0,
             "#0d0887"
            ],
            [
             0.1111111111111111,
             "#46039f"
            ],
            [
             0.2222222222222222,
             "#7201a8"
            ],
            [
             0.3333333333333333,
             "#9c179e"
            ],
            [
             0.4444444444444444,
             "#bd3786"
            ],
            [
             0.5555555555555556,
             "#d8576b"
            ],
            [
             0.6666666666666666,
             "#ed7953"
            ],
            [
             0.7777777777777778,
             "#fb9f3a"
            ],
            [
             0.8888888888888888,
             "#fdca26"
            ],
            [
             1,
             "#f0f921"
            ]
           ]
          },
          "colorway": [
           "#636efa",
           "#EF553B",
           "#00cc96",
           "#ab63fa",
           "#FFA15A",
           "#19d3f3",
           "#FF6692",
           "#B6E880",
           "#FF97FF",
           "#FECB52"
          ],
          "font": {
           "color": "#2a3f5f"
          },
          "geo": {
           "bgcolor": "white",
           "lakecolor": "white",
           "landcolor": "#E5ECF6",
           "showlakes": true,
           "showland": true,
           "subunitcolor": "white"
          },
          "hoverlabel": {
           "align": "left"
          },
          "hovermode": "closest",
          "mapbox": {
           "style": "light"
          },
          "paper_bgcolor": "white",
          "plot_bgcolor": "#E5ECF6",
          "polar": {
           "angularaxis": {
            "gridcolor": "white",
            "linecolor": "white",
            "ticks": ""
           },
           "bgcolor": "#E5ECF6",
           "radialaxis": {
            "gridcolor": "white",
            "linecolor": "white",
            "ticks": ""
           }
          },
          "scene": {
           "xaxis": {
            "backgroundcolor": "#E5ECF6",
            "gridcolor": "white",
            "gridwidth": 2,
            "linecolor": "white",
            "showbackground": true,
            "ticks": "",
            "zerolinecolor": "white"
           },
           "yaxis": {
            "backgroundcolor": "#E5ECF6",
            "gridcolor": "white",
            "gridwidth": 2,
            "linecolor": "white",
            "showbackground": true,
            "ticks": "",
            "zerolinecolor": "white"
           },
           "zaxis": {
            "backgroundcolor": "#E5ECF6",
            "gridcolor": "white",
            "gridwidth": 2,
            "linecolor": "white",
            "showbackground": true,
            "ticks": "",
            "zerolinecolor": "white"
           }
          },
          "shapedefaults": {
           "line": {
            "color": "#2a3f5f"
           }
          },
          "ternary": {
           "aaxis": {
            "gridcolor": "white",
            "linecolor": "white",
            "ticks": ""
           },
           "baxis": {
            "gridcolor": "white",
            "linecolor": "white",
            "ticks": ""
           },
           "bgcolor": "#E5ECF6",
           "caxis": {
            "gridcolor": "white",
            "linecolor": "white",
            "ticks": ""
           }
          },
          "title": {
           "x": 0.05
          },
          "xaxis": {
           "automargin": true,
           "gridcolor": "white",
           "linecolor": "white",
           "ticks": "",
           "title": {
            "standoff": 15
           },
           "zerolinecolor": "white",
           "zerolinewidth": 2
          },
          "yaxis": {
           "automargin": true,
           "gridcolor": "white",
           "linecolor": "white",
           "ticks": "",
           "title": {
            "standoff": 15
           },
           "zerolinecolor": "white",
           "zerolinewidth": 2
          }
         }
        },
        "title": {
         "font": {
          "size": 15
         },
         "text": "Number of Samples per Location",
         "x": 0.5,
         "y": 0.95
        }
       }
      },
      "image/png": "[encoded data removed]",
      "text/html": [
       "<div>                            <div id=\"c4d73e50-611a-4c26-b8a3-b29630b8df2a\" class=\"plotly-graph-div\" style=\"height:525px; width:100%;\"></div>            <script type=\"text/javascript\">                require([\"plotly\"], function(Plotly) {                    window.PLOTLYENV=window.PLOTLYENV || {};                                    if (document.getElementById(\"c4d73e50-611a-4c26-b8a3-b29630b8df2a\")) {                    Plotly.newPlot(                        \"c4d73e50-611a-4c26-b8a3-b29630b8df2a\",                        [{\"customdata\":[[\"rhizosphere metagenome\",9.0,9.0,1.0,\"China\",\"23.27\",\"116.52\"],[\"rhizosphere metagenome\",9.0,9.0,1.0,\"China\",\"23.27\",\"116.52\"],[\"sediment metagenome\",50.0,50.0,1.0,\"China:Pearl River Estuary\",\"22.43\",\"113.64\"],[\"sediment metagenome\",50.0,50.0,1.0,\"China:Pearl River Estuary\",\"22.43\",\"113.64\"],[\"sediment metagenome\",50.0,50.0,1.0,\"China:Pearl River Estuary\",\"22.43\",\"113.64\"],[\"sediment metagenome\",50.0,50.0,1.0,\"China:Pearl River Estuary\",\"22.43\",\"113.64\"],[\"sediment metagenome\",50.0,50.0,1.0,\"China:Pearl River Estuary\",\"22.43\",\"113.64\"],[\"sediment metagenome\",50.0,50.0,1.0,\"China:Pearl River Estuary\",\"22.43\",\"113.64\"],[\"sediment metagenome\",50.0,50.0,1.0,\"China:Pearl River Estuary\",\"22.43\",\"113.64\"],[\"sediment metagenome\",50.0,50.0,1.0,\"China:Pearl River Estuary\",\"22.43\",\"113.64\"],[\"sediment metagenome\",50.0,50.0,1.0,\"China:Pearl River Estuary\",\"22.43\",\"113.64\"],[\"sediment metagenome\",50.0,50.0,1.0,\"China:Pearl River Estuary\",\"22.43\",\"113.64\"],[\"sediment metagenome\",2.0,1.0,2.0,\"China: Yunxiao\",\"23.55\",\"117.24\"],[\"soil metagenome\",1.0,1.0,1.0,\"India: Bhitarkanika mangrove forest, Odisha\",\"20.6528\",\"86.8503\"],[\"soil metagenome\",1.0,1.0,1.0,\"India: Bhitarkanika mangrove forest, Odisha\",\"20.732\",\"86.8726\"],[\"rhizosphere metagenome\",9.0,9.0,1.0,\"China\",\"23.27\",\"116.52\"],[\"rhizosphere metagenome\",9.0,9.0,1.0,\"China\",\"23.27\",\"116.52\"],[\"rhizosphere metagenome\",9.0,9.0,1.0,\"China\",\"23.27\",\"116.52\"],[\"rhizosphere metagenome\",9.0,9.0,1.0,\"China\",\"23.27\",\"116.52\"],[\"rhizosphere metagenome\",9.0,9.0,1.0,\"China\",\"23.27\",\"116.52\"],[\"sediment metagenome\",50.0,50.0,1.0,\"China:Pearl River Estuary\",\"22.43\",\"113.64\"],[\"sediment metagenome\",50.0,50.0,1.0,\"China:Pearl River Estuary\",\"22.43\",\"113.64\"],[\"sediment metagenome\",50.0,50.0,1.0,\"China:Pearl River Estuary\",\"22.43\",\"113.64\"],[\"sediment metagenome\",50.0,50.0,1.0,\"China:Pearl River Estuary\",\"22.43\",\"113.64\"],[\"sediment metagenome\",50.0,50.0,1.0,\"China:Pearl River Estuary\",\"22.43\",\"113.64\"],[\"sediment metagenome\",50.0,50.0,1.0,\"China:Pearl River Estuary\",\"22.43\",\"113.64\"],[\"sediment metagenome\",50.0,50.0,1.0,\"China:Pearl River Estuary\",\"22.43\",\"113.64\"],[\"sediment metagenome\",50.0,50.0,1.0,\"China:Pearl River Estuary\",\"22.43\",\"113.64\"],[\"sediment metagenome\",50.0,50.0,1.0,\"China:Pearl River Estuary\",\"22.43\",\"113.64\"],[\"sediment metagenome\",50.0,50.0,1.0,\"China:Pearl River Estuary\",\"22.43\",\"113.64\"],[\"sediment metagenome\",50.0,50.0,1.0,\"China:Pearl River Estuary\",\"22.43\",\"113.64\"],[\"sediment metagenome\",50.0,50.0,1.0,\"China:Pearl River Estuary\",\"22.43\",\"113.64\"],[\"sediment metagenome\",50.0,50.0,1.0,\"China:Pearl River Estuary\",\"22.43\",\"113.64\"],[\"sediment metagenome\",50.0,50.0,1.0,\"China:Pearl River Estuary\",\"22.43\",\"113.64\"],[\"sediment metagenome\",50.0,50.0,1.0,\"China:Pearl River Estuary\",\"22.43\",\"113.64\"],[\"sediment metagenome\",50.0,50.0,1.0,\"China:Pearl River Estuary\",\"22.43\",\"113.64\"],[\"sediment metagenome\",50.0,50.0,1.0,\"China:Pearl River Estuary\",\"22.43\",\"113.64\"],[\"sediment metagenome\",2.0,1.0,2.0,\"China: Yunxiao\",\"23.55\",\"117.24\"],[\"wetland metagenome\",2.0,2.0,2.0,\"USA: Texas\",\"27.8977\",\"-97.0387\"],[\"soil metagenome\",1.0,1.0,1.0,\"India: Bhitarkanika mangrove forest, Odisha\",\"20.6849\",\"86.9859\"],[\"soil metagenome\",1.0,1.0,1.0,\"India: Bhitarkanika mangrove forest, Odisha\",\"20.663\",\"86.8594\"],[\"soil metagenome\",1.0,1.0,1.0,\"India: Bhitarkanika mangrove forest, Odisha\",\"20.7325\",\"86.8712\"],[\"soil metagenome\",1.0,1.0,1.0,\"India: Bhitarkanika mangrove forest, Odisha\",\"20.68\",\"86.9878\"],[\"rhizosphere metagenome\",9.0,9.0,1.0,\"China\",\"23.27\",\"116.52\"],[\"rhizosphere metagenome\",9.0,9.0,1.0,\"China\",\"23.27\",\"116.52\"],[\"sediment metagenome\",50.0,50.0,1.0,\"China:Pearl River Estuary\",\"22.43\",\"113.64\"],[\"sediment metagenome\",50.0,50.0,1.0,\"China:Pearl River Estuary\",\"22.43\",\"113.64\"],[\"sediment metagenome\",50.0,50.0,1.0,\"China:Pearl River Estuary\",\"22.43\",\"113.64\"],[\"sediment metagenome\",50.0,50.0,1.0,\"China:Pearl River Estuary\",\"22.43\",\"113.64\"],[\"sediment metagenome\",50.0,50.0,1.0,\"China:Pearl River Estuary\",\"22.43\",\"113.64\"],[\"sediment metagenome\",50.0,50.0,1.0,\"China:Pearl River Estuary\",\"22.43\",\"113.64\"],[\"sediment metagenome\",50.0,50.0,1.0,\"China:Pearl River Estuary\",\"22.43\",\"113.64\"],[\"sediment metagenome\",50.0,50.0,1.0,\"China:Pearl River Estuary\",\"22.43\",\"113.64\"],[\"sediment metagenome\",50.0,50.0,1.0,\"China:Pearl River Estuary\",\"22.43\",\"113.64\"],[\"sediment metagenome\",50.0,50.0,1.0,\"China:Pearl River Estuary\",\"22.43\",\"113.64\"],[\"sediment metagenome\",50.0,50.0,1.0,\"China:Pearl River Estuary\",\"22.43\",\"113.64\"],[\"sediment metagenome\",50.0,50.0,1.0,\"China:Pearl River Estuary\",\"22.43\",\"113.64\"],[\"sediment metagenome\",50.0,50.0,1.0,\"China:Pearl River Estuary\",\"22.43\",\"113.64\"],[\"sediment metagenome\",50.0,50.0,1.0,\"China:Pearl River Estuary\",\"22.43\",\"113.64\"],[\"sediment metagenome\",50.0,50.0,1.0,\"China:Pearl River Estuary\",\"22.43\",\"113.64\"],[\"sediment metagenome\",50.0,50.0,1.0,\"China:Pearl River Estuary\",\"22.43\",\"113.64\"],[\"sediment metagenome\",50.0,50.0,1.0,\"China:Pearl River Estuary\",\"22.43\",\"113.64\"],[\"sediment metagenome\",50.0,50.0,1.0,\"China:Pearl River Estuary\",\"22.43\",\"113.64\"],[\"sediment metagenome\",50.0,50.0,1.0,\"China:Pearl River Estuary\",\"22.43\",\"113.64\"],[\"sediment metagenome\",50.0,50.0,1.0,\"China:Pearl River Estuary\",\"22.43\",\"113.64\"],[\"sediment metagenome\",50.0,50.0,1.0,\"China:Pearl River Estuary\",\"22.43\",\"113.64\"],[\"sediment metagenome\",50.0,50.0,1.0,\"China:Pearl River Estuary\",\"22.43\",\"113.64\"],[\"sediment metagenome\",50.0,50.0,1.0,\"China:Pearl River Estuary\",\"22.43\",\"113.64\"],[\"wetland metagenome\",2.0,2.0,2.0,\"USA: Texas\",\"27.8977\",\"-97.0387\"],[\"soil metagenome\",1.0,1.0,1.0,\"India: Bhitarkanika mangrove forest, Odisha\",\"20.7744\",\"86.9268\"],[\"soil metagenome\",1.0,1.0,1.0,\"India: Bhitarkanika mangrove forest, Odisha\",\"20.775\",\"86.9253\"]],\"geo\":\"geo\",\"hovertemplate\":\"\\u003cb\\u003eLocation: %{hovertext}\\u003c\\u002fb\\u003e\\u003cbr\\u003eMangrove Habitat: %{customdata[0]}\\u003cbr\\u003eRuns Count: %{customdata[1]}\\u003cbr\\u003eSamples Count: %{customdata[2]}\\u003cbr\\u003eStudies Count: %{customdata[3]}\\u003cbr\\u003eCountry: %{customdata[4]}\\u003cextra\\u003e\\u003c\\u002fextra\\u003e\",\"hovertext\":[\"23.27 N 116.52 E\",\"23.27 N 116.52 E\",\"22.43 N 113.64 E\",\"22.43 N 113.64 E\",\"22.43 N 113.64 E\",\"22.43 N 113.64 E\",\"22.43 N 113.64 E\",\"22.43 N 113.64 E\",\"22.43 N 113.64 E\",\"22.43 N 113.64 E\",\"22.43 N 113.64 E\",\"22.43 N 113.64 E\",\"23.55 N 117.24 E\",\"20.6528 N 86.8503 E\",\"20.732 N 86.8726 E\",\"23.27 N 116.52 E\",\"23.27 N 116.52 E\",\"23.27 N 116.52 E\",\"23.27 N 116.52 E\",\"23.27 N 116.52 E\",\"22.43 N 113.64 E\",\"22.43 N 113.64 E\",\"22.43 N 113.64 E\",\"22.43 N 113.64 E\",\"22.43 N 113.64 E\",\"22.43 N 113.64 E\",\"22.43 N 113.64 E\",\"22.43 N 113.64 E\",\"22.43 N 113.64 E\",\"22.43 N 113.64 E\",\"22.43 N 113.64 E\",\"22.43 N 113.64 E\",\"22.43 N 113.64 E\",\"22.43 N 113.64 E\",\"22.43 N 113.64 E\",\"22.43 N 113.64 E\",\"22.43 N 113.64 E\",\"23.55 N 117.24 E\",\"27.8977 N 97.0387 W\",\"20.6849 N 86.9859 E\",\"20.663 N 86.8594 E\",\"20.7325 N 86.8712 E\",\"20.68 N 86.9878 E\",\"23.27 N 116.52 E\",\"23.27 N 116.52 E\",\"22.43 N 113.64 E\",\"22.43 N 113.64 E\",\"22.43 N 113.64 E\",\"22.43 N 113.64 E\",\"22.43 N 113.64 E\",\"22.43 N 113.64 E\",\"22.43 N 113.64 E\",\"22.43 N 113.64 E\",\"22.43 N 113.64 E\",\"22.43 N 113.64 E\",\"22.43 N 113.64 E\",\"22.43 N 113.64 E\",\"22.43 N 113.64 E\",\"22.43 N 113.64 E\",\"22.43 N 113.64 E\",\"22.43 N 113.64 E\",\"22.43 N 113.64 E\",\"22.43 N 113.64 E\",\"22.43 N 113.64 E\",\"22.43 N 113.64 E\",\"22.43 N 113.64 E\",\"22.43 N 113.64 E\",\"22.43 N 113.64 E\",\"27.8977 N 97.0387 W\",\"20.7744 N 86.9268 E\",\"20.775 N 86.9253 E\"],\"lat\":[\"23.27\",\"23.27\",\"22.43\",\"22.43\",\"22.43\",\"22.43\",\"22.43\",\"22.43\",\"22.43\",\"22.43\",\"22.43\",\"22.43\",\"23.55\",\"20.6528\",\"20.732\",\"23.27\",\"23.27\",\"23.27\",\"23.27\",\"23.27\",\"22.43\",\"22.43\",\"22.43\",\"22.43\",\"22.43\",\"22.43\",\"22.43\",\"22.43\",\"22.43\",\"22.43\",\"22.43\",\"22.43\",\"22.43\",\"22.43\",\"22.43\",\"22.43\",\"22.43\",\"23.55\",\"27.8977\",\"20.6849\",\"20.663\",\"20.7325\",\"20.68\",\"23.27\",\"23.27\",\"22.43\",\"22.43\",\"22.43\",\"22.43\",\"22.43\",\"22.43\",\"22.43\",\"22.43\",\"22.43\",\"22.43\",\"22.43\",\"22.43\",\"22.43\",\"22.43\",\"22.43\",\"22.43\",\"22.43\",\"22.43\",\"22.43\",\"22.43\",\"22.43\",\"22.43\",\"22.43\",\"27.8977\",\"20.7744\",\"20.775\"],\"legendgroup\":\"\",\"lon\":[\"116.52\",\"116.52\",\"113.64\",\"113.64\",\"113.64\",\"113.64\",\"113.64\",\"113.64\",\"113.64\",\"113.64\",\"113.64\",\"113.64\",\"117.24\",\"86.8503\",\"86.8726\",\"116.52\",\"116.52\",\"116.52\",\"116.52\",\"116.52\",\"113.64\",\"113.64\",\"113.64\",\"113.64\",\"113.64\",\"113.64\",\"113.64\",\"113.64\",\"113.64\",\"113.64\",\"113.64\",\"113.64\",\"113.64\",\"113.64\",\"113.64\",\"113.64\",\"113.64\",\"117.24\",\"-97.0387\",\"86.9859\",\"86.8594\",\"86.8712\",\"86.9878\",\"116.52\",\"116.52\",\"113.64\",\"113.64\",\"113.64\",\"113.64\",\"113.64\",\"113.64\",\"113.64\",\"113.64\",\"113.64\",\"113.64\",\"113.64\",\"113.64\",\"113.64\",\"113.64\",\"113.64\",\"113.64\",\"113.64\",\"113.64\",\"113.64\",\"113.64\",\"113.64\",\"113.64\",\"113.64\",\"-97.0387\",\"86.9268\",\"86.9253\"],\"marker\":{\"color\":[9.0,9.0,50.0,50.0,50.0,50.0,50.0,50.0,50.0,50.0,50.0,50.0,1.0,1.0,1.0,9.0,9.0,9.0,9.0,9.0,50.0,50.0,50.0,50.0,50.0,50.0,50.0,50.0,50.0,50.0,50.0,50.0,50.0,50.0,50.0,50.0,50.0,1.0,2.0,1.0,1.0,1.0,1.0,9.0,9.0,50.0,50.0,50.0,50.0,50.0,50.0,50.0,50.0,50.0,50.0,50.0,50.0,50.0,50.0,50.0,50.0,50.0,50.0,50.0,50.0,50.0,50.0,50.0,2.0,1.0,1.0],\"coloraxis\":\"coloraxis\",\"symbol\":\"circle\",\"size\":10},\"mode\":\"markers\",\"name\":\"\",\"showlegend\":false,\"type\":\"scattergeo\"}],                        {\"template\":{\"data\":{\"histogram2dcontour\":[{\"type\":\"histogram2dcontour\",\"colorbar\":{\"outlinewidth\":0,\"ticks\":\"\"},\"colorscale\":[[0.0,\"#0d0887\"],[0.1111111111111111,\"#46039f\"],[0.2222222222222222,\"#7201a8\"],[0.3333333333333333,\"#9c179e\"],[0.4444444444444444,\"#bd3786\"],[0.5555555555555556,\"#d8576b\"],[0.6666666666666666,\"#ed7953\"],[0.7777777777777778,\"#fb9f3a\"],[0.8888888888888888,\"#fdca26\"],[1.0,\"#f0f921\"]]}],\"choropleth\":[{\"type\":\"choropleth\",\"colorbar\":{\"outlinewidth\":0,\"ticks\":\"\"}}],\"histogram2d\":[{\"type\":\"histogram2d\",\"colorbar\":{\"outlinewidth\":0,\"ticks\":\"\"},\"colorscale\":[[0.0,\"#0d0887\"],[0.1111111111111111,\"#46039f\"],[0.2222222222222222,\"#7201a8\"],[0.3333333333333333,\"#9c179e\"],[0.4444444444444444,\"#bd3786\"],[0.5555555555555556,\"#d8576b\"],[0.6666666666666666,\"#ed7953\"],[0.7777777777777778,\"#fb9f3a\"],[0.8888888888888888,\"#fdca26\"],[1.0,\"#f0f921\"]]}],\"heatmap\":[{\"type\":\"heatmap\",\"colorbar\":{\"outlinewidth\":0,\"ticks\":\"\"},\"colorscale\":[[0.0,\"#0d0887\"],[0.1111111111111111,\"#46039f\"],[0.2222222222222222,\"#7201a8\"],[0.3333333333333333,\"#9c179e\"],[0.4444444444444444,\"#bd3786\"],[0.5555555555555556,\"#d8576b\"],[0.6666666666666666,\"#ed7953\"],[0.7777777777777778,\"#fb9f3a\"],[0.8888888888888888,\"#fdca26\"],[1.0,\"#f0f921\"]]}],\"heatmapgl\":[{\"type\":\"heatmapgl\",\"colorbar\":{\"outlinewidth\":0,\"ticks\":\"\"},\"colorscale\":[[0.0,\"#0d0887\"],[0.1111111111111111,\"#46039f\"],[0.2222222222222222,\"#7201a8\"],[0.3333333333333333,\"#9c179e\"],[0.4444444444444444,\"#bd3786\"],[0.5555555555555556,\"#d8576b\"],[0.6666666666666666,\"#ed7953\"],[0.7777777777777778,\"#fb9f3a\"],[0.8888888888888888,\"#fdca26\"],[1.0,\"#f0f921\"]]}],\"contourcarpet\":[{\"type\":\"contourcarpet\",\"colorbar\":{\"outlinewidth\":0,\"ticks\":\"\"}}],\"contour\":[{\"type\":\"contour\",\"colorbar\":{\"outlinewidth\":0,\"ticks\":\"\"},\"colorscale\":[[0.0,\"#0d0887\"],[0.1111111111111111,\"#46039f\"],[0.2222222222222222,\"#7201a8\"],[0.3333333333333333,\"#9c179e\"],[0.4444444444444444,\"#bd3786\"],[0.5555555555555556,\"#d8576b\"],[0.6666666666666666,\"#ed7953\"],[0.7777777777777778,\"#fb9f3a\"],[0.8888888888888888,\"#fdca26\"],[1.0,\"#f0f921\"]]}],\"surface\":[{\"type\":\"surface\",\"colorbar\":{\"outlinewidth\":0,\"ticks\":\"\"},\"colorscale\":[[0.0,\"#0d0887\"],[0.1111111111111111,\"#46039f\"],[0.2222222222222222,\"#7201a8\"],[0.3333333333333333,\"#9c179e\"],[0.4444444444444444,\"#bd3786\"],[0.5555555555555556,\"#d8576b\"],[0.6666666666666666,\"#ed7953\"],[0.7777777777777778,\"#fb9f3a\"],[0.8888888888888888,\"#fdca26\"],[1.0,\"#f0f921\"]]}],\"mesh3d\":[{\"type\":\"mesh3d\",\"colorbar\":{\"outlinewidth\":0,\"ticks\":\"\"}}],\"scatter\":[{\"fillpattern\":{\"fillmode\":\"overlay\",\"size\":10,\"solidity\":0.2},\"type\":\"scatter\"}],\"parcoords\":[{\"type\":\"parcoords\",\"line\":{\"colorbar\":{\"outlinewidth\":0,\"ticks\":\"\"}}}],\"scatterpolargl\":[{\"type\":\"scatterpolargl\",\"marker\":{\"colorbar\":{\"outlinewidth\":0,\"ticks\":\"\"}}}],\"bar\":[{\"error_x\":{\"color\":\"#2a3f5f\"},\"error_y\":{\"color\":\"#2a3f5f\"},\"marker\":{\"line\":{\"color\":\"#E5ECF6\",\"width\":0.5},\"pattern\":{\"fillmode\":\"overlay\",\"size\":10,\"solidity\":0.2}},\"type\":\"bar\"}],\"scattergeo\":[{\"type\":\"scattergeo\",\"marker\":{\"colorbar\":{\"outlinewidth\":0,\"ticks\":\"\"}}}],\"scatterpolar\":[{\"type\":\"scatterpolar\",\"marker\":{\"colorbar\":{\"outlinewidth\":0,\"ticks\":\"\"}}}],\"histogram\":[{\"marker\":{\"pattern\":{\"fillmode\":\"overlay\",\"size\":10,\"solidity\":0.2}},\"type\":\"histogram\"}],\"scattergl\":[{\"type\":\"scattergl\",\"marker\":{\"colorbar\":{\"outlinewidth\":0,\"ticks\":\"\"}}}],\"scatter3d\":[{\"type\":\"scatter3d\",\"line\":{\"colorbar\":{\"outlinewidth\":0,\"ticks\":\"\"}},\"marker\":{\"colorbar\":{\"outlinewidth\":0,\"ticks\":\"\"}}}],\"scattermapbox\":[{\"type\":\"scattermapbox\",\"marker\":{\"colorbar\":{\"outlinewidth\":0,\"ticks\":\"\"}}}],\"scatterternary\":[{\"type\":\"scatterternary\",\"marker\":{\"colorbar\":{\"outlinewidth\":0,\"ticks\":\"\"}}}],\"scattercarpet\":[{\"type\":\"scattercarpet\",\"marker\":{\"colorbar\":{\"outlinewidth\":0,\"ticks\":\"\"}}}],\"carpet\":[{\"aaxis\":{\"endlinecolor\":\"#2a3f5f\",\"gridcolor\":\"white\",\"linecolor\":\"white\",\"minorgridcolor\":\"white\",\"startlinecolor\":\"#2a3f5f\"},\"baxis\":{\"endlinecolor\":\"#2a3f5f\",\"gridcolor\":\"white\",\"linecolor\":\"white\",\"minorgridcolor\":\"white\",\"startlinecolor\":\"#2a3f5f\"},\"type\":\"carpet\"}],\"table\":[{\"cells\":{\"fill\":{\"color\":\"#EBF0F8\"},\"line\":{\"color\":\"white\"}},\"header\":{\"fill\":{\"color\":\"#C8D4E3\"},\"line\":{\"color\":\"white\"}},\"type\":\"table\"}],\"barpolar\":[{\"marker\":{\"line\":{\"color\":\"#E5ECF6\",\"width\":0.5},\"pattern\":{\"fillmode\":\"overlay\",\"size\":10,\"solidity\":0.2}},\"type\":\"barpolar\"}],\"pie\":[{\"automargin\":true,\"type\":\"pie\"}]},\"layout\":{\"autotypenumbers\":\"strict\",\"colorway\":[\"#636efa\",\"#EF553B\",\"#00cc96\",\"#ab63fa\",\"#FFA15A\",\"#19d3f3\",\"#FF6692\",\"#B6E880\",\"#FF97FF\",\"#FECB52\"],\"font\":{\"color\":\"#2a3f5f\"},\"hovermode\":\"closest\",\"hoverlabel\":{\"align\":\"left\"},\"paper_bgcolor\":\"white\",\"plot_bgcolor\":\"#E5ECF6\",\"polar\":{\"bgcolor\":\"#E5ECF6\",\"angularaxis\":{\"gridcolor\":\"white\",\"linecolor\":\"white\",\"ticks\":\"\"},\"radialaxis\":{\"gridcolor\":\"white\",\"linecolor\":\"white\",\"ticks\":\"\"}},\"ternary\":{\"bgcolor\":\"#E5ECF6\",\"aaxis\":{\"gridcolor\":\"white\",\"linecolor\":\"white\",\"ticks\":\"\"},\"baxis\":{\"gridcolor\":\"white\",\"linecolor\":\"white\",\"ticks\":\"\"},\"caxis\":{\"gridcolor\":\"white\",\"linecolor\":\"white\",\"ticks\":\"\"}},\"coloraxis\":{\"colorbar\":{\"outlinewidth\":0,\"ticks\":\"\"}},\"colorscale\":{\"sequential\":[[0.0,\"#0d0887\"],[0.1111111111111111,\"#46039f\"],[0.2222222222222222,\"#7201a8\"],[0.3333333333333333,\"#9c179e\"],[0.4444444444444444,\"#bd3786\"],[0.5555555555555556,\"#d8576b\"],[0.6666666666666666,\"#ed7953\"],[0.7777777777777778,\"#fb9f3a\"],[0.8888888888888888,\"#fdca26\"],[1.0,\"#f0f921\"]],\"sequentialminus\":[[0.0,\"#0d0887\"],[0.1111111111111111,\"#46039f\"],[0.2222222222222222,\"#7201a8\"],[0.3333333333333333,\"#9c179e\"],[0.4444444444444444,\"#bd3786\"],[0.5555555555555556,\"#d8576b\"],[0.6666666666666666,\"#ed7953\"],[0.7777777777777778,\"#fb9f3a\"],[0.8888888888888888,\"#fdca26\"],[1.0,\"#f0f921\"]],\"diverging\":[[0,\"#8e0152\"],[0.1,\"#c51b7d\"],[0.2,\"#de77ae\"],[0.3,\"#f1b6da\"],[0.4,\"#fde0ef\"],[0.5,\"#f7f7f7\"],[0.6,\"#e6f5d0\"],[0.7,\"#b8e186\"],[0.8,\"#7fbc41\"],[0.9,\"#4d9221\"],[1,\"#276419\"]]},\"xaxis\":{\"gridcolor\":\"white\",\"linecolor\":\"white\",\"ticks\":\"\",\"title\":{\"standoff\":15},\"zerolinecolor\":\"white\",\"automargin\":true,\"zerolinewidth\":2},\"yaxis\":{\"gridcolor\":\"white\",\"linecolor\":\"white\",\"ticks\":\"\",\"title\":{\"standoff\":15},\"zerolinecolor\":\"white\",\"automargin\":true,\"zerolinewidth\":2},\"scene\":{\"xaxis\":{\"backgroundcolor\":\"#E5ECF6\",\"gridcolor\":\"white\",\"linecolor\":\"white\",\"showbackground\":true,\"ticks\":\"\",\"zerolinecolor\":\"white\",\"gridwidth\":2},\"yaxis\":{\"backgroundcolor\":\"#E5ECF6\",\"gridcolor\":\"white\",\"linecolor\":\"white\",\"showbackground\":true,\"ticks\":\"\",\"zerolinecolor\":\"white\",\"gridwidth\":2},\"zaxis\":{\"backgroundcolor\":\"#E5ECF6\",\"gridcolor\":\"white\",\"linecolor\":\"white\",\"showbackground\":true,\"ticks\":\"\",\"zerolinecolor\":\"white\",\"gridwidth\":2}},\"shapedefaults\":{\"line\":{\"color\":\"#2a3f5f\"}},\"annotationdefaults\":{\"arrowcolor\":\"#2a3f5f\",\"arrowhead\":0,\"arrowwidth\":1},\"geo\":{\"bgcolor\":\"white\",\"landcolor\":\"#E5ECF6\",\"subunitcolor\":\"white\",\"showland\":true,\"showlakes\":true,\"lakecolor\":\"white\"},\"title\":{\"x\":0.05},\"mapbox\":{\"style\":\"light\"}}},\"geo\":{\"domain\":{\"x\":[0.0,1.0],\"y\":[0.0,1.0]},\"center\":{},\"projection\":{\"type\":\"natural earth\"},\"showframe\":false,\"showcountries\":true,\"countrycolor\":\"lightgray\",\"countrywidth\":0.5},\"coloraxis\":{\"colorbar\":{\"title\":{\"text\":\"Samples\"},\"x\":1,\"y\":0.5},\"colorscale\":[[0.0,\"#0d0887\"],[0.1111111111111111,\"#46039f\"],[0.2222222222222222,\"#7201a8\"],[0.3333333333333333,\"#9c179e\"],[0.4444444444444444,\"#bd3786\"],[0.5555555555555556,\"#d8576b\"],[0.6666666666666666,\"#ed7953\"],[0.7777777777777778,\"#fb9f3a\"],[0.8888888888888888,\"#fdca26\"],[1.0,\"#f0f921\"]]},\"legend\":{\"tracegroupgap\":0},\"title\":{\"text\":\"Number of Samples per Location\",\"font\":{\"size\":15},\"x\":0.5,\"y\":0.95}},                        {\"responsive\": true}                    ).then(function(){\n",
       "                            \n",
       "var gd = document.getElementById('c4d73e50-611a-4c26-b8a3-b29630b8df2a');\n",
       "var x = new MutationObserver(function (mutations, observer) {{\n",
       "        var display = window.getComputedStyle(gd).display;\n",
       "        if (!display || display === 'none') {{\n",
       "            console.log([gd, 'removed!']);\n",
       "            Plotly.purge(gd);\n",
       "            observer.disconnect();\n",
       "        }}\n",
       "}});\n",
       "\n",
       "// Listen for the removal of the full notebook cells\n",
       "var notebookContainer = gd.closest('#notebook-container');\n",
       "if (notebookContainer) {{\n",
       "    x.observe(notebookContainer, {childList: true});\n",
       "}}\n",
       "\n",
       "// Listen for the clearing of the current output cell\n",
       "var outputEl = gd.closest('.output');\n",
       "if (outputEl) {{\n",
       "    x.observe(outputEl, {childList: true});\n",
       "}}\n",
       "\n",
       "                        })                };                });            </script>        </div>"
      ]
     },
     "metadata": {},
     "output_type": "display_data"
    },
    {
     "data": {
      "text/plain": [
       "'scatter_geo_map_adjusted.html'"
      ]
     },
     "execution_count": 443,
     "metadata": {},
     "output_type": "execute_result"
    }
   ],
   "source": [
    "# Create a scatter_geo plot\n",
    "fig = px.scatter_geo(df_scatter_geo,\n",
    "                     lat='lat',\n",
    "                     lon='lon',\n",
    "                     color='samples_count',\n",
    "                     hover_name='location',\n",
    "                     hover_data={'scientific_name_labels': True,\n",
    "                                 'runs_count': True,\n",
    "                                 'samples_count': True,\n",
    "                                 'studies_count': True,\n",
    "                                 'country': True,\n",
    "                                 'lat': False, 'lon': False,  # Hide lat and lon from hover\n",
    "                                 },\n",
    "                     title='Number of Samples per Location'\n",
    "                    )\n",
    "\n",
    "  # Customize hovertemplate\n",
    "fig.update_traces(hovertemplate=\"<b>Location: %{hovertext}</b><br>\"\n",
    "                                \"Mangrove Habitat: %{customdata[0]}<br>\"\n",
    "                                \"Runs Count: %{customdata[1]}<br>\"\n",
    "                                \"Samples Count: %{customdata[2]}<br>\"\n",
    "                                \"Studies Count: %{customdata[3]}<br>\"\n",
    "                                \"Country: %{customdata[4]}<extra></extra>\")\n",
    "\n",
    "\n",
    "fig.update_traces(marker=dict(size=10)) # update_traces to adjust marker size\n",
    "\n",
    " # Customize layout for aesthetics\n",
    "fig.update_layout(\n",
    "    geo=dict(\n",
    "        showframe=False,  # Remove the frame around the map\n",
    "        projection_type='natural earth',  # Use a natural earth projection\n",
    "        # Country borders:\n",
    "        showcountries=True,\n",
    "        countrycolor=\"lightgray\",\n",
    "        countrywidth=0.5\n",
    "    ),\n",
    "    coloraxis_colorbar=dict(\n",
    "        title='Samples',  # Title for the colorbar\n",
    "        x=1,  # Position the colorbar to the right\n",
    "        y=0.5  # Position the colorbar vertically centered\n",
    "    ),\n",
    "    title=dict(\n",
    "        x=0.5,  # Center the title horizontally\n",
    "        y=0.95,  # Position the title near the top\n",
    "        font=dict(size=15)  # Increase title font size\n",
    "    )\n",
    ")\n",
    "\n",
    "  # Show plot\n",
    "fig.show()"
   ]
  },
  {
   "cell_type": "code",
   "execution_count": 444,
   "metadata": {},
   "outputs": [
    {
     "data": {
      "text/plain": [
       "'/home/jupyter-andres/MAGENTA/metadata/scatter_geo_map_adjusted.html'"
      ]
     },
     "execution_count": 444,
     "metadata": {},
     "output_type": "execute_result"
    }
   ],
   "source": [
    "# Save the plot as an HTML file using plotly.offline\n",
    "pyo.plot(fig, filename= metadata_path + 'scatter_geo_map_adjusted.html', auto_open=False) # Save as HTML"
   ]
  },
  {
   "cell_type": "markdown",
   "metadata": {
    "id": "rkK2nVT5OzNB"
   },
   "source": [
    "## **Downloading Selected Datasets**\n",
    "Download the *mangrove metagenome* selected datasets."
   ]
  },
  {
   "cell_type": "markdown",
   "metadata": {
    "id": "Z2fvi57z2EUC"
   },
   "source": [
    "### **Creating download scripts for the selected records of each mangrove habitat**"
   ]
  },
  {
   "cell_type": "code",
   "execution_count": 384,
   "metadata": {
    "id": "uL2-exTssMB2"
   },
   "outputs": [],
   "source": [
    "df_download_fastqs = df_6.copy()"
   ]
  },
  {
   "cell_type": "code",
   "execution_count": 385,
   "metadata": {},
   "outputs": [],
   "source": [
    "# Get unique 'scientific_name_labels'\n",
    "unique_labels = df_download_fastqs['scientific_name_labels'].unique()\n",
    "\n",
    "# Create a dictionary to store URLs based on labels\n",
    "label_urls = {}\n",
    "for label in unique_labels:\n",
    "  label_urls[label] = []\n",
    "  for index, row in df_download_fastqs.iterrows():\n",
    "    if row['scientific_name_labels'] == label:\n",
    "      urls = row['fastq_ftp'].split(';')\n",
    "      label_urls[label].extend(urls)\n",
    "\n",
    "# Create bash scripts for each label to download URLs\n",
    "for label in label_urls:\n",
    "  first_word = label.split()[0]\n",
    "  with open(f'{scripts_path}download_{first_word}_script.sh', 'w') as f:\n",
    "    f.write('#!/bin/bash\\n\\n')\n",
    "    for url in label_urls[label]:\n",
    "      f.write('wget ' + str(url) + '\\n')"
   ]
  },
  {
   "cell_type": "markdown",
   "metadata": {
    "id": "Q4IbQzgqwgoA"
   },
   "source": [
    "### **Downloading the selected records of each mangrove habitat**"
   ]
  },
  {
   "cell_type": "code",
   "execution_count": 390,
   "metadata": {},
   "outputs": [],
   "source": [
    "with open(scripts_path + 'download_rawdata_script.sh', 'w') as f:\n",
    "    f.write('''#!/bin/bash\\n\n",
    "rawdata_path=\"/files/magenta/rawdata\"\n",
    "scripts_path=\"/home/jupyter-andres/MAGENTA/scripts\"\\n\n",
    "mkdir -p $rawdata_path/{rhizosphere,sediment,wetland,soil}\n",
    "mkdir $scripts_path/run_info\\n\n",
    "# Grant execute permissions to the download scripts\n",
    "chmod a+x $scripts_path/download_sediment_script.sh $scripts_path/download_wetland_script.sh $scripts_path/download_rhizosphere_script.sh $scripts_path/download_soil_script.sh\\n\n",
    "# Run the download scripts in the background and redirect output to \"habitat\"_nohup runinfo file\n",
    "cd $rawdata_path/rhizosphere && nohup sh $scripts_path/download_rhizosphere_script.sh > $scripts_path/run_info/rhizosphere_nohup 2>&1 &\\n\n",
    "cd $rawdata_path/wetland && nohup sh $scripts_path/download_wetland_script.sh > $scripts_path/run_info/wetland_nohup 2>&1 &\\n\n",
    "cd $rawdata_path/sediment && nohup sh $scripts_path/download_sediment_script.sh > $scripts_path/run_info/sediment_nohup 2>&1 &\\n\n",
    "cd $rawdata_path/soil && nohup sh $scripts_path/download_soil_script.sh > $scripts_path/run_info/soil_nohup 2>&1 &\\n\n",
    "''')"
   ]
  },
  {
   "cell_type": "code",
   "execution_count": 387,
   "metadata": {},
   "outputs": [],
   "source": [
    "# Change the script's execution permissions\n",
    "! chmod a+x /home/jupyter-andres/MAGENTA/scripts/download_rawdata_script.sh"
   ]
  },
  {
   "cell_type": "markdown",
   "metadata": {},
   "source": [
    "### **Run download_rawdata_script.sh in the terminal**\n",
    "\n",
    "! bash /home/jupyter-andres/MAGENTA/scripts/download_rawdata_script.sh"
   ]
  },
  {
   "cell_type": "code",
   "execution_count": 426,
   "metadata": {
    "scrolled": true
   },
   "outputs": [
    {
     "name": "stdout",
     "output_type": "stream",
     "text": [
      "141\n"
     ]
    }
   ],
   "source": [
    "# Check that all files were downloaded successfully\n",
    "\n",
    "# Number of wget commands executed\n",
    "! grep \"wget\" /home/jupyter-andres/MAGENTA/scripts/*.sh | wc -l "
   ]
  },
  {
   "cell_type": "markdown",
   "metadata": {},
   "source": [
    " - vs -"
   ]
  },
  {
   "cell_type": "code",
   "execution_count": 428,
   "metadata": {},
   "outputs": [
    {
     "name": "stdout",
     "output_type": "stream",
     "text": [
      "141\n"
     ]
    }
   ],
   "source": [
    "# Number of 'saved' messages into the nohup files\n",
    "! grep \"saved\" /home/jupyter-andres/MAGENTA/scripts/run_info/* | wc -l"
   ]
  }
 ],
 "metadata": {
  "colab": {
   "provenance": []
  },
  "kernelspec": {
   "display_name": "Python 3 (ipykernel)",
   "language": "python",
   "name": "python3"
  },
  "language_info": {
   "codemirror_mode": {
    "name": "ipython",
    "version": 3
   },
   "file_extension": ".py",
   "mimetype": "text/x-python",
   "name": "python",
   "nbconvert_exporter": "python",
   "pygments_lexer": "ipython3",
   "version": "3.10.10"
  }
 },
 "nbformat": 4,
 "nbformat_minor": 4
}
