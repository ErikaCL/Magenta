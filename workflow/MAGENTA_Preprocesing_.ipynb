{
 "cells": [
  {
   "cell_type": "markdown",
   "id": "1e294371-981f-4a51-90ae-5f3951e45d06",
   "metadata": {},
   "source": [
    "## MAGENTA Preprocessing"
   ]
  },
  {
   "cell_type": "markdown",
   "id": "1676ee4d-aa79-4cee-906b-23339aa304d9",
   "metadata": {},
   "source": [
    "### We are going to create the workspace for processing raw data."
   ]
  },
  {
   "cell_type": "markdown",
   "id": "1f99299b-a895-43f3-a5a4-0ae152d2096d",
   "metadata": {},
   "source": [
    "We create symbolic links to our data folder in the MAGENTA workspace."
   ]
  },
  {
   "cell_type": "code",
   "execution_count": 2,
   "id": "8542524d-cbba-4bcf-93a8-398f1a3db65f",
   "metadata": {},
   "outputs": [],
   "source": [
    "# Create directory paths \n",
    "magenta_path = f\"$HOME/MAGENTA\"\n",
    "rawdata_path = \"/files/magenta/rawdata\"\n",
    "rawdata_links_path = f\"$HOME/MAGENTA/data/raw\"\n",
    "scripts_path = \"/home/jupyter-andres/MAGENTA/scripts\"\n",
    "metadata_path = \"/home/jupyter-andres/MAGENTA/metadata/\"\n",
    "trimmed_data_path = f\"$HOME/MAGENTA/trimmed\"\n",
    "assemblies_path = \"/files/magenta/assemblies\""
   ]
  },
  {
   "cell_type": "markdown",
   "id": "54ad6892-d6d3-4481-8ce0-f1c4a8818947",
   "metadata": {},
   "source": [
    "### Creating a script to make symbolic links from the raw data to the workspace."
   ]
  },
  {
   "cell_type": "code",
   "execution_count": 16,
   "id": "c9a04ee9-5ddf-41ed-b9bc-5d7458a5b975",
   "metadata": {},
   "outputs": [],
   "source": [
    "# create script file\n",
    "with open(scripts_path + '/make_symbolic_links_script.sh', 'w') as f:\n",
    "    f.write(f'''#!/bin/bash\n",
    "\n",
    "# paths\n",
    "rawdata_path=\"{rawdata_path}\"\n",
    "workspace_path=\"{workspace_path}\"\n",
    "\n",
    "# exploring directories on the rawdata_path\n",
    "cd $rawdata_path\n",
    "\n",
    "# Iterate over each subdirectory in the rawdata_path\n",
    "for dir in $(ls -d */); do\n",
    "    # Remove the slash to get the directory name.\n",
    "    dir_name=\"${{dir%/}}\"\n",
    "    \n",
    "# Change to the working directory\n",
    "cd $workspace_path\n",
    "\n",
    "    # Crear el directorio si no existe en workspace_path\n",
    "    mkdir -p \"$dir_name\"\n",
    "    \n",
    "    # Crear enlaces simbólicos desde rawdata_path al directorio en workspace_path\n",
    "    ln -sf \"$rawdata_path/$dir_name/\"* \"$workspace_path/$dir_name/\"\n",
    "done\n",
    "''')\n"
   ]
  },
  {
   "cell_type": "code",
   "execution_count": 12,
   "id": "82f869ed-2637-4d3b-a1a2-a83009a7cd70",
   "metadata": {},
   "outputs": [],
   "source": [
    "# Change the script's execution permissions\n",
    "! chmod a+x /home/jupyter-andres/MAGENTA/scripts/make_symbolic_links_script.sh"
   ]
  },
  {
   "cell_type": "markdown",
   "id": "53a94e65-0e21-4d62-8fa8-603d656f2f98",
   "metadata": {},
   "source": [
    "#### Run make_symbolic_links_script.sh in the terminal\n",
    "! bash /home/jupyter-andres/MAGENTA/scripts/make_symbolic_links_script.sh"
   ]
  },
  {
   "cell_type": "markdown",
   "id": "2ee5265d-db7a-47df-b119-5e4974674762",
   "metadata": {},
   "source": [
    "### Running FastQC\n",
    "We will now assess the quality of the reads that we downloaded."
   ]
  },
  {
   "cell_type": "code",
   "execution_count": 47,
   "id": "65421b96-8701-4675-bda7-355c1c843493",
   "metadata": {},
   "outputs": [],
   "source": [
    "\n",
    "# Crear el archivo de script\n",
    "with open(scripts_path + '/run_fastqc_script.sh', 'w') as f:\n",
    "    f.write(f'''#!/bin/bash\n",
    "\n",
    "# Set paths\n",
    "magenta_path=\"{magenta_path}\"\n",
    "workspace_path=\"{rawdata_links_path}\"\n",
    "\n",
    "# Activate conda environment\n",
    "echo conda activate /miniconda3/envs/metagenomics \n",
    "\n",
    "# Change to the working directory\n",
    "cd $workspace_path\n",
    "\n",
    "# Iterate over each subdirectory in the workspace_path\n",
    "for dir in $(ls -d */); do\n",
    "    # Remove the trailing slash to get the directory name\n",
    "    dir_name=\"${{dir%/}}\"\n",
    "    \n",
    "    # Create a directory for FastQC output if it doesn't exist\n",
    "    mkdir -p \"$magenta_path/results/00.fastqc/${{dir_name}}_fastqc_untrimmed\"\n",
    "    \n",
    "    # Run FastQC on all FASTQ files in the current subdirectory of workspace_path\n",
    "    fastqc \"$workspace_path/$dir_name/\"*.fastq* -o \"$magenta_path/results/00.fastqc/${{dir_name}}_fastqc_untrimmed\"\n",
    "    \n",
    "done\n",
    "''')\n"
   ]
  },
  {
   "cell_type": "code",
   "execution_count": 33,
   "id": "8a805ef2-663e-4b2b-8c0b-888dd006ee3e",
   "metadata": {},
   "outputs": [],
   "source": [
    "# Change the script's execution permissions\n",
    "! chmod a+x /home/jupyter-andres/MAGENTA/scripts/run_fastqc_script.sh"
   ]
  },
  {
   "cell_type": "markdown",
   "id": "ffd9fc6c-fecc-485a-8347-71aac21e86cc",
   "metadata": {},
   "source": [
    "#### Run run_fastqc_script.sh in the terminal\n",
    "! bash /home/jupyter-andres/MAGENTA/scripts/run_fastqc_script.sh"
   ]
  },
  {
   "cell_type": "markdown",
   "id": "13bc65bf-9767-4106-87ed-64c2d8f99227",
   "metadata": {},
   "source": [
    "### Trimming with trimgalore\n",
    "We will now trimming the reads that we downloaded. This tool filters poor quality reads and trims poor quality bases from the specified samples the quality."
   ]
  },
  {
   "cell_type": "code",
   "execution_count": 11,
   "id": "a9ce399c-33b8-4a34-a0ed-b2cd6d607554",
   "metadata": {},
   "outputs": [],
   "source": [
    "# Crear el archivo de script\n",
    "with open(scripts_path + '/trim_script.sh', 'w') as f:\n",
    "    f.write('''#!/bin/bash\n",
    "# Usage: ./trims_cript.sh\n",
    "\n",
    "# Change to base directory and create necessary subdirectories\n",
    "cd $(dirname \"$(dirname \"$(readlink -f $0)\")\")\n",
    "mkdir -p trimmed logs/trim\n",
    "\n",
    "# Loop through each _1.fastq.gz file in the 'raw' folder and its subdirectories\n",
    "for f1 in /home/jupyter-andres/MAGENTA/data/raw/*/*_1.fastq.gz; do\n",
    "  # Get the base name (e.g., SRR17658252 from SRR17658252_1.fastq.gz)\n",
    "  base_name=$(basename \"$f1\" \"_1.fastq.gz\")\n",
    "  \n",
    "  # Get the directory of the first file\n",
    "  dir=$(dirname \"$f1\")\n",
    "\n",
    "  # Define the second file (_2.fastq.gz) in the same directory\n",
    "  f2=\"${dir}/${base_name}_2.fastq.gz\"\n",
    "  \n",
    "  # Check if both files exist in the same directory\n",
    "  if [[ -f \"$f1\" && -f \"$f2\" ]]; then\n",
    "    # Check if the files haven't been trimmed yet\n",
    "    if [[ ! -f \"trimmed/${base_name}_1.fastq.gz\" ]]; then\n",
    "      echo $(date) ${base_name}\n",
    "      \n",
    "      # Trim the files\n",
    "      time trim_galore -o trimmed/ --basename ${base_name} --cores 4 \\\n",
    "        --paired --no_report_file \"$f1\" \"$f2\"\n",
    "\n",
    "      # Rename outputs\n",
    "      mv -v \"trimmed/${base_name}_val_1.fq.gz\" \"trimmed/${base_name}_1.fastq.gz\"\n",
    "      mv -v \"trimmed/${base_name}_val_2.fq.gz\" \"trimmed/${base_name}_2.fastq.gz\"\n",
    "    fi\n",
    "  else\n",
    "    echo \"Missing pair for ${base_name}, skipping...\"\n",
    "  fi\n",
    "\n",
    "done >> logs/trim/trim.log 2>&1\n",
    "\n",
    "''')\n"
   ]
  },
  {
   "cell_type": "code",
   "execution_count": 69,
   "id": "983ec416-3a5d-4162-ae33-d3c1233cbba4",
   "metadata": {},
   "outputs": [],
   "source": [
    "#usage sbatch trimgalore.Slurm <files directory>\n",
    "#example sbatch trimgalore.Slurm trim/trim_error"
   ]
  },
  {
   "cell_type": "code",
   "execution_count": 59,
   "id": "cf24c8a6-c06b-4789-a31f-92af03e3ae58",
   "metadata": {},
   "outputs": [],
   "source": [
    "# Change the script's execution permissions\n",
    "! chmod a+x /home/jupyter-andres/MAGENTA/scripts/trim_script.sh"
   ]
  },
  {
   "cell_type": "markdown",
   "id": "96bc3ce2-e21f-4441-86e9-ac407efc7465",
   "metadata": {},
   "source": [
    "activate the enviroment conda activate /miniconda3/envs/trim_galore"
   ]
  },
  {
   "cell_type": "markdown",
   "id": "e0e484dc-d0c2-40ba-8631-0fe71eec1202",
   "metadata": {},
   "source": [
    "#### rerun fastqc in trimmed fastq"
   ]
  },
  {
   "cell_type": "code",
   "execution_count": 16,
   "id": "89590c1d-2a18-4456-8b6d-ed9efec95163",
   "metadata": {},
   "outputs": [],
   "source": [
    "# Crear el archivo de script\n",
    "with open(scripts_path + '/run_fastqc_trimmed_script.sh', 'w') as f:\n",
    "    f.write(f'''#!/bin/bash\n",
    "\n",
    "# Change to base directory and create necessary subdirectories\n",
    "cd $(dirname \"$(dirname \"$(readlink -f $0)\")\")\n",
    "mkdir -p logs/fastqc/\n",
    "\n",
    "# Activate conda environment\n",
    "echo conda activate /miniconda3/envs/metagenomics \n",
    "\n",
    "# Change to the working directory\n",
    "cd $workspace_path\n",
    "\n",
    "# Iterate over each subdirectory in the workspace_path\n",
    "for dir in $(ls -d */); do\n",
    "    # Remove the trailing slash to get the directory name\n",
    "    dir_name=\"${{dir%/}}\"\n",
    "    \n",
    "    # Create a directory for FastQC output if it doesn't exist\n",
    "    mkdir -p \"$magenta_path/results/00.fastqc/${{dir_name}}_fastqc_trimmed\"\n",
    "    \n",
    "    # Run FastQC on all FASTQ files in the current subdirectory of workspace_path\n",
    "    fastqc \"$trimmed_data_path/\"*.fastq* -o \"$magenta_path/results/00.fastqc/${{dir_name}}_fastqc_trimmed\"\n",
    "    \n",
    "done >> $magenta_path/logs/fastqc/fastqc_trim.log 2>&1\n",
    "''')"
   ]
  },
  {
   "cell_type": "code",
   "execution_count": 29,
   "id": "d291bda1-b2cc-42fb-af6e-31265fc7ed94",
   "metadata": {},
   "outputs": [],
   "source": [
    "# Change the script's execution permissions\n",
    "! chmod a+x /home/jupyter-andres/MAGENTA/scripts/run_fastqc_trimmed_script.sh"
   ]
  },
  {
   "cell_type": "markdown",
   "id": "c75c14ed-2a1a-41ba-bd19-377c4af29c14",
   "metadata": {},
   "source": [
    "## Corremos el ensamble\n"
   ]
  },
  {
   "cell_type": "code",
   "execution_count": 45,
   "id": "df2d7cfa-2f79-4d9d-af39-f0048ab71d89",
   "metadata": {},
   "outputs": [],
   "source": [
    "with open(scripts_path + '/run_assembly_script.sh', 'w') as f:\n",
    "    f.write('''#!/bin/bash\n",
    "\n",
    "\n",
    "# Change to base directory and create necessary subdirectories\n",
    "cd $(dirname \"$(dirname \"$(readlink -f $0)\")\")\n",
    "mkdir -p logs/assembly/ /files/magenta/assemblies/\n",
    "\n",
    "# Activate conda environment\n",
    "echo conda activate /miniconda3/envs/metagenomics \n",
    "\n",
    "# Loop through each _1.fastq.gz file in the 'raw' folder and its subdirectories\n",
    "for f1 in /home/jupyter-andres/MAGENTA/trimmed/*_1.fastq.gz; do\n",
    "  # Get the base name (e.g., SRR17658252 from SRR17658252_1.fastq.gz)\n",
    "  base_name=$(basename \"$f1\" \"_1.fastq.gz\")\n",
    "\n",
    "  # Get the directory of the first file\n",
    "  dir=$(dirname \"$f1\")\n",
    "\n",
    "  # Define the second file (_2.fastq.gz) in the same directory\n",
    "  f2=\"${dir}/${base_name}_2.fastq.gz\"\n",
    "  \n",
    "  # Check if both files exist in the same directory\n",
    "  if [[ -f \"$f1\" && -f \"$f2\" ]]; then\n",
    "    # Create output directory for this assembly\n",
    "    output_dir=\"/files/magenta/assemblies/${base_name}_assembled\"\n",
    "    mkdir -p \"$output_dir\"\n",
    "\n",
    "    # Assemble the files if not already assembled\n",
    "    if [[ ! -f \"${output_dir}/contigs.fasta\" ]]; then\n",
    "      echo \"$(date) - Assembling ${base_name}...\"\n",
    "      \n",
    "      # Run SPAdes\n",
    "      spades.py --meta -1 \"$f1\" -2 \"$f2\" -o \"$output_dir\"\n",
    "    else\n",
    "      echo \"$(date) - Assembly already exists for ${base_name}, skipping...\"\n",
    "    fi\n",
    "  else\n",
    "    echo \"$(date) - Missing pair for ${base_name}, skipping...\"\n",
    "  fi\n",
    "done >> \"logs/assembly/assembly.log\" 2>&1\n",
    "''')\n"
   ]
  },
  {
   "cell_type": "code",
   "execution_count": 19,
   "id": "3a8df8e7-77f0-4c7f-a9af-1ce646c56f8d",
   "metadata": {},
   "outputs": [],
   "source": [
    "! chmod a+x /home/jupyter-andres/MAGENTA/scripts/run_assembly_script.sh"
   ]
  },
  {
   "cell_type": "markdown",
   "id": "671feeb7-aac7-4e87-8a01-4bb627329dd4",
   "metadata": {},
   "source": [
    "####  Con megahit"
   ]
  },
  {
   "cell_type": "code",
   "execution_count": 8,
   "id": "1534d894-6344-4398-9264-bf47135f1ac6",
   "metadata": {},
   "outputs": [],
   "source": [
    "with open(scripts_path + '/run_megahit_script.sh', 'w') as f:\n",
    "    f.write('''#!/bin/bash\n",
    "\n",
    "# Define input and output directories\n",
    "INPUT_DIR=$(realpath \"$1\")\n",
    "OUTPUT_DIR=$(realpath \"$2\")\n",
    "\n",
    "# Define contigs storage directory\n",
    "CONTIGS_DIR=\"/files/magenta/assemblies/contigs\"\n",
    "mkdir -p \"$CONTIGS_DIR\"\n",
    "\n",
    "# Check if input directory exists\n",
    "if [[ ! -d \"$INPUT_DIR\" ]]; then\n",
    "    echo \"Error: Input directory '$INPUT_DIR' does not exist.\"\n",
    "    exit 1\n",
    "fi\n",
    "\n",
    "# Create output directory if it doesn't exist\n",
    "mkdir -p \"$OUTPUT_DIR\"\n",
    "\n",
    "# Get only the input folder name (without absolute path)\n",
    "INPUT_NAME=$(basename \"$1\")\n",
    "LOG_FILE=\"logs/assembly/megahit_${INPUT_NAME}.log\"\n",
    "\n",
    "# Create log directory if it doesn't exist\n",
    "mkdir -p \"$(dirname \"$LOG_FILE\")\"\n",
    "\n",
    "# Activate conda environment\n",
    "echo \"Activating MEGAHIT environment...\"\n",
    "echo \"conda activate /miniconda3/envs/megahit\"\n",
    "\n",
    "# Loop through each _1.fastq.gz file in the input folder\n",
    "for f1 in \"$INPUT_DIR\"/*_1.fastq.gz; do\n",
    "    # Get the base name (e.g., SRR17658252 from SRR17658252_1.fastq.gz)\n",
    "    base_name=$(basename \"$f1\" \"_1.fastq.gz\")\n",
    "\n",
    "    # Define the second file (_2.fastq.gz)\n",
    "    f2=\"${INPUT_DIR}/${base_name}_2.fastq.gz\"\n",
    "\n",
    "    # Check if both files exist\n",
    "    if [[ -f \"$f1\" && -f \"$f2\" ]]; then\n",
    "        # Define output directory for this assembly\n",
    "        sample_output_dir=\"${OUTPUT_DIR}/${base_name}_assembled\"\n",
    "\n",
    "        # Run assembly if it does not already exist\n",
    "        if [[ ! -f \"${sample_output_dir}/${base_name}.contigs.fa\" ]]; then\n",
    "            echo \"$(date) - Assembling ${base_name}...\"\n",
    "\n",
    "            # Run MEGAHIT\n",
    "            megahit -1 \"$f1\" -2 \"$f2\" --min-contig-len 500 -t 5 -m 0.2 \\\n",
    "                --presets meta-large --kmin-1pass --out-prefix \"$base_name\" -o \"$sample_output_dir\"\n",
    "\n",
    "            # Check if assembly was successful\n",
    "            if [[ -f \"${sample_output_dir}/${base_name}.contigs.fa\" ]]; then\n",
    "                echo \"$(date) - Assembly completed for ${base_name}. Moving contigs...\"\n",
    "                \n",
    "                # Move contigs to final directory\n",
    "                mv \"${sample_output_dir}/${base_name}.contigs.fa\" \"$CONTIGS_DIR/${base_name}.contigs.fa\"\n",
    "                \n",
    "                # Remove assembly directory\n",
    "                rm -rf \"$sample_output_dir\"\n",
    "                echo \"$(date) - Removed temporary assembly folder for ${base_name}.\"\n",
    "            else\n",
    "                echo \"$(date) - Assembly failed or contigs.fasta not found for ${base_name}.\"\n",
    "            fi\n",
    "        else\n",
    "            echo \"$(date) - Assembly already exists for ${base_name}, skipping...\"\n",
    "        fi\n",
    "    else\n",
    "        echo \"$(date) - Missing pair for ${base_name}, skipping...\"\n",
    "    fi\n",
    "done >> \"$LOG_FILE\" 2>&1\n",
    "''')\n"
   ]
  },
  {
   "cell_type": "markdown",
   "id": "e8abeea0-8c9f-405f-b4fe-486407fbe87c",
   "metadata": {},
   "source": [
    "usamos el --kmin-1pass y el --presets meta-large porque hubo problemas de memoria "
   ]
  },
  {
   "cell_type": "code",
   "execution_count": 46,
   "id": "b77e1a62-db1d-447f-8442-3cf8c1815be3",
   "metadata": {},
   "outputs": [],
   "source": [
    "! chmod a+x /home/jupyter-andres/MAGENTA/scripts/run_megahit_script.sh"
   ]
  },
  {
   "cell_type": "markdown",
   "id": "57deec38-f144-44ad-a085-0919f624dc3e",
   "metadata": {},
   "source": [
    "#### Annotation with prokka "
   ]
  },
  {
   "cell_type": "code",
   "execution_count": 65,
   "id": "ae476ad1-27f4-4042-bd13-a0880c3d17f8",
   "metadata": {},
   "outputs": [],
   "source": [
    "with open(scripts_path + '/run_prokka_script.sh', 'w') as f:\n",
    "    f.write('''#!/bin/bash\n",
    "\n",
    "# Usage: ./prokka.sh [-g] -i input_folder -o output_dir\n",
    "\n",
    "set -e\n",
    "\n",
    "genomic=false\n",
    "\n",
    "# Parse arguments\n",
    "while [[ \"$#\" -gt 1 ]]; do\n",
    "  case $1 in\n",
    "    -g) genomic=true;;\n",
    "    -i) input_folder=\"$2\"; shift;;\n",
    "    -o) output_dir=\"$2\"; shift;;\n",
    "  esac\n",
    "  shift\n",
    "done\n",
    "\n",
    "# Verify parameters\n",
    "if [ -z \"$input_folder\" ]; then >&2 echo \"ERROR: Missing input folder\"; exit 1; fi\n",
    "if [ -z \"$output_dir\" ]; then >&2 echo \"ERROR: Missing output directory\"; exit 1; fi\n",
    "\n",
    "# Verify that input folder exists\n",
    "if [[ ! -d \"$input_folder\" ]]; then >&2 echo \"ERROR: Input folder $input_folder doesn't exist\"; exit 1; fi\n",
    "\n",
    "# Check that Prokka command exists\n",
    "if ! command -v prokka &> /dev/null; then\n",
    "  >&2 echo \"ERROR: Prokka command not found\"; exit 1\n",
    "fi\n",
    "\n",
    "# Process each FASTA file in the input folder\n",
    "for inp in \"$input_folder\"/*.fasta \"$input_folder\"/*.fa; do\n",
    "  # Skip if no matching files are found\n",
    "  if [[ ! -e \"$inp\" ]]; then continue; fi\n",
    "  \n",
    "  # Get filename without extension\n",
    "  sample_name=$(basename \"$inp\" | sed 's/\\.[^.]*$//')\n",
    "  out=\"$output_dir/$sample_name\"\n",
    "  \n",
    "  echo $(date +\"%D %T:\") \"Annotation of $sample_name with Prokka started\"\n",
    "  \n",
    "  # Create output directory\n",
    "  #mkdir -p \"$out\"\n",
    "  \n",
    "  # Run Prokka\n",
    "  if [[ $genomic == true ]]; then\n",
    "    prokka --outdir \"$out\" --prefix \"$sample_name\" --cpus 5 \"$inp\" > /dev/null 2>&1\n",
    "  else\n",
    "    prokka --outdir \"$out\" --prefix \"$sample_name\" --metagenome --cpus 8 \"$inp\"\n",
    "  fi\n",
    "  \n",
    "  echo $(date +\"%D %T:\") \"Annotation of $sample_name with Prokka finished\"\n",
    "done\n",
    "''')"
   ]
  },
  {
   "cell_type": "code",
   "execution_count": 63,
   "id": "449e896c-adbc-4716-86c3-41ffa2558f96",
   "metadata": {},
   "outputs": [],
   "source": [
    "! chmod a+x /home/jupyter-andres/MAGENTA/scripts/run_prokka_script.sh"
   ]
  },
  {
   "cell_type": "markdown",
   "id": "2848504c-bc1d-4e87-8e48-961288e04e21",
   "metadata": {},
   "source": [
    "Rawdata: 141 files (70 pair data, except for SRR6056507)\n",
    "Trimmed: 126 files (With only one file: ERR4833478, SRR17658255, SRR17658259, SRR17658263, SRR17658264, SRR17658268, SRR17658274, SRR17658283, SRR17658288. SRR17658295. SRR17658297, SRR17658298, SRR17658299, SRR24201529) (With different name: SRR17658252 (1,2), SRR17658263)"
   ]
  },
  {
   "cell_type": "code",
   "execution_count": 19,
   "id": "7504aab6-16f9-4cd7-af18-4b7ad8e88a7f",
   "metadata": {},
   "outputs": [
    {
     "name": "stdout",
     "output_type": "stream",
     "text": [
      "141\n"
     ]
    }
   ],
   "source": [
    "# contar Archivos crudos Rawdata\n",
    "! ls -ltr /files/magenta/rawdata/*/* | wc -l"
   ]
  },
  {
   "cell_type": "code",
   "execution_count": 14,
   "id": "63f4bcc5-5893-45e2-9cb4-b9c952dcc6e6",
   "metadata": {},
   "outputs": [
    {
     "name": "stdout",
     "output_type": "stream",
     "text": [
      "SRR6056507\n"
     ]
    }
   ],
   "source": [
    "# Archivos crudos Rawdata (Sin par)\n",
    "! ls /files/magenta/rawdata/*/*.fastq.gz | grep -oP \"(SRR|ERR)\\d+\" |  uniq -u #SRR6056507"
   ]
  },
  {
   "cell_type": "code",
   "execution_count": 38,
   "id": "dee94590-eab1-4d27-a272-9f3e5108c131",
   "metadata": {},
   "outputs": [],
   "source": [
    "# Archivos trimmed (Sin Par)\n",
    "! ls /home/jupyter-andres/MAGENTA/trimmed/*/* | grep -oP \"(SRR|ERR)\\d+\" |  uniq -u \n",
    "\n",
    "#ERR4833478\n",
    "#SRR17658255\n",
    "#SRR17658259\n",
    "#SRR17658263\n",
    "#SRR17658264\n",
    "#SRR17658268\n",
    "#SRR17658274\n",
    "#SRR17658283\n",
    "#SRR17658288\n",
    "#SRR17658295\n",
    "#SRR17658297\n",
    "#SRR17658298\n",
    "#SRR17658299\n",
    "#SRR24201529"
   ]
  },
  {
   "cell_type": "code",
   "execution_count": 45,
   "id": "c3cb58d5-3f27-4471-8eff-9455ec9de431",
   "metadata": {},
   "outputs": [
    {
     "name": "stdout",
     "output_type": "stream",
     "text": [
      "ERR4833474\n",
      "ERR4833475\n",
      "ERR4833476\n",
      "ERR4833477\n",
      "ERR4833480\n",
      "ERR4833481\n",
      "ERR4833482\n",
      "SRR12150540\n",
      "SRR17658256\n",
      "SRR17658257\n",
      "SRR17658258\n",
      "SRR17658260\n",
      "SRR17658261\n",
      "SRR17658262\n",
      "SRR17658265\n"
     ]
    }
   ],
   "source": [
    "# Verificar archivos ensamblados en assemblies/contigs. \n",
    "! ls /files/magenta/assemblies/contigs/*.contigs.fa | grep -oP \"(SRR|ERR)\\d+\" | sort -u"
   ]
  },
  {
   "cell_type": "code",
   "execution_count": 35,
   "id": "9ac34216-b8e6-4422-b0a8-358bbca5e8e8",
   "metadata": {},
   "outputs": [
    {
     "name": "stdout",
     "output_type": "stream",
     "text": [
      "15\n"
     ]
    }
   ],
   "source": [
    "# contar los ensambles completados\n",
    "! ls /files/magenta/assemblies/contigs/*.contigs.fa | grep -oP \"(SRR|ERR)\\d+\" | sort -u | wc -l"
   ]
  },
  {
   "cell_type": "code",
   "execution_count": 66,
   "id": "da6a1333-9cca-4030-8ce4-d1828c550ecb",
   "metadata": {},
   "outputs": [],
   "source": [
    "# Comando para identificar cuales archivos trimmed fueron ensamblados para liberar espacio\n",
    "# funciona solo en la terminal\n",
    "# Una vez que verifiques que los archivos son correctos agrega -delete en el find para borrarlos\n",
    "! ls /files/magenta/assemblies/contigs/*.contigs.fa | grep -oP \"(SRR|ERR)\\d+\" | sort -u | while read id; do find /home/jupyter-andres/MAGENTA/trimmed/*/* -type f -name \"*$id*\"; done"
   ]
  },
  {
   "cell_type": "markdown",
   "id": "820417aa-f391-4f4d-9c50-57497ec6d9a8",
   "metadata": {},
   "source": [
    "#### Corrupted files\n",
    "- SRR17658263_1 (discarded*)\n",
    "  \n",
    "*The file could not be trimmed"
   ]
  },
  {
   "cell_type": "code",
   "execution_count": null,
   "id": "088633df-d623-4f5e-88a2-928cb3135dc0",
   "metadata": {},
   "outputs": [],
   "source": []
  }
 ],
 "metadata": {
  "kernelspec": {
   "display_name": "Python 3 (ipykernel)",
   "language": "python",
   "name": "python3"
  },
  "language_info": {
   "codemirror_mode": {
    "name": "ipython",
    "version": 3
   },
   "file_extension": ".py",
   "mimetype": "text/x-python",
   "name": "python",
   "nbconvert_exporter": "python",
   "pygments_lexer": "ipython3",
   "version": "3.10.10"
  }
 },
 "nbformat": 4,
 "nbformat_minor": 5
}
